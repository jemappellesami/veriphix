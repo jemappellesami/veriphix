{
 "cells": [
  {
   "cell_type": "code",
   "execution_count": 1,
   "metadata": {},
   "outputs": [
    {
     "name": "stderr",
     "output_type": "stream",
     "text": [
      "/Users/sabdulsa/Codes/veriphix/.venv/lib/python3.12/site-packages/cotengra/hyperoptimizers/hyper.py:33: UserWarning: Couldn't import `kahypar` - skipping from default hyper optimizer and using basic `labels` method instead.\n",
      "  warnings.warn(\n"
     ]
    }
   ],
   "source": [
    "import graphix.command\n",
    "from graphix.random_objects import Circuit, rand_circuit\n",
    "from graphix.states import BasicStates\n",
    "from graphix.sim.density_matrix import DensityMatrixBackend\n",
    "from graphix.sim.statevec import StatevectorBackend, Statevec\n",
    "from graphix.pauli import Pauli\n",
    "from graphix.fundamentals import IXYZ\n",
    "import stim\n",
    "from veriphix.client import Client, Secrets, CircuitUtils\n",
    "import veriphix.client\n",
    "import numpy as np"
   ]
  },
  {
   "cell_type": "markdown",
   "metadata": {},
   "source": [
    "Stim to Pattern"
   ]
  },
  {
   "cell_type": "code",
   "execution_count": 91,
   "metadata": {},
   "outputs": [
    {
     "name": "stdout",
     "output_type": "stream",
     "text": [
      "The pattern has graphix.pattern.Pattern object with 972 commands and 8 output qubits\n",
      "Pattern on 226 nodes\n",
      "yyy\n"
     ]
    }
   ],
   "source": [
    "n = 8\n",
    "for _ in range(1) :\n",
    "    rd_circ_graphix = Circuit(n)\n",
    "    rd_tableau = stim.Tableau.random(n)\n",
    "\n",
    "    pattern = CircuitUtils.tableau_to_pattern(rd_tableau)\n",
    "\n",
    "    print(f\"The pattern has {pattern}\")\n",
    "\n",
    "    input_string = rd_tableau.inverse()(stim.PauliString(\"X\"*n))\n",
    "    sign_error = input_string.sign.real == -1\n",
    "    input_state = [\n",
    "        Pauli(IXYZ(pauli)).eigenstate() for pauli in input_string\n",
    "    ]\n",
    "\n",
    "    print(f\"Pattern on {pattern.n_node} nodes\")\n",
    "    # pattern.standardize()\n",
    "    pattern.minimize_space()\n",
    "\n",
    "    # byproduct_db = veriphix.client.get_byproduct_db(pattern=pattern)\n",
    "    # print(byproduct_db)\n",
    "    # # pattern.get_byproduct_db()\n",
    "    # # pattern.standardize()\n",
    "\n",
    "\n",
    "    # print(pattern.output_nodes)\n",
    "    # ## Measure output nodes, to have classical output\n",
    "    classical_output = pattern.output_nodes\n",
    "    for onode in classical_output:\n",
    "        pattern.add(graphix.command.M(node=onode))\n",
    "\n",
    "    # pattern.print_pattern(lim=150)\n",
    "    # print(classical_output)\n",
    "\n",
    "    backend = DensityMatrixBackend()\n",
    "    pattern.simulate_pattern(backend=backend, input_state=input_state)\n",
    "\n",
    "    \n",
    "    if sum([pattern.results[i] for i in classical_output])%2 ^ sign_error == 0 :\n",
    "        print(\"yyy\")\n"
   ]
  },
  {
   "cell_type": "code",
   "execution_count": 24,
   "metadata": {},
   "outputs": [
    {
     "name": "stdout",
     "output_type": "stream",
     "text": [
      "q0: -X-@-X---@-@---X---------------------\n",
      "     | | |   | |   |\n",
      "q1: -|-|-|-H-X-|-H-@-S-H-@---------------\n",
      "     | | |     |         |\n",
      "q2: -@-X-@-H---X-------H-X-S-H-S-H-S-S-H-\n",
      "q0: -X-@-X---@-@---X---------------------\n",
      "     | | |   | |   |\n",
      "q1: -|-|-|-H-X-|-H-@-S-H-@---------------\n",
      "     | | |     |         |\n",
      "q2: -@-X-@-H---X-------H-X-S-H-S-H-S-S-H-\n"
     ]
    },
    {
     "data": {
      "image/svg+xml": [
       "<svg viewBox=\"0 0 1248 288\"  version=\"1.1\" xmlns=\"http://www.w3.org/2000/svg\">\n",
       "<g id=\"qubit_lines\">\n",
       "<path id=\"qubit_line:0\" d=\"M64,64 L1216,64 \" stroke=\"black\"/>\n",
       "<text dominant-baseline=\"central\" text-anchor=\"end\" font-family=\"monospace\" font-size=\"12\" x=\"64\" y=\"64\">q0</text>\n",
       "<path id=\"qubit_line:1\" d=\"M64,128 L1216,128 \" stroke=\"black\"/>\n",
       "<text dominant-baseline=\"central\" text-anchor=\"end\" font-family=\"monospace\" font-size=\"12\" x=\"64\" y=\"128\">q1</text>\n",
       "<path id=\"qubit_line:2\" d=\"M64,192 L1216,192 \" stroke=\"black\"/>\n",
       "<text dominant-baseline=\"central\" text-anchor=\"end\" font-family=\"monospace\" font-size=\"12\" x=\"64\" y=\"192\">q2</text>\n",
       "</g>\n",
       "<path d=\"M96,64 L96,192 \" stroke=\"black\"/>\n",
       "<circle cx=\"96\" cy=\"192\" r=\"12\" stroke=\"none\" fill=\"black\"/>\n",
       "<circle cx=\"96\" cy=\"64\" r=\"12\" stroke=\"black\" fill=\"white\"/>\n",
       "<path d=\"M84,64 L108,64 M96,52 L96,76 \" stroke=\"black\"/>\n",
       "<path d=\"M160,64 L160,192 \" stroke=\"black\"/>\n",
       "<circle cx=\"160\" cy=\"64\" r=\"12\" stroke=\"none\" fill=\"black\"/>\n",
       "<circle cx=\"160\" cy=\"192\" r=\"12\" stroke=\"black\" fill=\"white\"/>\n",
       "<path d=\"M148,192 L172,192 M160,180 L160,204 \" stroke=\"black\"/>\n",
       "<path d=\"M224,64 L224,192 \" stroke=\"black\"/>\n",
       "<circle cx=\"224\" cy=\"192\" r=\"12\" stroke=\"none\" fill=\"black\"/>\n",
       "<circle cx=\"224\" cy=\"64\" r=\"12\" stroke=\"black\" fill=\"white\"/>\n",
       "<path d=\"M212,64 L236,64 M224,52 L224,76 \" stroke=\"black\"/>\n",
       "<rect x=\"272\" y=\"112\" width=\"32\" height=\"32\" stroke=\"black\" fill=\"white\"/>\n",
       "<text dominant-baseline=\"central\" text-anchor=\"middle\" font-family=\"monospace\" font-size=\"30\" x=\"288\" y=\"128\">H</text>\n",
       "<rect x=\"272\" y=\"176\" width=\"32\" height=\"32\" stroke=\"black\" fill=\"white\"/>\n",
       "<text dominant-baseline=\"central\" text-anchor=\"middle\" font-family=\"monospace\" font-size=\"30\" x=\"288\" y=\"192\">H</text>\n",
       "<path d=\"M352,64 L352,128 \" stroke=\"black\"/>\n",
       "<circle cx=\"352\" cy=\"64\" r=\"12\" stroke=\"none\" fill=\"black\"/>\n",
       "<circle cx=\"352\" cy=\"128\" r=\"12\" stroke=\"black\" fill=\"white\"/>\n",
       "<path d=\"M340,128 L364,128 M352,116 L352,140 \" stroke=\"black\"/>\n",
       "<path d=\"M416,64 L416,192 \" stroke=\"black\"/>\n",
       "<circle cx=\"416\" cy=\"64\" r=\"12\" stroke=\"none\" fill=\"black\"/>\n",
       "<circle cx=\"416\" cy=\"192\" r=\"12\" stroke=\"black\" fill=\"white\"/>\n",
       "<path d=\"M404,192 L428,192 M416,180 L416,204 \" stroke=\"black\"/>\n",
       "<rect x=\"464\" y=\"112\" width=\"32\" height=\"32\" stroke=\"black\" fill=\"white\"/>\n",
       "<text dominant-baseline=\"central\" text-anchor=\"middle\" font-family=\"monospace\" font-size=\"30\" x=\"480\" y=\"128\">H</text>\n",
       "<path d=\"M544,64 L544,128 \" stroke=\"black\"/>\n",
       "<circle cx=\"544\" cy=\"128\" r=\"12\" stroke=\"none\" fill=\"black\"/>\n",
       "<circle cx=\"544\" cy=\"64\" r=\"12\" stroke=\"black\" fill=\"white\"/>\n",
       "<path d=\"M532,64 L556,64 M544,52 L544,76 \" stroke=\"black\"/>\n",
       "<rect x=\"592\" y=\"112\" width=\"32\" height=\"32\" stroke=\"black\" fill=\"white\"/>\n",
       "<text dominant-baseline=\"central\" text-anchor=\"middle\" font-family=\"monospace\" font-size=\"30\" x=\"608\" y=\"128\">S</text>\n",
       "<rect x=\"656\" y=\"112\" width=\"32\" height=\"32\" stroke=\"black\" fill=\"white\"/>\n",
       "<text dominant-baseline=\"central\" text-anchor=\"middle\" font-family=\"monospace\" font-size=\"30\" x=\"672\" y=\"128\">H</text>\n",
       "<rect x=\"656\" y=\"176\" width=\"32\" height=\"32\" stroke=\"black\" fill=\"white\"/>\n",
       "<text dominant-baseline=\"central\" text-anchor=\"middle\" font-family=\"monospace\" font-size=\"30\" x=\"672\" y=\"192\">H</text>\n",
       "<path d=\"M736,128 L736,192 \" stroke=\"black\"/>\n",
       "<circle cx=\"736\" cy=\"128\" r=\"12\" stroke=\"none\" fill=\"black\"/>\n",
       "<circle cx=\"736\" cy=\"192\" r=\"12\" stroke=\"black\" fill=\"white\"/>\n",
       "<path d=\"M724,192 L748,192 M736,180 L736,204 \" stroke=\"black\"/>\n",
       "<rect x=\"784\" y=\"176\" width=\"32\" height=\"32\" stroke=\"black\" fill=\"white\"/>\n",
       "<text dominant-baseline=\"central\" text-anchor=\"middle\" font-family=\"monospace\" font-size=\"30\" x=\"800\" y=\"192\">S</text>\n",
       "<rect x=\"848\" y=\"176\" width=\"32\" height=\"32\" stroke=\"black\" fill=\"white\"/>\n",
       "<text dominant-baseline=\"central\" text-anchor=\"middle\" font-family=\"monospace\" font-size=\"30\" x=\"864\" y=\"192\">H</text>\n",
       "<rect x=\"912\" y=\"176\" width=\"32\" height=\"32\" stroke=\"black\" fill=\"white\"/>\n",
       "<text dominant-baseline=\"central\" text-anchor=\"middle\" font-family=\"monospace\" font-size=\"30\" x=\"928\" y=\"192\">S</text>\n",
       "<rect x=\"976\" y=\"176\" width=\"32\" height=\"32\" stroke=\"black\" fill=\"white\"/>\n",
       "<text dominant-baseline=\"central\" text-anchor=\"middle\" font-family=\"monospace\" font-size=\"30\" x=\"992\" y=\"192\">H</text>\n",
       "<rect x=\"1040\" y=\"176\" width=\"32\" height=\"32\" stroke=\"black\" fill=\"white\"/>\n",
       "<text dominant-baseline=\"central\" text-anchor=\"middle\" font-family=\"monospace\" font-size=\"30\" x=\"1056\" y=\"192\">S</text>\n",
       "<rect x=\"1104\" y=\"176\" width=\"32\" height=\"32\" stroke=\"black\" fill=\"white\"/>\n",
       "<text dominant-baseline=\"central\" text-anchor=\"middle\" font-family=\"monospace\" font-size=\"30\" x=\"1120\" y=\"192\">S</text>\n",
       "<rect x=\"1168\" y=\"176\" width=\"32\" height=\"32\" stroke=\"black\" fill=\"white\"/>\n",
       "<text dominant-baseline=\"central\" text-anchor=\"middle\" font-family=\"monospace\" font-size=\"30\" x=\"1184\" y=\"192\">H</text>\n",
       "</svg>"
      ],
      "text/plain": [
       "<svg viewBox=\"0 0 1248 288\"  version=\"1.1\" xmlns=\"http://www.w3.org/2000/svg\">\n",
       "<g id=\"qubit_lines\">\n",
       "<path id=\"qubit_line:0\" d=\"M64,64 L1216,64 \" stroke=\"black\"/>\n",
       "<text dominant-baseline=\"central\" text-anchor=\"end\" font-family=\"monospace\" font-size=\"12\" x=\"64\" y=\"64\">q0</text>\n",
       "<path id=\"qubit_line:1\" d=\"M64,128 L1216,128 \" stroke=\"black\"/>\n",
       "<text dominant-baseline=\"central\" text-anchor=\"end\" font-family=\"monospace\" font-size=\"12\" x=\"64\" y=\"128\">q1</text>\n",
       "<path id=\"qubit_line:2\" d=\"M64,192 L1216,192 \" stroke=\"black\"/>\n",
       "<text dominant-baseline=\"central\" text-anchor=\"end\" font-family=\"monospace\" font-size=\"12\" x=\"64\" y=\"192\">q2</text>\n",
       "</g>\n",
       "<path d=\"M96,64 L96,192 \" stroke=\"black\"/>\n",
       "<circle cx=\"96\" cy=\"192\" r=\"12\" stroke=\"none\" fill=\"black\"/>\n",
       "<circle cx=\"96\" cy=\"64\" r=\"12\" stroke=\"black\" fill=\"white\"/>\n",
       "<path d=\"M84,64 L108,64 M96,52 L96,76 \" stroke=\"black\"/>\n",
       "<path d=\"M160,64 L160,192 \" stroke=\"black\"/>\n",
       "<circle cx=\"160\" cy=\"64\" r=\"12\" stroke=\"none\" fill=\"black\"/>\n",
       "<circle cx=\"160\" cy=\"192\" r=\"12\" stroke=\"black\" fill=\"white\"/>\n",
       "<path d=\"M148,192 L172,192 M160,180 L160,204 \" stroke=\"black\"/>\n",
       "<path d=\"M224,64 L224,192 \" stroke=\"black\"/>\n",
       "<circle cx=\"224\" cy=\"192\" r=\"12\" stroke=\"none\" fill=\"black\"/>\n",
       "<circle cx=\"224\" cy=\"64\" r=\"12\" stroke=\"black\" fill=\"white\"/>\n",
       "<path d=\"M212,64 L236,64 M224,52 L224,76 \" stroke=\"black\"/>\n",
       "<rect x=\"272\" y=\"112\" width=\"32\" height=\"32\" stroke=\"black\" fill=\"white\"/>\n",
       "<text dominant-baseline=\"central\" text-anchor=\"middle\" font-family=\"monospace\" font-size=\"30\" x=\"288\" y=\"128\">H</text>\n",
       "<rect x=\"272\" y=\"176\" width=\"32\" height=\"32\" stroke=\"black\" fill=\"white\"/>\n",
       "<text dominant-baseline=\"central\" text-anchor=\"middle\" font-family=\"monospace\" font-size=\"30\" x=\"288\" y=\"192\">H</text>\n",
       "<path d=\"M352,64 L352,128 \" stroke=\"black\"/>\n",
       "<circle cx=\"352\" cy=\"64\" r=\"12\" stroke=\"none\" fill=\"black\"/>\n",
       "<circle cx=\"352\" cy=\"128\" r=\"12\" stroke=\"black\" fill=\"white\"/>\n",
       "<path d=\"M340,128 L364,128 M352,116 L352,140 \" stroke=\"black\"/>\n",
       "<path d=\"M416,64 L416,192 \" stroke=\"black\"/>\n",
       "<circle cx=\"416\" cy=\"64\" r=\"12\" stroke=\"none\" fill=\"black\"/>\n",
       "<circle cx=\"416\" cy=\"192\" r=\"12\" stroke=\"black\" fill=\"white\"/>\n",
       "<path d=\"M404,192 L428,192 M416,180 L416,204 \" stroke=\"black\"/>\n",
       "<rect x=\"464\" y=\"112\" width=\"32\" height=\"32\" stroke=\"black\" fill=\"white\"/>\n",
       "<text dominant-baseline=\"central\" text-anchor=\"middle\" font-family=\"monospace\" font-size=\"30\" x=\"480\" y=\"128\">H</text>\n",
       "<path d=\"M544,64 L544,128 \" stroke=\"black\"/>\n",
       "<circle cx=\"544\" cy=\"128\" r=\"12\" stroke=\"none\" fill=\"black\"/>\n",
       "<circle cx=\"544\" cy=\"64\" r=\"12\" stroke=\"black\" fill=\"white\"/>\n",
       "<path d=\"M532,64 L556,64 M544,52 L544,76 \" stroke=\"black\"/>\n",
       "<rect x=\"592\" y=\"112\" width=\"32\" height=\"32\" stroke=\"black\" fill=\"white\"/>\n",
       "<text dominant-baseline=\"central\" text-anchor=\"middle\" font-family=\"monospace\" font-size=\"30\" x=\"608\" y=\"128\">S</text>\n",
       "<rect x=\"656\" y=\"112\" width=\"32\" height=\"32\" stroke=\"black\" fill=\"white\"/>\n",
       "<text dominant-baseline=\"central\" text-anchor=\"middle\" font-family=\"monospace\" font-size=\"30\" x=\"672\" y=\"128\">H</text>\n",
       "<rect x=\"656\" y=\"176\" width=\"32\" height=\"32\" stroke=\"black\" fill=\"white\"/>\n",
       "<text dominant-baseline=\"central\" text-anchor=\"middle\" font-family=\"monospace\" font-size=\"30\" x=\"672\" y=\"192\">H</text>\n",
       "<path d=\"M736,128 L736,192 \" stroke=\"black\"/>\n",
       "<circle cx=\"736\" cy=\"128\" r=\"12\" stroke=\"none\" fill=\"black\"/>\n",
       "<circle cx=\"736\" cy=\"192\" r=\"12\" stroke=\"black\" fill=\"white\"/>\n",
       "<path d=\"M724,192 L748,192 M736,180 L736,204 \" stroke=\"black\"/>\n",
       "<rect x=\"784\" y=\"176\" width=\"32\" height=\"32\" stroke=\"black\" fill=\"white\"/>\n",
       "<text dominant-baseline=\"central\" text-anchor=\"middle\" font-family=\"monospace\" font-size=\"30\" x=\"800\" y=\"192\">S</text>\n",
       "<rect x=\"848\" y=\"176\" width=\"32\" height=\"32\" stroke=\"black\" fill=\"white\"/>\n",
       "<text dominant-baseline=\"central\" text-anchor=\"middle\" font-family=\"monospace\" font-size=\"30\" x=\"864\" y=\"192\">H</text>\n",
       "<rect x=\"912\" y=\"176\" width=\"32\" height=\"32\" stroke=\"black\" fill=\"white\"/>\n",
       "<text dominant-baseline=\"central\" text-anchor=\"middle\" font-family=\"monospace\" font-size=\"30\" x=\"928\" y=\"192\">S</text>\n",
       "<rect x=\"976\" y=\"176\" width=\"32\" height=\"32\" stroke=\"black\" fill=\"white\"/>\n",
       "<text dominant-baseline=\"central\" text-anchor=\"middle\" font-family=\"monospace\" font-size=\"30\" x=\"992\" y=\"192\">H</text>\n",
       "<rect x=\"1040\" y=\"176\" width=\"32\" height=\"32\" stroke=\"black\" fill=\"white\"/>\n",
       "<text dominant-baseline=\"central\" text-anchor=\"middle\" font-family=\"monospace\" font-size=\"30\" x=\"1056\" y=\"192\">S</text>\n",
       "<rect x=\"1104\" y=\"176\" width=\"32\" height=\"32\" stroke=\"black\" fill=\"white\"/>\n",
       "<text dominant-baseline=\"central\" text-anchor=\"middle\" font-family=\"monospace\" font-size=\"30\" x=\"1120\" y=\"192\">S</text>\n",
       "<rect x=\"1168\" y=\"176\" width=\"32\" height=\"32\" stroke=\"black\" fill=\"white\"/>\n",
       "<text dominant-baseline=\"central\" text-anchor=\"middle\" font-family=\"monospace\" font-size=\"30\" x=\"1184\" y=\"192\">H</text>\n",
       "</svg>"
      ]
     },
     "execution_count": 24,
     "metadata": {},
     "output_type": "execute_result"
    }
   ],
   "source": [
    "n = 3\n",
    "rd_circ_graphix = Circuit(n)\n",
    "rd_tableau = stim.Tableau.random(n)\n",
    "# pattern = CircuitUtils.tableau_to_pattern(rd_tableau)\n",
    "\n",
    "\n",
    "other_circuit = stim.Circuit()\n",
    "rd_circ = rd_tableau.to_circuit()\n",
    "# print(rd_circ)\n",
    "for i in rd_circ:\n",
    "    if i.name == \"H\":\n",
    "        for t in i.target_groups():\n",
    "            qubit = t[0].value\n",
    "            # print(f\"Hadamard on {qubit}\")\n",
    "            rd_circ_graphix.h(qubit)\n",
    "            other_circuit.append(\"H\", qubit)\n",
    "            # print(qubit)\n",
    "    if i.name == \"S\":\n",
    "        # print(\"S on \")\n",
    "        for t in i.target_groups():\n",
    "            qubit = t[0].value\n",
    "            rd_circ_graphix.s(qubit)\n",
    "            other_circuit.append(\"S\", qubit)\n",
    "            # print(f\"S on {qubit}\")\n",
    "            # print(qubit)\n",
    "    if i.name == \"CX\":\n",
    "        for t in i.target_groups():\n",
    "            ctrl, targ = t[0].value, t[1].value\n",
    "\n",
    "            rd_circ_graphix.cnot(control=ctrl, target=targ)\n",
    "            other_circuit.append(\"CX\", [ctrl, targ])\n",
    "            # print(f\"CX_(c,t) on {ctrl, targ} \")\n",
    "            # print(ctrl, targ)\n",
    "print(rd_circ.diagram())\n",
    "print(other_circuit.diagram())\n",
    "other_circuit.diagram(type=\"timeline-svg\")\n",
    "\n"
   ]
  },
  {
   "cell_type": "markdown",
   "metadata": {},
   "source": [
    "Generating the corresponding +1-eigenstate"
   ]
  },
  {
   "cell_type": "code",
   "execution_count": 12,
   "metadata": {},
   "outputs": [
    {
     "name": "stdout",
     "output_type": "stream",
     "text": [
      "+Y__\n",
      "[graphix.states.PlanarState(Plane.XY, 1.5707963267948966), graphix.states.PlanarState(Plane.XY, 0.0), graphix.states.PlanarState(Plane.XY, 0.0)]\n"
     ]
    }
   ],
   "source": [
    "# input_stabilizer = rd_tableau.inverse_x_output(0)\n",
    "\n",
    "inverse_rd_tableau = rd_tableau.inverse()\n",
    "reverse_string = inverse_rd_tableau(stim.PauliString(\"X\"*n))\n",
    "stim.Circuit\n",
    "state = []\n",
    "for pauli in reverse_string:\n",
    "    operator = Pauli(IXYZ(pauli))\n",
    "    state.append(operator.eigenstate())\n",
    "print(reverse_string)\n",
    "print(state)"
   ]
  },
  {
   "cell_type": "markdown",
   "metadata": {},
   "source": [
    "Running the pattern on the +1-eigenstate as input, and print(\"yyy\") if it works"
   ]
  },
  {
   "cell_type": "code",
   "execution_count": 122,
   "metadata": {},
   "outputs": [
    {
     "name": "stdout",
     "output_type": "stream",
     "text": [
      "Pattern on 198 nodes\n",
      "[181, 185, 189, 193, 128, 197, 177]\n",
      "[181, 185, 189, 193, 128, 197, 177]\n"
     ]
    }
   ],
   "source": [
    "pattern = rd_circ_graphix.transpile().pattern\n",
    "print(f\"Pattern on {pattern.n_node} nodes\")\n",
    "pattern.minimize_space()\n",
    "\n",
    "\n",
    "print(pattern.output_nodes)\n",
    "## Measure output nodes, to have classical output\n",
    "classical_output = pattern.output_nodes\n",
    "for onode in classical_output:\n",
    "    pattern.add(graphix.command.M(node=onode))\n",
    "\n",
    "print(classical_output)\n",
    "\n",
    "pattern.simulate_pattern(backend=\"densitymatrix\", input_state=state)\n",
    "if sum([pattern.results[i] for i in classical_output])%2 == 0 :\n",
    "    print(\"yyy\")"
   ]
  },
  {
   "cell_type": "code",
   "execution_count": 7,
   "metadata": {},
   "outputs": [
    {
     "name": "stdout",
     "output_type": "stream",
     "text": [
      "Number of nodes in the pattern : 865\n",
      "Number of occurrences of output '00' : 1\n"
     ]
    }
   ],
   "source": [
    "\n",
    "nqubits = 2\n",
    "depth = 100\n",
    "circuit = rand_circuit(nqubits, depth)\n",
    "pattern = circuit.transpile().pattern \n",
    "pattern.minimize_space()\n",
    "\n",
    "print(f\"Number of nodes in the pattern : {pattern.n_node}\")\n",
    "\n",
    "## Measure output nodes, to have classical output\n",
    "classical_output = pattern.output_nodes\n",
    "for onode in classical_output:\n",
    "    pattern.add(graphix.command.M(node=onode))\n",
    "\n",
    "\n",
    "\n",
    "secrets = Secrets(r=True, a=True, theta=True)\n",
    "client = Client(pattern=pattern, secrets=secrets)\n",
    "\n",
    "n_good_output = 0\n",
    "\n",
    "for _i in range(1):\n",
    "    backend = DensityMatrixBackend()\n",
    "    client.delegate_pattern(backend=backend)"
   ]
  }
 ],
 "metadata": {
  "kernelspec": {
   "display_name": ".venv",
   "language": "python",
   "name": "python3"
  },
  "language_info": {
   "codemirror_mode": {
    "name": "ipython",
    "version": 3
   },
   "file_extension": ".py",
   "mimetype": "text/x-python",
   "name": "python",
   "nbconvert_exporter": "python",
   "pygments_lexer": "ipython3",
   "version": "3.12.4"
  }
 },
 "nbformat": 4,
 "nbformat_minor": 2
}
