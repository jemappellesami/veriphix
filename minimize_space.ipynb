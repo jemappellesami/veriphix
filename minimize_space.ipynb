{
 "cells": [
  {
   "cell_type": "markdown",
   "metadata": {},
   "source": [
    "This works"
   ]
  },
  {
   "cell_type": "code",
   "execution_count": 16,
   "metadata": {},
   "outputs": [],
   "source": [
    "import graphix.command\n",
    "from graphix.random_objects import Circuit, rand_circuit\n",
    "from graphix.states import BasicStates\n",
    "from graphix.sim.density_matrix import DensityMatrixBackend\n",
    "from graphix.sim.statevec import StatevectorBackend, Statevec\n",
    "from graphix.pauli import Pauli\n",
    "from graphix.fundamentals import IXYZ\n",
    "import stim\n",
    "from veriphix.client import Client, Secrets, CircuitUtils\n",
    "import veriphix.client\n",
    "import numpy as np\n",
    "import random"
   ]
  },
  {
   "cell_type": "code",
   "execution_count": 12,
   "metadata": {},
   "outputs": [
    {
     "name": "stdout",
     "output_type": "stream",
     "text": [
      "Number of nodes in the pattern : 1056\n"
     ]
    }
   ],
   "source": [
    "nqubits = 4\n",
    "depth = 80\n",
    "circuit = rand_circuit(nqubits, depth)\n",
    "pattern = circuit.transpile().pattern \n",
    "pattern.minimize_space()\n",
    "\n",
    "print(f\"Number of nodes in the pattern : {pattern.n_node}\")\n",
    "\n",
    "## Measure output nodes, to have classical output\n",
    "classical_output = pattern.output_nodes\n",
    "for onode in classical_output:\n",
    "    pattern.add(graphix.command.M(node=onode))\n"
   ]
  },
  {
   "cell_type": "code",
   "execution_count": 19,
   "metadata": {},
   "outputs": [
    {
     "name": "stdout",
     "output_type": "stream",
     "text": [
      "0\n"
     ]
    }
   ],
   "source": [
    "secrets = Secrets(r=True, a=True, theta=True)\n",
    "client = Client(pattern=pattern, secrets=secrets)\n",
    "runs = client.create_test_runs()\n",
    "\n",
    "for _i in range(1):\n",
    "    # Noiseless DM backend\n",
    "    backend = DensityMatrixBackend()\n",
    "    \n",
    "    # Delegate the computation run and one test run\n",
    "    # client.delegate_pattern(backend=backend)\n",
    "\n",
    "    rd_run = random.choice(runs)\n",
    "    trap_outcomes = client.delegate_test_run(backend=backend, run=rd_run)\n",
    "\n",
    "    print(sum(trap_outcomes)) # should output 0 (noiseless simulation)"
   ]
  }
 ],
 "metadata": {
  "kernelspec": {
   "display_name": ".venv",
   "language": "python",
   "name": "python3"
  },
  "language_info": {
   "codemirror_mode": {
    "name": "ipython",
    "version": 3
   },
   "file_extension": ".py",
   "mimetype": "text/x-python",
   "name": "python",
   "nbconvert_exporter": "python",
   "pygments_lexer": "ipython3",
   "version": "3.12.4"
  }
 },
 "nbformat": 4,
 "nbformat_minor": 2
}
