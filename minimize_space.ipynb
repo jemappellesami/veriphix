{
 "cells": [
  {
   "cell_type": "markdown",
   "metadata": {},
   "source": [
    "For this to work, the following changes need to be done to graphix: in `base_backend.py`"
   ]
  },
  {
   "cell_type": "markdown",
   "metadata": {},
   "source": [
    "First, in `__init__()`, add the line `self.preparation_bank = dict()` to create this new `preparation_bank` attribute. The constructor should look like"
   ]
  },
  {
   "cell_type": "code",
   "execution_count": null,
   "metadata": {},
   "outputs": [],
   "source": [
    "def __init__(\n",
    "        self,\n",
    "        state: State,\n",
    "        node_index: NodeIndex | None = None,\n",
    "        pr_calc: bool = True,\n",
    "        rng: Generator | None = None,\n",
    "    ):\n",
    "        \"\"\"Construct a backend.\n",
    "\n",
    "        Parameters\n",
    "        ----------\n",
    "            pr_calc : bool\n",
    "                whether or not to compute the probability distribution before choosing the measurement result.\n",
    "                if False, measurements yield results 0/1 with 50% probabilities each.\n",
    "            node_index : NodeIndex\n",
    "                mapping between node numbers and qubit indices in the internal state of the backend.\n",
    "            state : State\n",
    "                internal state of the backend: instance of Statevec, DensityMatrix, or MBQCTensorNet.\n",
    "\n",
    "        \"\"\"\n",
    "        self.__state = state\n",
    "        if node_index is None:\n",
    "            self.__node_index = NodeIndex()\n",
    "        else:\n",
    "            self.__node_index = node_index.copy()\n",
    "        if not isinstance(pr_calc, bool):\n",
    "            raise TypeError(\"`pr_calc` should be bool\")\n",
    "        \n",
    "        self.preparation_bank = dict()\n",
    "\n",
    "        # whether to compute the probability\n",
    "        self.__pr_calc = pr_calc\n",
    "        self.__rng = ensure_rng(rng)"
   ]
  },
  {
   "cell_type": "markdown",
   "metadata": {},
   "source": [
    "Then: change the `add_nodes` method to the following"
   ]
  },
  {
   "cell_type": "code",
   "execution_count": null,
   "metadata": {},
   "outputs": [],
   "source": [
    "def add_nodes(self, nodes, data=BasicStates.PLUS) -> None:\n",
    "    \"\"\"Add new qubit(s) to statevector in argument and assign the corresponding node number to list self.node_index.\n",
    "\n",
    "    Parameters\n",
    "    ----------\n",
    "    nodes : list of node indices\n",
    "    \"\"\"\n",
    "    # print(self.preparation_bank)\n",
    "    # print(self.state)\n",
    "    normal_nodes = []\n",
    "    normal_data = []\n",
    "    for node in nodes:\n",
    "        if node in self.preparation_bank:\n",
    "            self.state.add_nodes(nqubit=1, data=self.preparation_bank[node])\n",
    "            self.node_index.extend([node])\n",
    "        else:\n",
    "            # if node != 0:\n",
    "            #     print(\"Adding node not in bank ???\")\n",
    "            normal_nodes.append(node)\n",
    "            idx = nodes.index(node)\n",
    "            if isinstance(data, list):\n",
    "                normal_data.append(data[idx])\n",
    "            else:\n",
    "                normal_data.append(data)\n",
    "\n",
    "    self.state.add_nodes(nqubit=len(normal_nodes), data=normal_data)\n",
    "    self.node_index.extend(normal_nodes)\n"
   ]
  },
  {
   "cell_type": "markdown",
   "metadata": {},
   "source": [
    "Then, this works"
   ]
  },
  {
   "cell_type": "code",
   "execution_count": 1,
   "metadata": {},
   "outputs": [
    {
     "name": "stderr",
     "output_type": "stream",
     "text": [
      "/Users/sabdulsa/Codes/veriphix/.venv/lib/python3.12/site-packages/cotengra/hyperoptimizers/hyper.py:33: UserWarning: Couldn't import `kahypar` - skipping from default hyper optimizer and using basic `labels` method instead.\n",
      "  warnings.warn(\n"
     ]
    }
   ],
   "source": [
    "import graphix.command\n",
    "from graphix.random_objects import Circuit, rand_circuit\n",
    "from graphix.states import BasicStates\n",
    "from graphix.sim.density_matrix import DensityMatrixBackend\n",
    "from graphix.sim.statevec import StatevectorBackend, Statevec\n",
    "from graphix.pauli import Pauli\n",
    "from graphix.fundamentals import IXYZ\n",
    "import stim\n",
    "from veriphix.client import Client, Secrets, CircuitUtils\n",
    "import veriphix.client\n",
    "import numpy as np"
   ]
  },
  {
   "cell_type": "code",
   "execution_count": 2,
   "metadata": {},
   "outputs": [
    {
     "name": "stdout",
     "output_type": "stream",
     "text": [
      "Number of nodes in the pattern : 870\n"
     ]
    }
   ],
   "source": [
    "\n",
    "nqubits = 2\n",
    "depth = 100\n",
    "circuit = rand_circuit(nqubits, depth)\n",
    "pattern = circuit.transpile().pattern \n",
    "pattern.minimize_space()\n",
    "\n",
    "print(f\"Number of nodes in the pattern : {pattern.n_node}\")\n",
    "\n",
    "## Measure output nodes, to have classical output\n",
    "classical_output = pattern.output_nodes\n",
    "for onode in classical_output:\n",
    "    pattern.add(graphix.command.M(node=onode))\n",
    "\n",
    "\n",
    "\n",
    "secrets = Secrets(r=True, a=True, theta=True)\n",
    "client = Client(pattern=pattern, secrets=secrets)\n",
    "\n",
    "n_good_output = 0\n",
    "\n",
    "for _i in range(1):\n",
    "    backend = DensityMatrixBackend()\n",
    "    client.delegate_pattern(backend=backend)"
   ]
  }
 ],
 "metadata": {
  "kernelspec": {
   "display_name": ".venv",
   "language": "python",
   "name": "python3"
  },
  "language_info": {
   "codemirror_mode": {
    "name": "ipython",
    "version": 3
   },
   "file_extension": ".py",
   "mimetype": "text/x-python",
   "name": "python",
   "nbconvert_exporter": "python",
   "pygments_lexer": "ipython3",
   "version": "3.12.4"
  }
 },
 "nbformat": 4,
 "nbformat_minor": 2
}
