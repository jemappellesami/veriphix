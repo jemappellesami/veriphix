{
 "cells": [
  {
   "cell_type": "markdown",
   "metadata": {},
   "source": [
    "This works"
   ]
  },
  {
   "cell_type": "code",
   "execution_count": 1,
   "metadata": {},
   "outputs": [
    {
     "name": "stderr",
     "output_type": "stream",
     "text": [
      "/Users/sabdulsa/Codes/veriphix/.venv/lib/python3.12/site-packages/cotengra/hyperoptimizers/hyper.py:33: UserWarning: Couldn't import `kahypar` - skipping from default hyper optimizer and using basic `labels` method instead.\n",
      "  warnings.warn(\n"
     ]
    }
   ],
   "source": [
    "import graphix.command\n",
    "from graphix.random_objects import Circuit, rand_circuit\n",
    "from graphix.states import BasicStates\n",
    "from graphix.sim.density_matrix import DensityMatrixBackend\n",
    "from graphix.sim.statevec import StatevectorBackend, Statevec\n",
    "from graphix.pauli import Pauli\n",
    "from graphix.fundamentals import IXYZ\n",
    "import stim\n",
    "from veriphix.client import Client, Secrets, CircuitUtils\n",
    "import veriphix.client\n",
    "import numpy as np"
   ]
  },
  {
   "cell_type": "code",
   "execution_count": 2,
   "metadata": {},
   "outputs": [
    {
     "name": "stdout",
     "output_type": "stream",
     "text": [
      "Number of nodes in the pattern : 870\n"
     ]
    }
   ],
   "source": [
    "\n",
    "nqubits = 2\n",
    "depth = 100\n",
    "circuit = rand_circuit(nqubits, depth)\n",
    "pattern = circuit.transpile().pattern \n",
    "pattern.minimize_space()\n",
    "\n",
    "print(f\"Number of nodes in the pattern : {pattern.n_node}\")\n",
    "\n",
    "## Measure output nodes, to have classical output\n",
    "classical_output = pattern.output_nodes\n",
    "for onode in classical_output:\n",
    "    pattern.add(graphix.command.M(node=onode))\n",
    "\n",
    "\n",
    "\n",
    "secrets = Secrets(r=True, a=True, theta=True)\n",
    "client = Client(pattern=pattern, secrets=secrets)\n",
    "\n",
    "n_good_output = 0\n",
    "\n",
    "for _i in range(1):\n",
    "    backend = DensityMatrixBackend()\n",
    "    client.delegate_pattern(backend=backend)"
   ]
  }
 ],
 "metadata": {
  "kernelspec": {
   "display_name": ".venv",
   "language": "python",
   "name": "python3"
  },
  "language_info": {
   "codemirror_mode": {
    "name": "ipython",
    "version": 3
   },
   "file_extension": ".py",
   "mimetype": "text/x-python",
   "name": "python",
   "nbconvert_exporter": "python",
   "pygments_lexer": "ipython3",
   "version": "3.12.4"
  }
 },
 "nbformat": 4,
 "nbformat_minor": 2
}
