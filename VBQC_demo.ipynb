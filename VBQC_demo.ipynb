{
 "cells": [
  {
   "cell_type": "markdown",
   "metadata": {},
   "source": [
    "### How to verify the execution of a MBQC pattern ?\n",
    "Let the following circuit."
   ]
  },
  {
   "cell_type": "code",
   "execution_count": 1,
   "metadata": {},
   "outputs": [
    {
     "name": "stderr",
     "output_type": "stream",
     "text": [
      "/Users/sabdulsa/Codes/veriphix/.venv/lib/python3.12/site-packages/cotengra/hyperoptimizers/hyper.py:33: UserWarning: Couldn't import `kahypar` - skipping from default hyper optimizer and using basic `labels` method instead.\n",
      "  warnings.warn(\n"
     ]
    },
    {
     "name": "stdout",
     "output_type": "stream",
     "text": [
      "[4, 5]\n"
     ]
    }
   ],
   "source": [
    "from graphix.random_objects import rand_circuit, Circuit\n",
    "import graphix.command\n",
    "import numpy as np\n",
    "from graphix.states import BasicStates\n",
    "\n",
    "\n",
    "nqubits = 2\n",
    "\n",
    "## This circuit, with |0> states as inputs, yields deterministic outcomes (BQP error p =0)\n",
    "## (6-nodes pattern)\n",
    "circuit = Circuit(nqubits)\n",
    "circuit.cnot(0,1)\n",
    "circuit.h(0)\n",
    "circuit.h(1)\n",
    "states = [BasicStates.ZERO for _ in range(nqubits)]\n",
    "\n",
    "\n",
    "## This circuit, with |+> states as inputs, yields deterministic outcomes (BQP error p =0)\n",
    "## (8-nodes pattern)\n",
    "# circuit = Circuit(nqubits)\n",
    "# circuit.h(0)\n",
    "# circuit.h(1)\n",
    "# circuit.cnot(0,1)\n",
    "# circuit.h(0)\n",
    "# circuit.h(1)\n",
    "# states = [BasicStates.PLUS for _ in range(nqubits)]\n",
    "\n",
    "pattern = circuit.transpile().pattern\n",
    "pattern.standardize()\n",
    "\n",
    "classical_output = pattern.output_nodes\n",
    "print(classical_output)\n",
    "# don't forget to add in the output nodes that are not initially measured!\n",
    "for onode in classical_output:\n",
    "    pattern.add(graphix.command.M(node=onode))"
   ]
  },
  {
   "cell_type": "code",
   "execution_count": 2,
   "metadata": {},
   "outputs": [
    {
     "name": "stdout",
     "output_type": "stream",
     "text": [
      "The graph of the pattern has 6 nodes.\n",
      "There are 6 traps in total. (VBQC uses single-qubit traps)\n"
     ]
    }
   ],
   "source": [
    "from veriphix.client import Client, Secrets\n",
    "\n",
    "\n",
    "secrets = Secrets(r=True, a=True, theta=True)\n",
    "\n",
    "client = Client(pattern=pattern, secrets=secrets, input_state=states)\n",
    "\n",
    "test_runs = client.create_test_runs()\n",
    "number_of_traps = sum([len(run.trap_qubits)\n",
    "                    for run in test_runs])\n",
    "# should be = len(client.graph[0])\n",
    "n_nodes = len(client.graph[0])\n",
    "print(f\"The graph of the pattern has {n_nodes} nodes.\")\n",
    "print(f\"There are {number_of_traps} traps in total. (VBQC uses single-qubit traps)\")"
   ]
  },
  {
   "cell_type": "markdown",
   "metadata": {},
   "source": [
    "## Concrete VBQC example"
   ]
  },
  {
   "cell_type": "markdown",
   "metadata": {},
   "source": [
    "### Performing the simulation"
   ]
  },
  {
   "cell_type": "code",
   "execution_count": 3,
   "metadata": {},
   "outputs": [],
   "source": [
    "import random as rd\n",
    "from noise_model import VBQCNoiseModel\n",
    "from graphix.sim.density_matrix import DensityMatrixBackend\n",
    "from graphix.sim.statevec import StatevectorBackend\n",
    "import matplotlib.pyplot as plt\n",
    "import random as rd\n",
    "import numpy as np\n",
    "from random import randint"
   ]
  },
  {
   "cell_type": "code",
   "execution_count": 4,
   "metadata": {},
   "outputs": [
    {
     "name": "stdout",
     "output_type": "stream",
     "text": [
      "Iterating 2000 times with 1000 computation rounds and 1000 trap rounds.\n",
      "Attempt with noise model p=0\n",
      "Attempt with noise model p=0.01\n",
      "Attempt with noise model p=0.02\n",
      "Attempt with noise model p=0.03\n",
      "Attempt with noise model p=0.05\n",
      "Attempt with noise model p=0.07\n",
      "Attempt with noise model p=0.1\n",
      "Attempt with noise model p=0.15\n",
      "Attempt with noise model p=0.2\n",
      "Attempt with noise model p=0.5\n",
      "Attempt with noise model p=1\n",
      "{0: 0.0, 0.01: 0.115, 0.02: 0.213, 0.03: 0.3, 0.05: 0.432, 0.07: 0.554, 0.1: 0.669, 0.15: 0.796, 0.2: 0.824, 0.5: 0.891, 1: 0.873}\n"
     ]
    }
   ],
   "source": [
    "import matplotlib.pyplot as plt\n",
    "import random as rd\n",
    "import numpy as np\n",
    "from matplotlib import cm  # Colormap\n",
    "from matplotlib.colors import LogNorm\n",
    "\n",
    "\n",
    "# Trappified scheme parameters\n",
    "d = 1000 # nr of computation rounds\n",
    "t = 1000 # nr of test rounds\n",
    "N = d + t\n",
    "rounds = list(range(N))\n",
    "rd.shuffle(rounds)\n",
    "\n",
    "# Re-setting the backend\n",
    "backend = DensityMatrixBackend()\n",
    "\n",
    "# Store data for each value of p\n",
    "all_histograms = {}\n",
    "failed_traps_histograms = {}\n",
    "\n",
    "# Example of multiple p values (noise levels)\n",
    "p_values = [0, 0.01, 0.02, 0.03, 0.05, 0.07, 0.1, 0.15, 0.2, 0.5, 1]\n",
    "\n",
    "print(f\"Iterating {N} times with {d} computation rounds and {t} trap rounds.\")\n",
    "for p in p_values:\n",
    "    noise=VBQCNoiseModel(\n",
    "        prepare_error_prob=p,\n",
    "        x_error_prob=p,\n",
    "        z_error_prob=p,\n",
    "        entanglement_error_prob=p,\n",
    "        measure_channel_prob=p,\n",
    "        measure_error_prob=p\n",
    "    )\n",
    "    print(f\"Attempt with noise model p={p}\")\n",
    "    outcomes_histogram = dict()\n",
    "\n",
    "    n_failed_traps = 0\n",
    "    for i in rounds:\n",
    "        if i < d:\n",
    "            # Computation round\n",
    "            # print(f\"Computation round {i}\")\n",
    "            client.refresh_randomness()\n",
    "            client.delegate_pattern(backend=backend, noise_model=noise)\n",
    "            computation_outcome = \"\"\n",
    "            for onode in classical_output:\n",
    "                computation_outcome += str(client.results[onode])\n",
    "            if computation_outcome not in outcomes_histogram:\n",
    "                outcomes_histogram[computation_outcome] = 1\n",
    "            else:\n",
    "                outcomes_histogram[computation_outcome] += 1\n",
    "        else:\n",
    "            # Test round\n",
    "            # print(f\"Test round {i}\")\n",
    "            run = rd.choice(test_runs)\n",
    "            client.refresh_randomness()\n",
    "            trap_outcomes = client.delegate_test_run(run=run, backend=backend, noise_model=noise)\n",
    "            # A trap round fails if one of the single-qubit traps failed\n",
    "            if sum(trap_outcomes) != 0:\n",
    "                n_failed_traps += 1\n",
    "\n",
    "    all_histograms[p] = outcomes_histogram\n",
    "    if t!= 0:\n",
    "        failed_traps_histograms[p]=n_failed_traps/(t)\n",
    "\n",
    "# Combine all unique outcomes from all histograms\n",
    "all_outcomes = sorted(set().union(*[hist.keys() for hist in all_histograms.values()]))\n",
    "print(failed_traps_histograms)\n"
   ]
  },
  {
   "cell_type": "markdown",
   "metadata": {},
   "source": [
    "Study BQP probability"
   ]
  },
  {
   "cell_type": "code",
   "execution_count": 5,
   "metadata": {},
   "outputs": [
    {
     "name": "stdout",
     "output_type": "stream",
     "text": [
      "p=0.0\n"
     ]
    }
   ],
   "source": [
    "winning_outcome = max(all_histograms[0], key=all_histograms[0].get)\n",
    "total_rounds = d\n",
    "p = 1- all_histograms[0][winning_outcome]/total_rounds\n",
    "print(f\"p={p}\")"
   ]
  },
  {
   "cell_type": "markdown",
   "metadata": {},
   "source": [
    "### Computing the threshold\n",
    "The client should reject the outcome if the proportion of traps is above the following threshold $\\tau$"
   ]
  },
  {
   "cell_type": "code",
   "execution_count": 6,
   "metadata": {},
   "outputs": [
    {
     "name": "stdout",
     "output_type": "stream",
     "text": [
      "tau = 0.25\n"
     ]
    }
   ],
   "source": [
    "k=2\n",
    "threshold = (1/k)*(2*p-1)/(2*p-2)\n",
    "print(f\"tau = {threshold}\")"
   ]
  },
  {
   "cell_type": "markdown",
   "metadata": {},
   "source": [
    "### Plotting the histograms (matplotlib)"
   ]
  },
  {
   "cell_type": "code",
   "execution_count": 7,
   "metadata": {},
   "outputs": [
    {
     "name": "stderr",
     "output_type": "stream",
     "text": [
      "/var/folders/n5/hv7xz3zn675bw8ckw4q5ll3cmp3czq/T/ipykernel_18900/815169949.py:3: MatplotlibDeprecationWarning: The get_cmap function was deprecated in Matplotlib 3.7 and will be removed in 3.11. Use ``matplotlib.colormaps[name]`` or ``matplotlib.colormaps.get_cmap()`` or ``pyplot.get_cmap()`` instead.\n",
      "  colormap = cm.get_cmap(colormap_name)\n"
     ]
    },
    {
     "data": {
      "image/png": "[encoded data removed]",
      "text/plain": [
       "<Figure size 1400x800 with 1 Axes>"
      ]
     },
     "metadata": {},
     "output_type": "display_data"
    }
   ],
   "source": [
    "# Function to get color based on p value\n",
    "def get_heatmap_color(p, colormap_name='coolwarm', vmin=0.1, vmax=1):\n",
    "    colormap = cm.get_cmap(colormap_name)\n",
    "    norm = LogNorm(vmin=vmin, vmax=vmax)  # Normalize p within [vmin, vmax]\n",
    "    return colormap(norm(p))  # Get color for normalized p\n",
    "# Plotting side-by-side bars with heatmap colors\n",
    "x = np.arange(len(all_outcomes))  # X positions for outcomes\n",
    "bar_width = 0.8 / len(p_values)  # Dynamic bar width based on the number of p values\n",
    "\n",
    "plt.figure(figsize=(14, 8))\n",
    "\n",
    "for idx, (p, histogram) in enumerate(all_histograms.items()):\n",
    "    frequencies = [histogram.get(outcome, 0) for outcome in all_outcomes]\n",
    "    color = get_heatmap_color(p+0.1)  # Get color based on p value\n",
    "    plt.bar(x + idx * bar_width, frequencies, bar_width, color=color, label=f'p={p}')\n",
    "\n",
    "plt.xlabel('Outcomes')\n",
    "plt.ylabel('Frequency')\n",
    "plt.title('Histogram of Outcomes for Different Noise Levels (BQP computation)')\n",
    "plt.xticks(x + bar_width * (len(p_values) - 1) / 2, all_outcomes, rotation=90)\n",
    "plt.legend()\n",
    "plt.show()\n"
   ]
  },
  {
   "cell_type": "markdown",
   "metadata": {},
   "source": [
    "### Plotting the results (plotly)"
   ]
  },
  {
   "cell_type": "markdown",
   "metadata": {},
   "source": [
    "### Histogram for the computation rounds"
   ]
  },
  {
   "cell_type": "code",
   "execution_count": 12,
   "metadata": {},
   "outputs": [
    {
     "name": "stderr",
     "output_type": "stream",
     "text": [
      "/var/folders/n5/hv7xz3zn675bw8ckw4q5ll3cmp3czq/T/ipykernel_18900/908283072.py:7: MatplotlibDeprecationWarning:\n",
      "\n",
      "The get_cmap function was deprecated in Matplotlib 3.7 and will be removed in 3.11. Use ``matplotlib.colormaps[name]`` or ``matplotlib.colormaps.get_cmap()`` or ``pyplot.get_cmap()`` instead.\n",
      "\n"
     ]
    },
    {
     "data": {
      "application/vnd.plotly.v1+json": {
       "config": {
        "plotlyServerURL": "https://plot.ly"
       },
       "data": [
        {
         "marker": {
          "color": [
           "#3b4cc0",
           "#3b4cc0",
           "#3b4cc0",
           "#3b4cc0"
          ]
         },
         "name": "p=0",
         "type": "bar",
         "visible": true,
         "x": [
          "00",
          "01",
          "10",
          "11"
         ],
         "y": [
          1000,
          0,
          0,
          0
         ]
        },
        {
         "marker": {
          "color": [
           "#465ecf",
           "#465ecf",
           "#465ecf",
           "#465ecf"
          ]
         },
         "name": "p=0.01",
         "type": "bar",
         "visible": true,
         "x": [
          "00",
          "01",
          "10",
          "11"
         ],
         "y": [
          905,
          65,
          25,
          5
         ]
        },
        {
         "marker": {
          "color": [
           "#536edd",
           "#536edd",
           "#536edd",
           "#536edd"
          ]
         },
         "name": "p=0.02",
         "type": "bar",
         "visible": true,
         "x": [
          "00",
          "01",
          "10",
          "11"
         ],
         "y": [
          806,
          112,
          58,
          24
         ]
        },
        {
         "marker": {
          "color": [
           "#5e7de7",
           "#5e7de7",
           "#5e7de7",
           "#5e7de7"
          ]
         },
         "name": "p=0.03",
         "type": "bar",
         "visible": true,
         "x": [
          "00",
          "01",
          "10",
          "11"
         ],
         "y": [
          720,
          175,
          74,
          31
         ]
        },
        {
         "marker": {
          "color": [
           "#7396f5",
           "#7396f5",
           "#7396f5",
           "#7396f5"
          ]
         },
         "name": "p=0.05",
         "type": "bar",
         "visible": true,
         "x": [
          "00",
          "01",
          "10",
          "11"
         ],
         "y": [
          590,
          214,
          126,
          70
         ]
        },
        {
         "marker": {
          "color": [
           "#85a8fc",
           "#85a8fc",
           "#85a8fc",
           "#85a8fc"
          ]
         },
         "name": "p=0.07",
         "type": "bar",
         "visible": true,
         "x": [
          "00",
          "01",
          "10",
          "11"
         ],
         "y": [
          525,
          254,
          134,
          87
         ]
        },
        {
         "marker": {
          "color": [
           "#9fbfff",
           "#9fbfff",
           "#9fbfff",
           "#9fbfff"
          ]
         },
         "name": "p=0.1",
         "type": "bar",
         "visible": true,
         "x": [
          "00",
          "01",
          "10",
          "11"
         ],
         "y": [
          421,
          291,
          157,
          131
         ]
        },
        {
         "marker": {
          "color": [
           "#bfd3f6",
           "#bfd3f6",
           "#bfd3f6",
           "#bfd3f6"
          ]
         },
         "name": "p=0.15",
         "type": "bar",
         "visible": true,
         "x": [
          "00",
          "01",
          "10",
          "11"
         ],
         "y": [
          302,
          290,
          220,
          188
         ]
        },
        {
         "marker": {
          "color": [
           "#d7dce3",
           "#d7dce3",
           "#d7dce3",
           "#d7dce3"
          ]
         },
         "name": "p=0.2",
         "type": "bar",
         "visible": true,
         "x": [
          "00",
          "01",
          "10",
          "11"
         ],
         "y": [
          286,
          271,
          240,
          203
         ]
        },
        {
         "marker": {
          "color": [
           "#f18d6f",
           "#f18d6f",
           "#f18d6f",
           "#f18d6f"
          ]
         },
         "name": "p=0.5",
         "type": "bar",
         "visible": true,
         "x": [
          "00",
          "01",
          "10",
          "11"
         ],
         "y": [
          270,
          257,
          262,
          211
         ]
        },
        {
         "marker": {
          "color": [
           "#b40426",
           "#b40426",
           "#b40426",
           "#b40426"
          ]
         },
         "name": "p=1",
         "type": "bar",
         "visible": true,
         "x": [
          "00",
          "01",
          "10",
          "11"
         ],
         "y": [
          224,
          259,
          254,
          263
         ]
        }
       ],
       "layout": {
        "template": {
         "data": {
          "bar": [
           {
            "error_x": {
             "color": "#2a3f5f"
            },
            "error_y": {
             "color": "#2a3f5f"
            },
            "marker": {
             "line": {
              "color": "#E5ECF6",
              "width": 0.5
             },
             "pattern": {
              "fillmode": "overlay",
              "size": 10,
              "solidity": 0.2
             }
            },
            "type": "bar"
           }
          ],
          "barpolar": [
           {
            "marker": {
             "line": {
              "color": "#E5ECF6",
              "width": 0.5
             },
             "pattern": {
              "fillmode": "overlay",
              "size": 10,
              "solidity": 0.2
             }
            },
            "type": "barpolar"
           }
          ],
          "carpet": [
           {
            "aaxis": {
             "endlinecolor": "#2a3f5f",
             "gridcolor": "white",
             "linecolor": "white",
             "minorgridcolor": "white",
             "startlinecolor": "#2a3f5f"
            },
            "baxis": {
             "endlinecolor": "#2a3f5f",
             "gridcolor": "white",
             "linecolor": "white",
             "minorgridcolor": "white",
             "startlinecolor": "#2a3f5f"
            },
            "type": "carpet"
           }
          ],
          "choropleth": [
           {
            "colorbar": {
             "outlinewidth": 0,
             "ticks": ""
            },
            "type": "choropleth"
           }
          ],
          "contour": [
           {
            "colorbar": {
             "outlinewidth": 0,
             "ticks": ""
            },
            "colorscale": [
             [
              0,
              "#0d0887"
             ],
             [
              0.1111111111111111,
              "#46039f"
             ],
             [
              0.2222222222222222,
              "#7201a8"
             ],
             [
              0.3333333333333333,
              "#9c179e"
             ],
             [
              0.4444444444444444,
              "#bd3786"
             ],
             [
              0.5555555555555556,
              "#d8576b"
             ],
             [
              0.6666666666666666,
              "#ed7953"
             ],
             [
              0.7777777777777778,
              "#fb9f3a"
             ],
             [
              0.8888888888888888,
              "#fdca26"
             ],
             [
              1,
              "#f0f921"
             ]
            ],
            "type": "contour"
           }
          ],
          "contourcarpet": [
           {
            "colorbar": {
             "outlinewidth": 0,
             "ticks": ""
            },
            "type": "contourcarpet"
           }
          ],
          "heatmap": [
           {
            "colorbar": {
             "outlinewidth": 0,
             "ticks": ""
            },
            "colorscale": [
             [
              0,
              "#0d0887"
             ],
             [
              0.1111111111111111,
              "#46039f"
             ],
             [
              0.2222222222222222,
              "#7201a8"
             ],
             [
              0.3333333333333333,
              "#9c179e"
             ],
             [
              0.4444444444444444,
              "#bd3786"
             ],
             [
              0.5555555555555556,
              "#d8576b"
             ],
             [
              0.6666666666666666,
              "#ed7953"
             ],
             [
              0.7777777777777778,
              "#fb9f3a"
             ],
             [
              0.8888888888888888,
              "#fdca26"
             ],
             [
              1,
              "#f0f921"
             ]
            ],
            "type": "heatmap"
           }
          ],
          "heatmapgl": [
           {
            "colorbar": {
             "outlinewidth": 0,
             "ticks": ""
            },
            "colorscale": [
             [
              0,
              "#0d0887"
             ],
             [
              0.1111111111111111,
              "#46039f"
             ],
             [
              0.2222222222222222,
              "#7201a8"
             ],
             [
              0.3333333333333333,
              "#9c179e"
             ],
             [
              0.4444444444444444,
              "#bd3786"
             ],
             [
              0.5555555555555556,
              "#d8576b"
             ],
             [
              0.6666666666666666,
              "#ed7953"
             ],
             [
              0.7777777777777778,
              "#fb9f3a"
             ],
             [
              0.8888888888888888,
              "#fdca26"
             ],
             [
              1,
              "#f0f921"
             ]
            ],
            "type": "heatmapgl"
           }
          ],
          "histogram": [
           {
            "marker": {
             "pattern": {
              "fillmode": "overlay",
              "size": 10,
              "solidity": 0.2
             }
            },
            "type": "histogram"
           }
          ],
          "histogram2d": [
           {
            "colorbar": {
             "outlinewidth": 0,
             "ticks": ""
            },
            "colorscale": [
             [
              0,
              "#0d0887"
             ],
             [
              0.1111111111111111,
              "#46039f"
             ],
             [
              0.2222222222222222,
              "#7201a8"
             ],
             [
              0.3333333333333333,
              "#9c179e"
             ],
             [
              0.4444444444444444,
              "#bd3786"
             ],
             [
              0.5555555555555556,
              "#d8576b"
             ],
             [
              0.6666666666666666,
              "#ed7953"
             ],
             [
              0.7777777777777778,
              "#fb9f3a"
             ],
             [
              0.8888888888888888,
              "#fdca26"
             ],
             [
              1,
              "#f0f921"
             ]
            ],
            "type": "histogram2d"
           }
          ],
          "histogram2dcontour": [
           {
            "colorbar": {
             "outlinewidth": 0,
             "ticks": ""
            },
            "colorscale": [
             [
              0,
              "#0d0887"
             ],
             [
              0.1111111111111111,
              "#46039f"
             ],
             [
              0.2222222222222222,
              "#7201a8"
             ],
             [
              0.3333333333333333,
              "#9c179e"
             ],
             [
              0.4444444444444444,
              "#bd3786"
             ],
             [
              0.5555555555555556,
              "#d8576b"
             ],
             [
              0.6666666666666666,
              "#ed7953"
             ],
             [
              0.7777777777777778,
              "#fb9f3a"
             ],
             [
              0.8888888888888888,
              "#fdca26"
             ],
             [
              1,
              "#f0f921"
             ]
            ],
            "type": "histogram2dcontour"
           }
          ],
          "mesh3d": [
           {
            "colorbar": {
             "outlinewidth": 0,
             "ticks": ""
            },
            "type": "mesh3d"
           }
          ],
          "parcoords": [
           {
            "line": {
             "colorbar": {
              "outlinewidth": 0,
              "ticks": ""
             }
            },
            "type": "parcoords"
           }
          ],
          "pie": [
           {
            "automargin": true,
            "type": "pie"
           }
          ],
          "scatter": [
           {
            "fillpattern": {
             "fillmode": "overlay",
             "size": 10,
             "solidity": 0.2
            },
            "type": "scatter"
           }
          ],
          "scatter3d": [
           {
            "line": {
             "colorbar": {
              "outlinewidth": 0,
              "ticks": ""
             }
            },
            "marker": {
             "colorbar": {
              "outlinewidth": 0,
              "ticks": ""
             }
            },
            "type": "scatter3d"
           }
          ],
          "scattercarpet": [
           {
            "marker": {
             "colorbar": {
              "outlinewidth": 0,
              "ticks": ""
             }
            },
            "type": "scattercarpet"
           }
          ],
          "scattergeo": [
           {
            "marker": {
             "colorbar": {
              "outlinewidth": 0,
              "ticks": ""
             }
            },
            "type": "scattergeo"
           }
          ],
          "scattergl": [
           {
            "marker": {
             "colorbar": {
              "outlinewidth": 0,
              "ticks": ""
             }
            },
            "type": "scattergl"
           }
          ],
          "scattermapbox": [
           {
            "marker": {
             "colorbar": {
              "outlinewidth": 0,
              "ticks": ""
             }
            },
            "type": "scattermapbox"
           }
          ],
          "scatterpolar": [
           {
            "marker": {
             "colorbar": {
              "outlinewidth": 0,
              "ticks": ""
             }
            },
            "type": "scatterpolar"
           }
          ],
          "scatterpolargl": [
           {
            "marker": {
             "colorbar": {
              "outlinewidth": 0,
              "ticks": ""
             }
            },
            "type": "scatterpolargl"
           }
          ],
          "scatterternary": [
           {
            "marker": {
             "colorbar": {
              "outlinewidth": 0,
              "ticks": ""
             }
            },
            "type": "scatterternary"
           }
          ],
          "surface": [
           {
            "colorbar": {
             "outlinewidth": 0,
             "ticks": ""
            },
            "colorscale": [
             [
              0,
              "#0d0887"
             ],
             [
              0.1111111111111111,
              "#46039f"
             ],
             [
              0.2222222222222222,
              "#7201a8"
             ],
             [
              0.3333333333333333,
              "#9c179e"
             ],
             [
              0.4444444444444444,
              "#bd3786"
             ],
             [
              0.5555555555555556,
              "#d8576b"
             ],
             [
              0.6666666666666666,
              "#ed7953"
             ],
             [
              0.7777777777777778,
              "#fb9f3a"
             ],
             [
              0.8888888888888888,
              "#fdca26"
             ],
             [
              1,
              "#f0f921"
             ]
            ],
            "type": "surface"
           }
          ],
          "table": [
           {
            "cells": {
             "fill": {
              "color": "#EBF0F8"
             },
             "line": {
              "color": "white"
             }
            },
            "header": {
             "fill": {
              "color": "#C8D4E3"
             },
             "line": {
              "color": "white"
             }
            },
            "type": "table"
           }
          ]
         },
         "layout": {
          "annotationdefaults": {
           "arrowcolor": "#2a3f5f",
           "arrowhead": 0,
           "arrowwidth": 1
          },
          "autotypenumbers": "strict",
          "coloraxis": {
           "colorbar": {
            "outlinewidth": 0,
            "ticks": ""
           }
          },
          "colorscale": {
           "diverging": [
            [
             0,
             "#8e0152"
            ],
            [
             0.1,
             "#c51b7d"
            ],
            [
             0.2,
             "#de77ae"
            ],
            [
             0.3,
             "#f1b6da"
            ],
            [
             0.4,
             "#fde0ef"
            ],
            [
             0.5,
             "#f7f7f7"
            ],
            [
             0.6,
             "#e6f5d0"
            ],
            [
             0.7,
             "#b8e186"
            ],
            [
             0.8,
             "#7fbc41"
            ],
            [
             0.9,
             "#4d9221"
            ],
            [
             1,
             "#276419"
            ]
           ],
           "sequential": [
            [
             0,
             "#0d0887"
            ],
            [
             0.1111111111111111,
             "#46039f"
            ],
            [
             0.2222222222222222,
             "#7201a8"
            ],
            [
             0.3333333333333333,
             "#9c179e"
            ],
            [
             0.4444444444444444,
             "#bd3786"
            ],
            [
             0.5555555555555556,
             "#d8576b"
            ],
            [
             0.6666666666666666,
             "#ed7953"
            ],
            [
             0.7777777777777778,
             "#fb9f3a"
            ],
            [
             0.8888888888888888,
             "#fdca26"
            ],
            [
             1,
             "#f0f921"
            ]
           ],
           "sequentialminus": [
            [
             0,
             "#0d0887"
            ],
            [
             0.1111111111111111,
             "#46039f"
            ],
            [
             0.2222222222222222,
             "#7201a8"
            ],
            [
             0.3333333333333333,
             "#9c179e"
            ],
            [
             0.4444444444444444,
             "#bd3786"
            ],
            [
             0.5555555555555556,
             "#d8576b"
            ],
            [
             0.6666666666666666,
             "#ed7953"
            ],
            [
             0.7777777777777778,
             "#fb9f3a"
            ],
            [
             0.8888888888888888,
             "#fdca26"
            ],
            [
             1,
             "#f0f921"
            ]
           ]
          },
          "colorway": [
           "#636efa",
           "#EF553B",
           "#00cc96",
           "#ab63fa",
           "#FFA15A",
           "#19d3f3",
           "#FF6692",
           "#B6E880",
           "#FF97FF",
           "#FECB52"
          ],
          "font": {
           "color": "#2a3f5f"
          },
          "geo": {
           "bgcolor": "white",
           "lakecolor": "white",
           "landcolor": "#E5ECF6",
           "showlakes": true,
           "showland": true,
           "subunitcolor": "white"
          },
          "hoverlabel": {
           "align": "left"
          },
          "hovermode": "closest",
          "mapbox": {
           "style": "light"
          },
          "paper_bgcolor": "white",
          "plot_bgcolor": "#E5ECF6",
          "polar": {
           "angularaxis": {
            "gridcolor": "white",
            "linecolor": "white",
            "ticks": ""
           },
           "bgcolor": "#E5ECF6",
           "radialaxis": {
            "gridcolor": "white",
            "linecolor": "white",
            "ticks": ""
           }
          },
          "scene": {
           "xaxis": {
            "backgroundcolor": "#E5ECF6",
            "gridcolor": "white",
            "gridwidth": 2,
            "linecolor": "white",
            "showbackground": true,
            "ticks": "",
            "zerolinecolor": "white"
           },
           "yaxis": {
            "backgroundcolor": "#E5ECF6",
            "gridcolor": "white",
            "gridwidth": 2,
            "linecolor": "white",
            "showbackground": true,
            "ticks": "",
            "zerolinecolor": "white"
           },
           "zaxis": {
            "backgroundcolor": "#E5ECF6",
            "gridcolor": "white",
            "gridwidth": 2,
            "linecolor": "white",
            "showbackground": true,
            "ticks": "",
            "zerolinecolor": "white"
           }
          },
          "shapedefaults": {
           "line": {
            "color": "#2a3f5f"
           }
          },
          "ternary": {
           "aaxis": {
            "gridcolor": "white",
            "linecolor": "white",
            "ticks": ""
           },
           "baxis": {
            "gridcolor": "white",
            "linecolor": "white",
            "ticks": ""
           },
           "bgcolor": "#E5ECF6",
           "caxis": {
            "gridcolor": "white",
            "linecolor": "white",
            "ticks": ""
           }
          },
          "title": {
           "x": 0.05
          },
          "xaxis": {
           "automargin": true,
           "gridcolor": "white",
           "linecolor": "white",
           "ticks": "",
           "title": {
            "standoff": 15
           },
           "zerolinecolor": "white",
           "zerolinewidth": 2
          },
          "yaxis": {
           "automargin": true,
           "gridcolor": "white",
           "linecolor": "white",
           "ticks": "",
           "title": {
            "standoff": 15
           },
           "zerolinecolor": "white",
           "zerolinewidth": 2
          }
         }
        },
        "title": {
         "text": "Output bitstring occurrences, per noise level p"
        },
        "updatemenus": [
         {
          "buttons": [
           {
            "args": [
             {
              "visible": [
               true,
               false,
               false,
               false,
               false,
               false,
               false,
               false,
               false,
               false,
               false
              ]
             }
            ],
            "label": "p= 0",
            "method": "update"
           },
           {
            "args": [
             {
              "visible": [
               false,
               true,
               false,
               false,
               false,
               false,
               false,
               false,
               false,
               false,
               false
              ]
             }
            ],
            "label": "p= 0.01",
            "method": "update"
           },
           {
            "args": [
             {
              "visible": [
               false,
               false,
               true,
               false,
               false,
               false,
               false,
               false,
               false,
               false,
               false
              ]
             }
            ],
            "label": "p= 0.02",
            "method": "update"
           },
           {
            "args": [
             {
              "visible": [
               false,
               false,
               false,
               true,
               false,
               false,
               false,
               false,
               false,
               false,
               false
              ]
             }
            ],
            "label": "p= 0.03",
            "method": "update"
           },
           {
            "args": [
             {
              "visible": [
               false,
               false,
               false,
               false,
               true,
               false,
               false,
               false,
               false,
               false,
               false
              ]
             }
            ],
            "label": "p= 0.05",
            "method": "update"
           },
           {
            "args": [
             {
              "visible": [
               false,
               false,
               false,
               false,
               false,
               true,
               false,
               false,
               false,
               false,
               false
              ]
             }
            ],
            "label": "p= 0.07",
            "method": "update"
           },
           {
            "args": [
             {
              "visible": [
               false,
               false,
               false,
               false,
               false,
               false,
               true,
               false,
               false,
               false,
               false
              ]
             }
            ],
            "label": "p= 0.1",
            "method": "update"
           },
           {
            "args": [
             {
              "visible": [
               false,
               false,
               false,
               false,
               false,
               false,
               false,
               true,
               false,
               false,
               false
              ]
             }
            ],
            "label": "p= 0.15",
            "method": "update"
           },
           {
            "args": [
             {
              "visible": [
               false,
               false,
               false,
               false,
               false,
               false,
               false,
               false,
               true,
               false,
               false
              ]
             }
            ],
            "label": "p= 0.2",
            "method": "update"
           },
           {
            "args": [
             {
              "visible": [
               false,
               false,
               false,
               false,
               false,
               false,
               false,
               false,
               false,
               true,
               false
              ]
             }
            ],
            "label": "p= 0.5",
            "method": "update"
           },
           {
            "args": [
             {
              "visible": [
               false,
               false,
               false,
               false,
               false,
               false,
               false,
               false,
               false,
               false,
               true
              ]
             }
            ],
            "label": "p= 1",
            "method": "update"
           },
           {
            "args": [
             {
              "visible": [
               true,
               true,
               true,
               true,
               true,
               true,
               true,
               true,
               true,
               true,
               true
              ]
             }
            ],
            "label": "Show All",
            "method": "update"
           }
          ],
          "direction": "right",
          "type": "buttons",
          "x": 0.5,
          "xanchor": "center",
          "y": 1.15
         }
        ]
       }
      }
     },
     "metadata": {},
     "output_type": "display_data"
    }
   ],
   "source": [
    "import plotly.graph_objects as go\n",
    "import matplotlib.cm as cm\n",
    "from matplotlib.colors import LogNorm, to_hex\n",
    "\n",
    "# Function to get color based on p value\n",
    "def get_heatmap_color(p, colormap_name='coolwarm', vmin=0.1, vmax=1):\n",
    "    colormap = cm.get_cmap(colormap_name)\n",
    "    norm = LogNorm(vmin=vmin, vmax=vmax)  # Normalize p within [vmin, vmax]\n",
    "    return to_hex(colormap(norm(p)))  # Convert to hex color for Plotly\n",
    "\n",
    "# Initialize the figure\n",
    "fig = go.Figure()\n",
    "\n",
    "# Store the p values in a list to access them by index in buttons\n",
    "p_values = list(all_histograms.keys())\n",
    "\n",
    "# Add histograms for different 'p' values\n",
    "for p, histogram in all_histograms.items():\n",
    "    frequencies = [histogram.get(outcome, 0) for outcome in all_outcomes]\n",
    "    \n",
    "    # Get colors for each bar based on the current p value\n",
    "    colors = [get_heatmap_color(p + 0.1) for _ in all_outcomes]\n",
    "    \n",
    "    fig.add_trace(\n",
    "        go.Bar(\n",
    "            x=all_outcomes,\n",
    "            y=frequencies,\n",
    "            name=f'p={p}',  # Legend label\n",
    "            marker=dict(color=colors),  # Apply custom colors\n",
    "            visible=(p == 0)  # Only p=0 is visible by default\n",
    "        )\n",
    "    )\n",
    "\n",
    "fig.update_layout(\n",
    "    title=\"Output bitstring occurrences, per noise level p\",\n",
    "    updatemenus=[\n",
    "        {\n",
    "            'type': 'buttons',\n",
    "            'direction': 'right',\n",
    "            'x': 0.5,  # Horizontal position of the buttons\n",
    "            'y': 1.15,  # Vertical position above the chart\n",
    "            'xanchor': 'center',  # Anchor buttons horizontally center\n",
    "            'buttons': [\n",
    "                {\n",
    "                    'label': f'p= {key}',\n",
    "                    'method': 'update',\n",
    "                    'args': [{'visible': [i == idx for i in range(len(all_histograms))]}]\n",
    "                }\n",
    "                for idx, key in enumerate(all_histograms)\n",
    "            ] + [\n",
    "                {\n",
    "                    'label': 'Show All',\n",
    "                    'method': 'update',\n",
    "                    'args': [{'visible': [True] * len(all_histograms)}]\n",
    "                }\n",
    "            ]\n",
    "        }\n",
    "    ]\n",
    ")\n",
    "\n",
    "# Set initial visibility (show only the first chart by default)\n",
    "initial_visibility = [True] + [False] * (len(all_histograms) - 1)\n",
    "fig.update_traces(visible=initial_visibility[0])\n",
    "\n",
    "fig.show()\n"
   ]
  },
  {
   "cell_type": "markdown",
   "metadata": {},
   "source": [
    "### Do we accept these outcomes ??? Plot the portion of failed/passed traps"
   ]
  },
  {
   "cell_type": "code",
   "execution_count": 9,
   "metadata": {},
   "outputs": [
    {
     "data": {
      "application/vnd.plotly.v1+json": {
       "config": {
        "plotlyServerURL": "https://plot.ly"
       },
       "data": [
        {
         "labels": [
          "Failed traps",
          "Passed traps"
         ],
         "marker": {
          "colors": [
           "#EF553B",
           "#a5ff33"
          ]
         },
         "name": "Key: 0",
         "type": "pie",
         "values": [
          0,
          1
         ],
         "visible": true
        },
        {
         "labels": [
          "Failed traps",
          "Passed traps"
         ],
         "marker": {
          "colors": [
           "#EF553B",
           "#a5ff33"
          ]
         },
         "name": "Key: 0.01",
         "type": "pie",
         "values": [
          0.115,
          0.885
         ],
         "visible": true
        },
        {
         "labels": [
          "Failed traps",
          "Passed traps"
         ],
         "marker": {
          "colors": [
           "#EF553B",
           "#a5ff33"
          ]
         },
         "name": "Key: 0.02",
         "type": "pie",
         "values": [
          0.213,
          0.787
         ],
         "visible": true
        },
        {
         "labels": [
          "Failed traps",
          "Passed traps"
         ],
         "marker": {
          "colors": [
           "#EF553B",
           "#a5ff33"
          ]
         },
         "name": "Key: 0.03",
         "type": "pie",
         "values": [
          0.3,
          0.7
         ],
         "visible": true
        },
        {
         "labels": [
          "Failed traps",
          "Passed traps"
         ],
         "marker": {
          "colors": [
           "#EF553B",
           "#a5ff33"
          ]
         },
         "name": "Key: 0.05",
         "type": "pie",
         "values": [
          0.432,
          0.5680000000000001
         ],
         "visible": true
        },
        {
         "labels": [
          "Failed traps",
          "Passed traps"
         ],
         "marker": {
          "colors": [
           "#EF553B",
           "#a5ff33"
          ]
         },
         "name": "Key: 0.07",
         "type": "pie",
         "values": [
          0.554,
          0.44599999999999995
         ],
         "visible": true
        },
        {
         "labels": [
          "Failed traps",
          "Passed traps"
         ],
         "marker": {
          "colors": [
           "#EF553B",
           "#a5ff33"
          ]
         },
         "name": "Key: 0.1",
         "type": "pie",
         "values": [
          0.669,
          0.33099999999999996
         ],
         "visible": true
        },
        {
         "labels": [
          "Failed traps",
          "Passed traps"
         ],
         "marker": {
          "colors": [
           "#EF553B",
           "#a5ff33"
          ]
         },
         "name": "Key: 0.15",
         "type": "pie",
         "values": [
          0.796,
          0.20399999999999996
         ],
         "visible": true
        },
        {
         "labels": [
          "Failed traps",
          "Passed traps"
         ],
         "marker": {
          "colors": [
           "#EF553B",
           "#a5ff33"
          ]
         },
         "name": "Key: 0.2",
         "type": "pie",
         "values": [
          0.824,
          0.17600000000000005
         ],
         "visible": true
        },
        {
         "labels": [
          "Failed traps",
          "Passed traps"
         ],
         "marker": {
          "colors": [
           "#EF553B",
           "#a5ff33"
          ]
         },
         "name": "Key: 0.5",
         "type": "pie",
         "values": [
          0.891,
          0.10899999999999999
         ],
         "visible": true
        },
        {
         "labels": [
          "Failed traps",
          "Passed traps"
         ],
         "marker": {
          "colors": [
           "#EF553B",
           "#a5ff33"
          ]
         },
         "name": "Key: 1",
         "type": "pie",
         "values": [
          0.873,
          0.127
         ],
         "visible": true
        }
       ],
       "layout": {
        "template": {
         "data": {
          "bar": [
           {
            "error_x": {
             "color": "#2a3f5f"
            },
            "error_y": {
             "color": "#2a3f5f"
            },
            "marker": {
             "line": {
              "color": "#E5ECF6",
              "width": 0.5
             },
             "pattern": {
              "fillmode": "overlay",
              "size": 10,
              "solidity": 0.2
             }
            },
            "type": "bar"
           }
          ],
          "barpolar": [
           {
            "marker": {
             "line": {
              "color": "#E5ECF6",
              "width": 0.5
             },
             "pattern": {
              "fillmode": "overlay",
              "size": 10,
              "solidity": 0.2
             }
            },
            "type": "barpolar"
           }
          ],
          "carpet": [
           {
            "aaxis": {
             "endlinecolor": "#2a3f5f",
             "gridcolor": "white",
             "linecolor": "white",
             "minorgridcolor": "white",
             "startlinecolor": "#2a3f5f"
            },
            "baxis": {
             "endlinecolor": "#2a3f5f",
             "gridcolor": "white",
             "linecolor": "white",
             "minorgridcolor": "white",
             "startlinecolor": "#2a3f5f"
            },
            "type": "carpet"
           }
          ],
          "choropleth": [
           {
            "colorbar": {
             "outlinewidth": 0,
             "ticks": ""
            },
            "type": "choropleth"
           }
          ],
          "contour": [
           {
            "colorbar": {
             "outlinewidth": 0,
             "ticks": ""
            },
            "colorscale": [
             [
              0,
              "#0d0887"
             ],
             [
              0.1111111111111111,
              "#46039f"
             ],
             [
              0.2222222222222222,
              "#7201a8"
             ],
             [
              0.3333333333333333,
              "#9c179e"
             ],
             [
              0.4444444444444444,
              "#bd3786"
             ],
             [
              0.5555555555555556,
              "#d8576b"
             ],
             [
              0.6666666666666666,
              "#ed7953"
             ],
             [
              0.7777777777777778,
              "#fb9f3a"
             ],
             [
              0.8888888888888888,
              "#fdca26"
             ],
             [
              1,
              "#f0f921"
             ]
            ],
            "type": "contour"
           }
          ],
          "contourcarpet": [
           {
            "colorbar": {
             "outlinewidth": 0,
             "ticks": ""
            },
            "type": "contourcarpet"
           }
          ],
          "heatmap": [
           {
            "colorbar": {
             "outlinewidth": 0,
             "ticks": ""
            },
            "colorscale": [
             [
              0,
              "#0d0887"
             ],
             [
              0.1111111111111111,
              "#46039f"
             ],
             [
              0.2222222222222222,
              "#7201a8"
             ],
             [
              0.3333333333333333,
              "#9c179e"
             ],
             [
              0.4444444444444444,
              "#bd3786"
             ],
             [
              0.5555555555555556,
              "#d8576b"
             ],
             [
              0.6666666666666666,
              "#ed7953"
             ],
             [
              0.7777777777777778,
              "#fb9f3a"
             ],
             [
              0.8888888888888888,
              "#fdca26"
             ],
             [
              1,
              "#f0f921"
             ]
            ],
            "type": "heatmap"
           }
          ],
          "heatmapgl": [
           {
            "colorbar": {
             "outlinewidth": 0,
             "ticks": ""
            },
            "colorscale": [
             [
              0,
              "#0d0887"
             ],
             [
              0.1111111111111111,
              "#46039f"
             ],
             [
              0.2222222222222222,
              "#7201a8"
             ],
             [
              0.3333333333333333,
              "#9c179e"
             ],
             [
              0.4444444444444444,
              "#bd3786"
             ],
             [
              0.5555555555555556,
              "#d8576b"
             ],
             [
              0.6666666666666666,
              "#ed7953"
             ],
             [
              0.7777777777777778,
              "#fb9f3a"
             ],
             [
              0.8888888888888888,
              "#fdca26"
             ],
             [
              1,
              "#f0f921"
             ]
            ],
            "type": "heatmapgl"
           }
          ],
          "histogram": [
           {
            "marker": {
             "pattern": {
              "fillmode": "overlay",
              "size": 10,
              "solidity": 0.2
             }
            },
            "type": "histogram"
           }
          ],
          "histogram2d": [
           {
            "colorbar": {
             "outlinewidth": 0,
             "ticks": ""
            },
            "colorscale": [
             [
              0,
              "#0d0887"
             ],
             [
              0.1111111111111111,
              "#46039f"
             ],
             [
              0.2222222222222222,
              "#7201a8"
             ],
             [
              0.3333333333333333,
              "#9c179e"
             ],
             [
              0.4444444444444444,
              "#bd3786"
             ],
             [
              0.5555555555555556,
              "#d8576b"
             ],
             [
              0.6666666666666666,
              "#ed7953"
             ],
             [
              0.7777777777777778,
              "#fb9f3a"
             ],
             [
              0.8888888888888888,
              "#fdca26"
             ],
             [
              1,
              "#f0f921"
             ]
            ],
            "type": "histogram2d"
           }
          ],
          "histogram2dcontour": [
           {
            "colorbar": {
             "outlinewidth": 0,
             "ticks": ""
            },
            "colorscale": [
             [
              0,
              "#0d0887"
             ],
             [
              0.1111111111111111,
              "#46039f"
             ],
             [
              0.2222222222222222,
              "#7201a8"
             ],
             [
              0.3333333333333333,
              "#9c179e"
             ],
             [
              0.4444444444444444,
              "#bd3786"
             ],
             [
              0.5555555555555556,
              "#d8576b"
             ],
             [
              0.6666666666666666,
              "#ed7953"
             ],
             [
              0.7777777777777778,
              "#fb9f3a"
             ],
             [
              0.8888888888888888,
              "#fdca26"
             ],
             [
              1,
              "#f0f921"
             ]
            ],
            "type": "histogram2dcontour"
           }
          ],
          "mesh3d": [
           {
            "colorbar": {
             "outlinewidth": 0,
             "ticks": ""
            },
            "type": "mesh3d"
           }
          ],
          "parcoords": [
           {
            "line": {
             "colorbar": {
              "outlinewidth": 0,
              "ticks": ""
             }
            },
            "type": "parcoords"
           }
          ],
          "pie": [
           {
            "automargin": true,
            "type": "pie"
           }
          ],
          "scatter": [
           {
            "fillpattern": {
             "fillmode": "overlay",
             "size": 10,
             "solidity": 0.2
            },
            "type": "scatter"
           }
          ],
          "scatter3d": [
           {
            "line": {
             "colorbar": {
              "outlinewidth": 0,
              "ticks": ""
             }
            },
            "marker": {
             "colorbar": {
              "outlinewidth": 0,
              "ticks": ""
             }
            },
            "type": "scatter3d"
           }
          ],
          "scattercarpet": [
           {
            "marker": {
             "colorbar": {
              "outlinewidth": 0,
              "ticks": ""
             }
            },
            "type": "scattercarpet"
           }
          ],
          "scattergeo": [
           {
            "marker": {
             "colorbar": {
              "outlinewidth": 0,
              "ticks": ""
             }
            },
            "type": "scattergeo"
           }
          ],
          "scattergl": [
           {
            "marker": {
             "colorbar": {
              "outlinewidth": 0,
              "ticks": ""
             }
            },
            "type": "scattergl"
           }
          ],
          "scattermapbox": [
           {
            "marker": {
             "colorbar": {
              "outlinewidth": 0,
              "ticks": ""
             }
            },
            "type": "scattermapbox"
           }
          ],
          "scatterpolar": [
           {
            "marker": {
             "colorbar": {
              "outlinewidth": 0,
              "ticks": ""
             }
            },
            "type": "scatterpolar"
           }
          ],
          "scatterpolargl": [
           {
            "marker": {
             "colorbar": {
              "outlinewidth": 0,
              "ticks": ""
             }
            },
            "type": "scatterpolargl"
           }
          ],
          "scatterternary": [
           {
            "marker": {
             "colorbar": {
              "outlinewidth": 0,
              "ticks": ""
             }
            },
            "type": "scatterternary"
           }
          ],
          "surface": [
           {
            "colorbar": {
             "outlinewidth": 0,
             "ticks": ""
            },
            "colorscale": [
             [
              0,
              "#0d0887"
             ],
             [
              0.1111111111111111,
              "#46039f"
             ],
             [
              0.2222222222222222,
              "#7201a8"
             ],
             [
              0.3333333333333333,
              "#9c179e"
             ],
             [
              0.4444444444444444,
              "#bd3786"
             ],
             [
              0.5555555555555556,
              "#d8576b"
             ],
             [
              0.6666666666666666,
              "#ed7953"
             ],
             [
              0.7777777777777778,
              "#fb9f3a"
             ],
             [
              0.8888888888888888,
              "#fdca26"
             ],
             [
              1,
              "#f0f921"
             ]
            ],
            "type": "surface"
           }
          ],
          "table": [
           {
            "cells": {
             "fill": {
              "color": "#EBF0F8"
             },
             "line": {
              "color": "white"
             }
            },
            "header": {
             "fill": {
              "color": "#C8D4E3"
             },
             "line": {
              "color": "white"
             }
            },
            "type": "table"
           }
          ]
         },
         "layout": {
          "annotationdefaults": {
           "arrowcolor": "#2a3f5f",
           "arrowhead": 0,
           "arrowwidth": 1
          },
          "autotypenumbers": "strict",
          "coloraxis": {
           "colorbar": {
            "outlinewidth": 0,
            "ticks": ""
           }
          },
          "colorscale": {
           "diverging": [
            [
             0,
             "#8e0152"
            ],
            [
             0.1,
             "#c51b7d"
            ],
            [
             0.2,
             "#de77ae"
            ],
            [
             0.3,
             "#f1b6da"
            ],
            [
             0.4,
             "#fde0ef"
            ],
            [
             0.5,
             "#f7f7f7"
            ],
            [
             0.6,
             "#e6f5d0"
            ],
            [
             0.7,
             "#b8e186"
            ],
            [
             0.8,
             "#7fbc41"
            ],
            [
             0.9,
             "#4d9221"
            ],
            [
             1,
             "#276419"
            ]
           ],
           "sequential": [
            [
             0,
             "#0d0887"
            ],
            [
             0.1111111111111111,
             "#46039f"
            ],
            [
             0.2222222222222222,
             "#7201a8"
            ],
            [
             0.3333333333333333,
             "#9c179e"
            ],
            [
             0.4444444444444444,
             "#bd3786"
            ],
            [
             0.5555555555555556,
             "#d8576b"
            ],
            [
             0.6666666666666666,
             "#ed7953"
            ],
            [
             0.7777777777777778,
             "#fb9f3a"
            ],
            [
             0.8888888888888888,
             "#fdca26"
            ],
            [
             1,
             "#f0f921"
            ]
           ],
           "sequentialminus": [
            [
             0,
             "#0d0887"
            ],
            [
             0.1111111111111111,
             "#46039f"
            ],
            [
             0.2222222222222222,
             "#7201a8"
            ],
            [
             0.3333333333333333,
             "#9c179e"
            ],
            [
             0.4444444444444444,
             "#bd3786"
            ],
            [
             0.5555555555555556,
             "#d8576b"
            ],
            [
             0.6666666666666666,
             "#ed7953"
            ],
            [
             0.7777777777777778,
             "#fb9f3a"
            ],
            [
             0.8888888888888888,
             "#fdca26"
            ],
            [
             1,
             "#f0f921"
            ]
           ]
          },
          "colorway": [
           "#636efa",
           "#EF553B",
           "#00cc96",
           "#ab63fa",
           "#FFA15A",
           "#19d3f3",
           "#FF6692",
           "#B6E880",
           "#FF97FF",
           "#FECB52"
          ],
          "font": {
           "color": "#2a3f5f"
          },
          "geo": {
           "bgcolor": "white",
           "lakecolor": "white",
           "landcolor": "#E5ECF6",
           "showlakes": true,
           "showland": true,
           "subunitcolor": "white"
          },
          "hoverlabel": {
           "align": "left"
          },
          "hovermode": "closest",
          "mapbox": {
           "style": "light"
          },
          "paper_bgcolor": "white",
          "plot_bgcolor": "#E5ECF6",
          "polar": {
           "angularaxis": {
            "gridcolor": "white",
            "linecolor": "white",
            "ticks": ""
           },
           "bgcolor": "#E5ECF6",
           "radialaxis": {
            "gridcolor": "white",
            "linecolor": "white",
            "ticks": ""
           }
          },
          "scene": {
           "xaxis": {
            "backgroundcolor": "#E5ECF6",
            "gridcolor": "white",
            "gridwidth": 2,
            "linecolor": "white",
            "showbackground": true,
            "ticks": "",
            "zerolinecolor": "white"
           },
           "yaxis": {
            "backgroundcolor": "#E5ECF6",
            "gridcolor": "white",
            "gridwidth": 2,
            "linecolor": "white",
            "showbackground": true,
            "ticks": "",
            "zerolinecolor": "white"
           },
           "zaxis": {
            "backgroundcolor": "#E5ECF6",
            "gridcolor": "white",
            "gridwidth": 2,
            "linecolor": "white",
            "showbackground": true,
            "ticks": "",
            "zerolinecolor": "white"
           }
          },
          "shapedefaults": {
           "line": {
            "color": "#2a3f5f"
           }
          },
          "ternary": {
           "aaxis": {
            "gridcolor": "white",
            "linecolor": "white",
            "ticks": ""
           },
           "baxis": {
            "gridcolor": "white",
            "linecolor": "white",
            "ticks": ""
           },
           "bgcolor": "#E5ECF6",
           "caxis": {
            "gridcolor": "white",
            "linecolor": "white",
            "ticks": ""
           }
          },
          "title": {
           "x": 0.05
          },
          "xaxis": {
           "automargin": true,
           "gridcolor": "white",
           "linecolor": "white",
           "ticks": "",
           "title": {
            "standoff": 15
           },
           "zerolinecolor": "white",
           "zerolinewidth": 2
          },
          "yaxis": {
           "automargin": true,
           "gridcolor": "white",
           "linecolor": "white",
           "ticks": "",
           "title": {
            "standoff": 15
           },
           "zerolinecolor": "white",
           "zerolinewidth": 2
          }
         }
        },
        "title": {
         "text": "Proportion of failed/accepted traps, per noise level"
        },
        "updatemenus": [
         {
          "buttons": [
           {
            "args": [
             {
              "visible": [
               true,
               false,
               false,
               false,
               false,
               false,
               false,
               false,
               false,
               false,
               false
              ]
             }
            ],
            "label": "p= 0",
            "method": "update"
           },
           {
            "args": [
             {
              "visible": [
               false,
               true,
               false,
               false,
               false,
               false,
               false,
               false,
               false,
               false,
               false
              ]
             }
            ],
            "label": "p= 0.01",
            "method": "update"
           },
           {
            "args": [
             {
              "visible": [
               false,
               false,
               true,
               false,
               false,
               false,
               false,
               false,
               false,
               false,
               false
              ]
             }
            ],
            "label": "p= 0.02",
            "method": "update"
           },
           {
            "args": [
             {
              "visible": [
               false,
               false,
               false,
               true,
               false,
               false,
               false,
               false,
               false,
               false,
               false
              ]
             }
            ],
            "label": "p= 0.03",
            "method": "update"
           },
           {
            "args": [
             {
              "visible": [
               false,
               false,
               false,
               false,
               true,
               false,
               false,
               false,
               false,
               false,
               false
              ]
             }
            ],
            "label": "p= 0.05",
            "method": "update"
           },
           {
            "args": [
             {
              "visible": [
               false,
               false,
               false,
               false,
               false,
               true,
               false,
               false,
               false,
               false,
               false
              ]
             }
            ],
            "label": "p= 0.07",
            "method": "update"
           },
           {
            "args": [
             {
              "visible": [
               false,
               false,
               false,
               false,
               false,
               false,
               true,
               false,
               false,
               false,
               false
              ]
             }
            ],
            "label": "p= 0.1",
            "method": "update"
           },
           {
            "args": [
             {
              "visible": [
               false,
               false,
               false,
               false,
               false,
               false,
               false,
               true,
               false,
               false,
               false
              ]
             }
            ],
            "label": "p= 0.15",
            "method": "update"
           },
           {
            "args": [
             {
              "visible": [
               false,
               false,
               false,
               false,
               false,
               false,
               false,
               false,
               true,
               false,
               false
              ]
             }
            ],
            "label": "p= 0.2",
            "method": "update"
           },
           {
            "args": [
             {
              "visible": [
               false,
               false,
               false,
               false,
               false,
               false,
               false,
               false,
               false,
               true,
               false
              ]
             }
            ],
            "label": "p= 0.5",
            "method": "update"
           },
           {
            "args": [
             {
              "visible": [
               false,
               false,
               false,
               false,
               false,
               false,
               false,
               false,
               false,
               false,
               true
              ]
             }
            ],
            "label": "p= 1",
            "method": "update"
           }
          ],
          "direction": "right",
          "type": "buttons",
          "x": 0.5,
          "xanchor": "center",
          "y": 1.15
         }
        ]
       }
      }
     },
     "metadata": {},
     "output_type": "display_data"
    }
   ],
   "source": [
    "# Create a list of pie chart traces\n",
    "fig = go.Figure()\n",
    "colors = ['#EF553B', '#a5ff33']  # Blue for 'Value', Red for 'Remaining'\n",
    "\n",
    "for key, value in failed_traps_histograms.items():\n",
    "    fig.add_trace(go.Pie(\n",
    "        labels=['Failed traps', 'Passed traps'],\n",
    "        values=[value, 1 - value],\n",
    "        marker=dict(colors=colors),\n",
    "        name=f'Key: {key}'\n",
    "    ))\n",
    "\n",
    "# Create fixed buttons for each pie chart\n",
    "fig.update_layout(\n",
    "    title=\"Proportion of failed/accepted traps, per noise level\",\n",
    "    updatemenus=[\n",
    "        {\n",
    "            'type': 'buttons',\n",
    "            'direction': 'right',\n",
    "            'x': 0.5,  # Horizontal position of the buttons\n",
    "            'y': 1.15,  # Vertical position above the chart\n",
    "            'xanchor': 'center',  # Anchor buttons horizontally center\n",
    "            'buttons': [\n",
    "                {\n",
    "                    'label': f'p= {key}',\n",
    "                    'method': 'update',\n",
    "                    'args': [{'visible': [i == idx for i in range(len(failed_traps_histograms))]}]\n",
    "                }\n",
    "                for idx, key in enumerate(failed_traps_histograms)\n",
    "            ]\n",
    "        }\n",
    "    ]\n",
    ")\n",
    "\n",
    "# Set initial visibility (show only the first chart by default)\n",
    "initial_visibility = [True] + [False] * (len(failed_traps_histograms) - 1)\n",
    "fig.update_traces(visible=initial_visibility[0])\n",
    "\n",
    "fig.show()"
   ]
  },
  {
   "cell_type": "code",
   "execution_count": 18,
   "metadata": {},
   "outputs": [
    {
     "name": "stderr",
     "output_type": "stream",
     "text": [
      "/var/folders/n5/hv7xz3zn675bw8ckw4q5ll3cmp3czq/T/ipykernel_18900/4244744428.py:8: MatplotlibDeprecationWarning:\n",
      "\n",
      "The get_cmap function was deprecated in Matplotlib 3.7 and will be removed in 3.11. Use ``matplotlib.colormaps[name]`` or ``matplotlib.colormaps.get_cmap()`` or ``pyplot.get_cmap()`` instead.\n",
      "\n"
     ]
    },
    {
     "data": {
      "application/vnd.plotly.v1+json": {
       "config": {
        "plotlyServerURL": "https://plot.ly"
       },
       "data": [
        {
         "marker": {
          "color": [
           "#3b4cc0",
           "#3b4cc0",
           "#3b4cc0",
           "#3b4cc0"
          ]
         },
         "name": "p=0",
         "type": "bar",
         "visible": true,
         "x": [
          "00",
          "01",
          "10",
          "11"
         ],
         "xaxis": "x",
         "y": [
          1000,
          0,
          0,
          0
         ],
         "yaxis": "y"
        },
        {
         "domain": {
          "x": [
           0.73,
           1
          ],
          "y": [
           0,
           1
          ]
         },
         "labels": [
          "Failed traps",
          "Passed traps"
         ],
         "marker": {
          "colors": [
           "#EF553B",
           "#a5ff33"
          ]
         },
         "name": "p=0",
         "type": "pie",
         "values": [
          0,
          1
         ],
         "visible": true
        },
        {
         "marker": {
          "color": [
           "#465ecf",
           "#465ecf",
           "#465ecf",
           "#465ecf"
          ]
         },
         "name": "p=0.01",
         "type": "bar",
         "visible": false,
         "x": [
          "00",
          "01",
          "10",
          "11"
         ],
         "xaxis": "x",
         "y": [
          905,
          65,
          25,
          5
         ],
         "yaxis": "y"
        },
        {
         "domain": {
          "x": [
           0.73,
           1
          ],
          "y": [
           0,
           1
          ]
         },
         "labels": [
          "Failed traps",
          "Passed traps"
         ],
         "marker": {
          "colors": [
           "#EF553B",
           "#a5ff33"
          ]
         },
         "name": "p=0.01",
         "type": "pie",
         "values": [
          0.115,
          0.885
         ],
         "visible": false
        },
        {
         "marker": {
          "color": [
           "#536edd",
           "#536edd",
           "#536edd",
           "#536edd"
          ]
         },
         "name": "p=0.02",
         "type": "bar",
         "visible": false,
         "x": [
          "00",
          "01",
          "10",
          "11"
         ],
         "xaxis": "x",
         "y": [
          806,
          112,
          58,
          24
         ],
         "yaxis": "y"
        },
        {
         "domain": {
          "x": [
           0.73,
           1
          ],
          "y": [
           0,
           1
          ]
         },
         "labels": [
          "Failed traps",
          "Passed traps"
         ],
         "marker": {
          "colors": [
           "#EF553B",
           "#a5ff33"
          ]
         },
         "name": "p=0.02",
         "type": "pie",
         "values": [
          0.213,
          0.787
         ],
         "visible": false
        },
        {
         "marker": {
          "color": [
           "#5e7de7",
           "#5e7de7",
           "#5e7de7",
           "#5e7de7"
          ]
         },
         "name": "p=0.03",
         "type": "bar",
         "visible": false,
         "x": [
          "00",
          "01",
          "10",
          "11"
         ],
         "xaxis": "x",
         "y": [
          720,
          175,
          74,
          31
         ],
         "yaxis": "y"
        },
        {
         "domain": {
          "x": [
           0.73,
           1
          ],
          "y": [
           0,
           1
          ]
         },
         "labels": [
          "Failed traps",
          "Passed traps"
         ],
         "marker": {
          "colors": [
           "#EF553B",
           "#a5ff33"
          ]
         },
         "name": "p=0.03",
         "type": "pie",
         "values": [
          0.3,
          0.7
         ],
         "visible": false
        },
        {
         "marker": {
          "color": [
           "#7396f5",
           "#7396f5",
           "#7396f5",
           "#7396f5"
          ]
         },
         "name": "p=0.05",
         "type": "bar",
         "visible": false,
         "x": [
          "00",
          "01",
          "10",
          "11"
         ],
         "xaxis": "x",
         "y": [
          590,
          214,
          126,
          70
         ],
         "yaxis": "y"
        },
        {
         "domain": {
          "x": [
           0.73,
           1
          ],
          "y": [
           0,
           1
          ]
         },
         "labels": [
          "Failed traps",
          "Passed traps"
         ],
         "marker": {
          "colors": [
           "#EF553B",
           "#a5ff33"
          ]
         },
         "name": "p=0.05",
         "type": "pie",
         "values": [
          0.432,
          0.5680000000000001
         ],
         "visible": false
        },
        {
         "marker": {
          "color": [
           "#85a8fc",
           "#85a8fc",
           "#85a8fc",
           "#85a8fc"
          ]
         },
         "name": "p=0.07",
         "type": "bar",
         "visible": false,
         "x": [
          "00",
          "01",
          "10",
          "11"
         ],
         "xaxis": "x",
         "y": [
          525,
          254,
          134,
          87
         ],
         "yaxis": "y"
        },
        {
         "domain": {
          "x": [
           0.73,
           1
          ],
          "y": [
           0,
           1
          ]
         },
         "labels": [
          "Failed traps",
          "Passed traps"
         ],
         "marker": {
          "colors": [
           "#EF553B",
           "#a5ff33"
          ]
         },
         "name": "p=0.07",
         "type": "pie",
         "values": [
          0.554,
          0.44599999999999995
         ],
         "visible": false
        },
        {
         "marker": {
          "color": [
           "#9fbfff",
           "#9fbfff",
           "#9fbfff",
           "#9fbfff"
          ]
         },
         "name": "p=0.1",
         "type": "bar",
         "visible": false,
         "x": [
          "00",
          "01",
          "10",
          "11"
         ],
         "xaxis": "x",
         "y": [
          421,
          291,
          157,
          131
         ],
         "yaxis": "y"
        },
        {
         "domain": {
          "x": [
           0.73,
           1
          ],
          "y": [
           0,
           1
          ]
         },
         "labels": [
          "Failed traps",
          "Passed traps"
         ],
         "marker": {
          "colors": [
           "#EF553B",
           "#a5ff33"
          ]
         },
         "name": "p=0.1",
         "type": "pie",
         "values": [
          0.669,
          0.33099999999999996
         ],
         "visible": false
        },
        {
         "marker": {
          "color": [
           "#bfd3f6",
           "#bfd3f6",
           "#bfd3f6",
           "#bfd3f6"
          ]
         },
         "name": "p=0.15",
         "type": "bar",
         "visible": false,
         "x": [
          "00",
          "01",
          "10",
          "11"
         ],
         "xaxis": "x",
         "y": [
          302,
          290,
          220,
          188
         ],
         "yaxis": "y"
        },
        {
         "domain": {
          "x": [
           0.73,
           1
          ],
          "y": [
           0,
           1
          ]
         },
         "labels": [
          "Failed traps",
          "Passed traps"
         ],
         "marker": {
          "colors": [
           "#EF553B",
           "#a5ff33"
          ]
         },
         "name": "p=0.15",
         "type": "pie",
         "values": [
          0.796,
          0.20399999999999996
         ],
         "visible": false
        },
        {
         "marker": {
          "color": [
           "#d7dce3",
           "#d7dce3",
           "#d7dce3",
           "#d7dce3"
          ]
         },
         "name": "p=0.2",
         "type": "bar",
         "visible": false,
         "x": [
          "00",
          "01",
          "10",
          "11"
         ],
         "xaxis": "x",
         "y": [
          286,
          271,
          240,
          203
         ],
         "yaxis": "y"
        },
        {
         "domain": {
          "x": [
           0.73,
           1
          ],
          "y": [
           0,
           1
          ]
         },
         "labels": [
          "Failed traps",
          "Passed traps"
         ],
         "marker": {
          "colors": [
           "#EF553B",
           "#a5ff33"
          ]
         },
         "name": "p=0.2",
         "type": "pie",
         "values": [
          0.824,
          0.17600000000000005
         ],
         "visible": false
        },
        {
         "marker": {
          "color": [
           "#f18d6f",
           "#f18d6f",
           "#f18d6f",
           "#f18d6f"
          ]
         },
         "name": "p=0.5",
         "type": "bar",
         "visible": false,
         "x": [
          "00",
          "01",
          "10",
          "11"
         ],
         "xaxis": "x",
         "y": [
          270,
          257,
          262,
          211
         ],
         "yaxis": "y"
        },
        {
         "domain": {
          "x": [
           0.73,
           1
          ],
          "y": [
           0,
           1
          ]
         },
         "labels": [
          "Failed traps",
          "Passed traps"
         ],
         "marker": {
          "colors": [
           "#EF553B",
           "#a5ff33"
          ]
         },
         "name": "p=0.5",
         "type": "pie",
         "values": [
          0.891,
          0.10899999999999999
         ],
         "visible": false
        },
        {
         "marker": {
          "color": [
           "#b40426",
           "#b40426",
           "#b40426",
           "#b40426"
          ]
         },
         "name": "p=1",
         "type": "bar",
         "visible": false,
         "x": [
          "00",
          "01",
          "10",
          "11"
         ],
         "xaxis": "x",
         "y": [
          224,
          259,
          254,
          263
         ],
         "yaxis": "y"
        },
        {
         "domain": {
          "x": [
           0.73,
           1
          ],
          "y": [
           0,
           1
          ]
         },
         "labels": [
          "Failed traps",
          "Passed traps"
         ],
         "marker": {
          "colors": [
           "#EF553B",
           "#a5ff33"
          ]
         },
         "name": "p=1",
         "type": "pie",
         "values": [
          0.873,
          0.127
         ],
         "visible": false
        }
       ],
       "layout": {
        "annotations": [
         {
          "font": {
           "size": 16
          },
          "showarrow": false,
          "text": "Output Bitstring Occurrences",
          "x": 0.315,
          "xanchor": "center",
          "xref": "paper",
          "y": 1,
          "yanchor": "bottom",
          "yref": "paper"
         },
         {
          "font": {
           "size": 16
          },
          "showarrow": false,
          "text": "Failed/Passed Traps",
          "x": 0.865,
          "xanchor": "center",
          "xref": "paper",
          "y": 1,
          "yanchor": "bottom",
          "yref": "paper"
         }
        ],
        "template": {
         "data": {
          "bar": [
           {
            "error_x": {
             "color": "#2a3f5f"
            },
            "error_y": {
             "color": "#2a3f5f"
            },
            "marker": {
             "line": {
              "color": "#E5ECF6",
              "width": 0.5
             },
             "pattern": {
              "fillmode": "overlay",
              "size": 10,
              "solidity": 0.2
             }
            },
            "type": "bar"
           }
          ],
          "barpolar": [
           {
            "marker": {
             "line": {
              "color": "#E5ECF6",
              "width": 0.5
             },
             "pattern": {
              "fillmode": "overlay",
              "size": 10,
              "solidity": 0.2
             }
            },
            "type": "barpolar"
           }
          ],
          "carpet": [
           {
            "aaxis": {
             "endlinecolor": "#2a3f5f",
             "gridcolor": "white",
             "linecolor": "white",
             "minorgridcolor": "white",
             "startlinecolor": "#2a3f5f"
            },
            "baxis": {
             "endlinecolor": "#2a3f5f",
             "gridcolor": "white",
             "linecolor": "white",
             "minorgridcolor": "white",
             "startlinecolor": "#2a3f5f"
            },
            "type": "carpet"
           }
          ],
          "choropleth": [
           {
            "colorbar": {
             "outlinewidth": 0,
             "ticks": ""
            },
            "type": "choropleth"
           }
          ],
          "contour": [
           {
            "colorbar": {
             "outlinewidth": 0,
             "ticks": ""
            },
            "colorscale": [
             [
              0,
              "#0d0887"
             ],
             [
              0.1111111111111111,
              "#46039f"
             ],
             [
              0.2222222222222222,
              "#7201a8"
             ],
             [
              0.3333333333333333,
              "#9c179e"
             ],
             [
              0.4444444444444444,
              "#bd3786"
             ],
             [
              0.5555555555555556,
              "#d8576b"
             ],
             [
              0.6666666666666666,
              "#ed7953"
             ],
             [
              0.7777777777777778,
              "#fb9f3a"
             ],
             [
              0.8888888888888888,
              "#fdca26"
             ],
             [
              1,
              "#f0f921"
             ]
            ],
            "type": "contour"
           }
          ],
          "contourcarpet": [
           {
            "colorbar": {
             "outlinewidth": 0,
             "ticks": ""
            },
            "type": "contourcarpet"
           }
          ],
          "heatmap": [
           {
            "colorbar": {
             "outlinewidth": 0,
             "ticks": ""
            },
            "colorscale": [
             [
              0,
              "#0d0887"
             ],
             [
              0.1111111111111111,
              "#46039f"
             ],
             [
              0.2222222222222222,
              "#7201a8"
             ],
             [
              0.3333333333333333,
              "#9c179e"
             ],
             [
              0.4444444444444444,
              "#bd3786"
             ],
             [
              0.5555555555555556,
              "#d8576b"
             ],
             [
              0.6666666666666666,
              "#ed7953"
             ],
             [
              0.7777777777777778,
              "#fb9f3a"
             ],
             [
              0.8888888888888888,
              "#fdca26"
             ],
             [
              1,
              "#f0f921"
             ]
            ],
            "type": "heatmap"
           }
          ],
          "heatmapgl": [
           {
            "colorbar": {
             "outlinewidth": 0,
             "ticks": ""
            },
            "colorscale": [
             [
              0,
              "#0d0887"
             ],
             [
              0.1111111111111111,
              "#46039f"
             ],
             [
              0.2222222222222222,
              "#7201a8"
             ],
             [
              0.3333333333333333,
              "#9c179e"
             ],
             [
              0.4444444444444444,
              "#bd3786"
             ],
             [
              0.5555555555555556,
              "#d8576b"
             ],
             [
              0.6666666666666666,
              "#ed7953"
             ],
             [
              0.7777777777777778,
              "#fb9f3a"
             ],
             [
              0.8888888888888888,
              "#fdca26"
             ],
             [
              1,
              "#f0f921"
             ]
            ],
            "type": "heatmapgl"
           }
          ],
          "histogram": [
           {
            "marker": {
             "pattern": {
              "fillmode": "overlay",
              "size": 10,
              "solidity": 0.2
             }
            },
            "type": "histogram"
           }
          ],
          "histogram2d": [
           {
            "colorbar": {
             "outlinewidth": 0,
             "ticks": ""
            },
            "colorscale": [
             [
              0,
              "#0d0887"
             ],
             [
              0.1111111111111111,
              "#46039f"
             ],
             [
              0.2222222222222222,
              "#7201a8"
             ],
             [
              0.3333333333333333,
              "#9c179e"
             ],
             [
              0.4444444444444444,
              "#bd3786"
             ],
             [
              0.5555555555555556,
              "#d8576b"
             ],
             [
              0.6666666666666666,
              "#ed7953"
             ],
             [
              0.7777777777777778,
              "#fb9f3a"
             ],
             [
              0.8888888888888888,
              "#fdca26"
             ],
             [
              1,
              "#f0f921"
             ]
            ],
            "type": "histogram2d"
           }
          ],
          "histogram2dcontour": [
           {
            "colorbar": {
             "outlinewidth": 0,
             "ticks": ""
            },
            "colorscale": [
             [
              0,
              "#0d0887"
             ],
             [
              0.1111111111111111,
              "#46039f"
             ],
             [
              0.2222222222222222,
              "#7201a8"
             ],
             [
              0.3333333333333333,
              "#9c179e"
             ],
             [
              0.4444444444444444,
              "#bd3786"
             ],
             [
              0.5555555555555556,
              "#d8576b"
             ],
             [
              0.6666666666666666,
              "#ed7953"
             ],
             [
              0.7777777777777778,
              "#fb9f3a"
             ],
             [
              0.8888888888888888,
              "#fdca26"
             ],
             [
              1,
              "#f0f921"
             ]
            ],
            "type": "histogram2dcontour"
           }
          ],
          "mesh3d": [
           {
            "colorbar": {
             "outlinewidth": 0,
             "ticks": ""
            },
            "type": "mesh3d"
           }
          ],
          "parcoords": [
           {
            "line": {
             "colorbar": {
              "outlinewidth": 0,
              "ticks": ""
             }
            },
            "type": "parcoords"
           }
          ],
          "pie": [
           {
            "automargin": true,
            "type": "pie"
           }
          ],
          "scatter": [
           {
            "fillpattern": {
             "fillmode": "overlay",
             "size": 10,
             "solidity": 0.2
            },
            "type": "scatter"
           }
          ],
          "scatter3d": [
           {
            "line": {
             "colorbar": {
              "outlinewidth": 0,
              "ticks": ""
             }
            },
            "marker": {
             "colorbar": {
              "outlinewidth": 0,
              "ticks": ""
             }
            },
            "type": "scatter3d"
           }
          ],
          "scattercarpet": [
           {
            "marker": {
             "colorbar": {
              "outlinewidth": 0,
              "ticks": ""
             }
            },
            "type": "scattercarpet"
           }
          ],
          "scattergeo": [
           {
            "marker": {
             "colorbar": {
              "outlinewidth": 0,
              "ticks": ""
             }
            },
            "type": "scattergeo"
           }
          ],
          "scattergl": [
           {
            "marker": {
             "colorbar": {
              "outlinewidth": 0,
              "ticks": ""
             }
            },
            "type": "scattergl"
           }
          ],
          "scattermapbox": [
           {
            "marker": {
             "colorbar": {
              "outlinewidth": 0,
              "ticks": ""
             }
            },
            "type": "scattermapbox"
           }
          ],
          "scatterpolar": [
           {
            "marker": {
             "colorbar": {
              "outlinewidth": 0,
              "ticks": ""
             }
            },
            "type": "scatterpolar"
           }
          ],
          "scatterpolargl": [
           {
            "marker": {
             "colorbar": {
              "outlinewidth": 0,
              "ticks": ""
             }
            },
            "type": "scatterpolargl"
           }
          ],
          "scatterternary": [
           {
            "marker": {
             "colorbar": {
              "outlinewidth": 0,
              "ticks": ""
             }
            },
            "type": "scatterternary"
           }
          ],
          "surface": [
           {
            "colorbar": {
             "outlinewidth": 0,
             "ticks": ""
            },
            "colorscale": [
             [
              0,
              "#0d0887"
             ],
             [
              0.1111111111111111,
              "#46039f"
             ],
             [
              0.2222222222222222,
              "#7201a8"
             ],
             [
              0.3333333333333333,
              "#9c179e"
             ],
             [
              0.4444444444444444,
              "#bd3786"
             ],
             [
              0.5555555555555556,
              "#d8576b"
             ],
             [
              0.6666666666666666,
              "#ed7953"
             ],
             [
              0.7777777777777778,
              "#fb9f3a"
             ],
             [
              0.8888888888888888,
              "#fdca26"
             ],
             [
              1,
              "#f0f921"
             ]
            ],
            "type": "surface"
           }
          ],
          "table": [
           {
            "cells": {
             "fill": {
              "color": "#EBF0F8"
             },
             "line": {
              "color": "white"
             }
            },
            "header": {
             "fill": {
              "color": "#C8D4E3"
             },
             "line": {
              "color": "white"
             }
            },
            "type": "table"
           }
          ]
         },
         "layout": {
          "annotationdefaults": {
           "arrowcolor": "#2a3f5f",
           "arrowhead": 0,
           "arrowwidth": 1
          },
          "autotypenumbers": "strict",
          "coloraxis": {
           "colorbar": {
            "outlinewidth": 0,
            "ticks": ""
           }
          },
          "colorscale": {
           "diverging": [
            [
             0,
             "#8e0152"
            ],
            [
             0.1,
             "#c51b7d"
            ],
            [
             0.2,
             "#de77ae"
            ],
            [
             0.3,
             "#f1b6da"
            ],
            [
             0.4,
             "#fde0ef"
            ],
            [
             0.5,
             "#f7f7f7"
            ],
            [
             0.6,
             "#e6f5d0"
            ],
            [
             0.7,
             "#b8e186"
            ],
            [
             0.8,
             "#7fbc41"
            ],
            [
             0.9,
             "#4d9221"
            ],
            [
             1,
             "#276419"
            ]
           ],
           "sequential": [
            [
             0,
             "#0d0887"
            ],
            [
             0.1111111111111111,
             "#46039f"
            ],
            [
             0.2222222222222222,
             "#7201a8"
            ],
            [
             0.3333333333333333,
             "#9c179e"
            ],
            [
             0.4444444444444444,
             "#bd3786"
            ],
            [
             0.5555555555555556,
             "#d8576b"
            ],
            [
             0.6666666666666666,
             "#ed7953"
            ],
            [
             0.7777777777777778,
             "#fb9f3a"
            ],
            [
             0.8888888888888888,
             "#fdca26"
            ],
            [
             1,
             "#f0f921"
            ]
           ],
           "sequentialminus": [
            [
             0,
             "#0d0887"
            ],
            [
             0.1111111111111111,
             "#46039f"
            ],
            [
             0.2222222222222222,
             "#7201a8"
            ],
            [
             0.3333333333333333,
             "#9c179e"
            ],
            [
             0.4444444444444444,
             "#bd3786"
            ],
            [
             0.5555555555555556,
             "#d8576b"
            ],
            [
             0.6666666666666666,
             "#ed7953"
            ],
            [
             0.7777777777777778,
             "#fb9f3a"
            ],
            [
             0.8888888888888888,
             "#fdca26"
            ],
            [
             1,
             "#f0f921"
            ]
           ]
          },
          "colorway": [
           "#636efa",
           "#EF553B",
           "#00cc96",
           "#ab63fa",
           "#FFA15A",
           "#19d3f3",
           "#FF6692",
           "#B6E880",
           "#FF97FF",
           "#FECB52"
          ],
          "font": {
           "color": "#2a3f5f"
          },
          "geo": {
           "bgcolor": "white",
           "lakecolor": "white",
           "landcolor": "#E5ECF6",
           "showlakes": true,
           "showland": true,
           "subunitcolor": "white"
          },
          "hoverlabel": {
           "align": "left"
          },
          "hovermode": "closest",
          "mapbox": {
           "style": "light"
          },
          "paper_bgcolor": "white",
          "plot_bgcolor": "#E5ECF6",
          "polar": {
           "angularaxis": {
            "gridcolor": "white",
            "linecolor": "white",
            "ticks": ""
           },
           "bgcolor": "#E5ECF6",
           "radialaxis": {
            "gridcolor": "white",
            "linecolor": "white",
            "ticks": ""
           }
          },
          "scene": {
           "xaxis": {
            "backgroundcolor": "#E5ECF6",
            "gridcolor": "white",
            "gridwidth": 2,
            "linecolor": "white",
            "showbackground": true,
            "ticks": "",
            "zerolinecolor": "white"
           },
           "yaxis": {
            "backgroundcolor": "#E5ECF6",
            "gridcolor": "white",
            "gridwidth": 2,
            "linecolor": "white",
            "showbackground": true,
            "ticks": "",
            "zerolinecolor": "white"
           },
           "zaxis": {
            "backgroundcolor": "#E5ECF6",
            "gridcolor": "white",
            "gridwidth": 2,
            "linecolor": "white",
            "showbackground": true,
            "ticks": "",
            "zerolinecolor": "white"
           }
          },
          "shapedefaults": {
           "line": {
            "color": "#2a3f5f"
           }
          },
          "ternary": {
           "aaxis": {
            "gridcolor": "white",
            "linecolor": "white",
            "ticks": ""
           },
           "baxis": {
            "gridcolor": "white",
            "linecolor": "white",
            "ticks": ""
           },
           "bgcolor": "#E5ECF6",
           "caxis": {
            "gridcolor": "white",
            "linecolor": "white",
            "ticks": ""
           }
          },
          "title": {
           "x": 0.05
          },
          "xaxis": {
           "automargin": true,
           "gridcolor": "white",
           "linecolor": "white",
           "ticks": "",
           "title": {
            "standoff": 15
           },
           "zerolinecolor": "white",
           "zerolinewidth": 2
          },
          "yaxis": {
           "automargin": true,
           "gridcolor": "white",
           "linecolor": "white",
           "ticks": "",
           "title": {
            "standoff": 15
           },
           "zerolinecolor": "white",
           "zerolinewidth": 2
          }
         }
        },
        "title": {
         "text": "Output bitstring occurrences and trap results per noise level p"
        },
        "updatemenus": [
         {
          "buttons": [
           {
            "args": [
             {
              "visible": [
               true,
               true,
               false,
               false,
               false,
               false,
               false,
               false,
               false,
               false,
               false,
               false,
               false,
               false,
               false,
               false,
               false,
               false,
               false,
               false,
               false,
               false
              ]
             }
            ],
            "label": "p= 0",
            "method": "update"
           },
           {
            "args": [
             {
              "visible": [
               false,
               false,
               true,
               true,
               false,
               false,
               false,
               false,
               false,
               false,
               false,
               false,
               false,
               false,
               false,
               false,
               false,
               false,
               false,
               false,
               false,
               false
              ]
             }
            ],
            "label": "p= 0.01",
            "method": "update"
           },
           {
            "args": [
             {
              "visible": [
               false,
               false,
               false,
               false,
               true,
               true,
               false,
               false,
               false,
               false,
               false,
               false,
               false,
               false,
               false,
               false,
               false,
               false,
               false,
               false,
               false,
               false
              ]
             }
            ],
            "label": "p= 0.02",
            "method": "update"
           },
           {
            "args": [
             {
              "visible": [
               false,
               false,
               false,
               false,
               false,
               false,
               true,
               true,
               false,
               false,
               false,
               false,
               false,
               false,
               false,
               false,
               false,
               false,
               false,
               false,
               false,
               false
              ]
             }
            ],
            "label": "p= 0.03",
            "method": "update"
           },
           {
            "args": [
             {
              "visible": [
               false,
               false,
               false,
               false,
               false,
               false,
               false,
               false,
               true,
               true,
               false,
               false,
               false,
               false,
               false,
               false,
               false,
               false,
               false,
               false,
               false,
               false
              ]
             }
            ],
            "label": "p= 0.05",
            "method": "update"
           },
           {
            "args": [
             {
              "visible": [
               false,
               false,
               false,
               false,
               false,
               false,
               false,
               false,
               false,
               false,
               true,
               true,
               false,
               false,
               false,
               false,
               false,
               false,
               false,
               false,
               false,
               false
              ]
             }
            ],
            "label": "p= 0.07",
            "method": "update"
           },
           {
            "args": [
             {
              "visible": [
               false,
               false,
               false,
               false,
               false,
               false,
               false,
               false,
               false,
               false,
               false,
               false,
               true,
               true,
               false,
               false,
               false,
               false,
               false,
               false,
               false,
               false
              ]
             }
            ],
            "label": "p= 0.1",
            "method": "update"
           },
           {
            "args": [
             {
              "visible": [
               false,
               false,
               false,
               false,
               false,
               false,
               false,
               false,
               false,
               false,
               false,
               false,
               false,
               false,
               true,
               true,
               false,
               false,
               false,
               false,
               false,
               false
              ]
             }
            ],
            "label": "p= 0.15",
            "method": "update"
           },
           {
            "args": [
             {
              "visible": [
               false,
               false,
               false,
               false,
               false,
               false,
               false,
               false,
               false,
               false,
               false,
               false,
               false,
               false,
               false,
               false,
               true,
               true,
               false,
               false,
               false,
               false
              ]
             }
            ],
            "label": "p= 0.2",
            "method": "update"
           },
           {
            "args": [
             {
              "visible": [
               false,
               false,
               false,
               false,
               false,
               false,
               false,
               false,
               false,
               false,
               false,
               false,
               false,
               false,
               false,
               false,
               false,
               false,
               true,
               true,
               false,
               false
              ]
             }
            ],
            "label": "p= 0.5",
            "method": "update"
           },
           {
            "args": [
             {
              "visible": [
               false,
               false,
               false,
               false,
               false,
               false,
               false,
               false,
               false,
               false,
               false,
               false,
               false,
               false,
               false,
               false,
               false,
               false,
               false,
               false,
               true,
               true
              ]
             }
            ],
            "label": "p= 1",
            "method": "update"
           },
           {
            "args": [
             {
              "visible": [
               true,
               true,
               true,
               true,
               true,
               true,
               true,
               true,
               true,
               true,
               true,
               true,
               true,
               true,
               true,
               true,
               true,
               true,
               true,
               true,
               true,
               true
              ]
             }
            ],
            "label": "Show All",
            "method": "update"
           }
          ],
          "direction": "right",
          "type": "buttons",
          "x": 0.5,
          "xanchor": "center",
          "y": 1.15
         }
        ],
        "xaxis": {
         "anchor": "y",
         "domain": [
          0,
          0.63
         ]
        },
        "yaxis": {
         "anchor": "x",
         "domain": [
          0,
          1
         ]
        }
       }
      }
     },
     "metadata": {},
     "output_type": "display_data"
    }
   ],
   "source": [
    "import plotly.graph_objects as go\n",
    "import matplotlib.cm as cm\n",
    "from matplotlib.colors import LogNorm, to_hex\n",
    "from plotly.subplots import make_subplots\n",
    "\n",
    "# Function to get color based on p value\n",
    "def get_heatmap_color(p, colormap_name='coolwarm', vmin=0.1, vmax=1):\n",
    "    colormap = cm.get_cmap(colormap_name)\n",
    "    norm = LogNorm(vmin=vmin, vmax=vmax)  # Normalize p within [vmin, vmax]\n",
    "    return to_hex(colormap(norm(p)))  # Convert to hex color for Plotly\n",
    "\n",
    "# Initialize the figure with subplots\n",
    "fig = make_subplots(\n",
    "    rows=1, cols=2,\n",
    "    column_widths=[0.7, 0.3],\n",
    "    subplot_titles=(\"Output Bitstring Occurrences\", \"Failed/Passed Traps\"),\n",
    "    specs=[[{\"type\": \"bar\"}, {\"type\": \"pie\"}]]\n",
    ")\n",
    "\n",
    "# Store the p values in a list to access them by index in buttons\n",
    "p_values = list(all_histograms.keys())\n",
    "\n",
    "# Add bar charts and pie charts for different 'p' values\n",
    "colors = ['#EF553B', '#a5ff33']  # Red for 'Failed traps', Green for 'Passed traps'\n",
    "\n",
    "for idx, (p, histogram) in enumerate(all_histograms.items()):\n",
    "    frequencies = [histogram.get(outcome, 0) for outcome in all_outcomes]\n",
    "    \n",
    "    # Get colors for each bar based on the current p value\n",
    "    bar_colors = [get_heatmap_color(p + 0.1) for _ in all_outcomes]\n",
    "    \n",
    "    # Bar chart\n",
    "    fig.add_trace(\n",
    "        go.Bar(\n",
    "            x=all_outcomes,\n",
    "            y=frequencies,\n",
    "            name=f'p={p}',  # Legend label\n",
    "            marker=dict(color=bar_colors),  # Apply custom colors\n",
    "            visible=(p == p_values[0])  # Only the first p is visible by default\n",
    "        ),\n",
    "        row=1, col=1\n",
    "    )\n",
    "    \n",
    "    # Pie chart\n",
    "    failed_value = failed_traps_histograms.get(p, 0)  # Fetch failed traps for current p\n",
    "    fig.add_trace(\n",
    "        go.Pie(\n",
    "            labels=['Failed traps', 'Passed traps'],\n",
    "            values=[failed_value, 1 - failed_value],\n",
    "            marker=dict(colors=colors),\n",
    "            name=f'p={p}',\n",
    "            visible=(p == p_values[0])\n",
    "        ),\n",
    "        row=1, col=2\n",
    "    )\n",
    "    \n",
    "# Update layout with buttons\n",
    "fig.update_layout(\n",
    "    title=\"Output bitstring occurrences and trap results per noise level p\",\n",
    "    updatemenus=[\n",
    "        {\n",
    "            'type': 'buttons',\n",
    "            'direction': 'right',\n",
    "            'x': 0.5,\n",
    "            'y': 1.15,\n",
    "            'xanchor': 'center',\n",
    "            'buttons': [\n",
    "                {\n",
    "                    'label': f'p= {key}',\n",
    "                    'method': 'update',\n",
    "                    'args': [{'visible': [(i // 2 == idx) for i in range(2 * len(all_histograms))]}]\n",
    "                }\n",
    "                for idx, key in enumerate(all_histograms)\n",
    "            ] + [\n",
    "                {\n",
    "                    'label': 'Show All',\n",
    "                    'method': 'update',\n",
    "                    'args': [{'visible': [True] * (2 * len(all_histograms))}]\n",
    "                }\n",
    "            ]\n",
    "        }\n",
    "    ]\n",
    ")\n",
    "\n",
    "fig.show()\n"
   ]
  },
  {
   "cell_type": "code",
   "execution_count": 19,
   "metadata": {},
   "outputs": [
    {
     "name": "stderr",
     "output_type": "stream",
     "text": [
      "/var/folders/n5/hv7xz3zn675bw8ckw4q5ll3cmp3czq/T/ipykernel_18900/2457274934.py:8: MatplotlibDeprecationWarning:\n",
      "\n",
      "The get_cmap function was deprecated in Matplotlib 3.7 and will be removed in 3.11. Use ``matplotlib.colormaps[name]`` or ``matplotlib.colormaps.get_cmap()`` or ``pyplot.get_cmap()`` instead.\n",
      "\n"
     ]
    },
    {
     "data": {
      "application/vnd.plotly.v1+json": {
       "config": {
        "plotlyServerURL": "https://plot.ly"
       },
       "data": [
        {
         "marker": {
          "color": [
           "#3b4cc0",
           "#3b4cc0",
           "#3b4cc0",
           "#3b4cc0"
          ]
         },
         "name": "Bitstrings (p=0)",
         "type": "bar",
         "x": [
          "00",
          "01",
          "10",
          "11"
         ],
         "xaxis": "x",
         "y": [
          1000,
          0,
          0,
          0
         ],
         "yaxis": "y"
        },
        {
         "domain": {
          "x": [
           0.716,
           0.98
          ],
          "y": [
           0.9545454545454546,
           1
          ]
         },
         "labels": [
          "Failed traps",
          "Passed traps"
         ],
         "marker": {
          "colors": [
           "#EF553B",
           "#a5ff33"
          ]
         },
         "name": "Traps (p=0)",
         "type": "pie",
         "values": [
          0,
          1
         ]
        },
        {
         "marker": {
          "color": [
           "#465ecf",
           "#465ecf",
           "#465ecf",
           "#465ecf"
          ]
         },
         "name": "Bitstrings (p=0.01)",
         "type": "bar",
         "x": [
          "00",
          "01",
          "10",
          "11"
         ],
         "xaxis": "x2",
         "y": [
          905,
          65,
          25,
          5
         ],
         "yaxis": "y2"
        },
        {
         "domain": {
          "x": [
           0.716,
           0.98
          ],
          "y": [
           0.8590909090909091,
           0.9045454545454545
          ]
         },
         "labels": [
          "Failed traps",
          "Passed traps"
         ],
         "marker": {
          "colors": [
           "#EF553B",
           "#a5ff33"
          ]
         },
         "name": "Traps (p=0.01)",
         "type": "pie",
         "values": [
          0.115,
          0.885
         ]
        },
        {
         "marker": {
          "color": [
           "#536edd",
           "#536edd",
           "#536edd",
           "#536edd"
          ]
         },
         "name": "Bitstrings (p=0.02)",
         "type": "bar",
         "x": [
          "00",
          "01",
          "10",
          "11"
         ],
         "xaxis": "x3",
         "y": [
          806,
          112,
          58,
          24
         ],
         "yaxis": "y3"
        },
        {
         "domain": {
          "x": [
           0.716,
           0.98
          ],
          "y": [
           0.7636363636363637,
           0.8090909090909091
          ]
         },
         "labels": [
          "Failed traps",
          "Passed traps"
         ],
         "marker": {
          "colors": [
           "#EF553B",
           "#a5ff33"
          ]
         },
         "name": "Traps (p=0.02)",
         "type": "pie",
         "values": [
          0.213,
          0.787
         ]
        },
        {
         "marker": {
          "color": [
           "#5e7de7",
           "#5e7de7",
           "#5e7de7",
           "#5e7de7"
          ]
         },
         "name": "Bitstrings (p=0.03)",
         "type": "bar",
         "x": [
          "00",
          "01",
          "10",
          "11"
         ],
         "xaxis": "x4",
         "y": [
          720,
          175,
          74,
          31
         ],
         "yaxis": "y4"
        },
        {
         "domain": {
          "x": [
           0.716,
           0.98
          ],
          "y": [
           0.6681818181818182,
           0.7136363636363636
          ]
         },
         "labels": [
          "Failed traps",
          "Passed traps"
         ],
         "marker": {
          "colors": [
           "#EF553B",
           "#a5ff33"
          ]
         },
         "name": "Traps (p=0.03)",
         "type": "pie",
         "values": [
          0.3,
          0.7
         ]
        },
        {
         "marker": {
          "color": [
           "#7396f5",
           "#7396f5",
           "#7396f5",
           "#7396f5"
          ]
         },
         "name": "Bitstrings (p=0.05)",
         "type": "bar",
         "x": [
          "00",
          "01",
          "10",
          "11"
         ],
         "xaxis": "x5",
         "y": [
          590,
          214,
          126,
          70
         ],
         "yaxis": "y5"
        },
        {
         "domain": {
          "x": [
           0.716,
           0.98
          ],
          "y": [
           0.5727272727272728,
           0.6181818181818182
          ]
         },
         "labels": [
          "Failed traps",
          "Passed traps"
         ],
         "marker": {
          "colors": [
           "#EF553B",
           "#a5ff33"
          ]
         },
         "name": "Traps (p=0.05)",
         "type": "pie",
         "values": [
          0.432,
          0.5680000000000001
         ]
        },
        {
         "marker": {
          "color": [
           "#85a8fc",
           "#85a8fc",
           "#85a8fc",
           "#85a8fc"
          ]
         },
         "name": "Bitstrings (p=0.07)",
         "type": "bar",
         "x": [
          "00",
          "01",
          "10",
          "11"
         ],
         "xaxis": "x6",
         "y": [
          525,
          254,
          134,
          87
         ],
         "yaxis": "y6"
        },
        {
         "domain": {
          "x": [
           0.716,
           0.98
          ],
          "y": [
           0.4772727272727273,
           0.5227272727272727
          ]
         },
         "labels": [
          "Failed traps",
          "Passed traps"
         ],
         "marker": {
          "colors": [
           "#EF553B",
           "#a5ff33"
          ]
         },
         "name": "Traps (p=0.07)",
         "type": "pie",
         "values": [
          0.554,
          0.44599999999999995
         ]
        },
        {
         "marker": {
          "color": [
           "#9fbfff",
           "#9fbfff",
           "#9fbfff",
           "#9fbfff"
          ]
         },
         "name": "Bitstrings (p=0.1)",
         "type": "bar",
         "x": [
          "00",
          "01",
          "10",
          "11"
         ],
         "xaxis": "x7",
         "y": [
          421,
          291,
          157,
          131
         ],
         "yaxis": "y7"
        },
        {
         "domain": {
          "x": [
           0.716,
           0.98
          ],
          "y": [
           0.38181818181818183,
           0.4272727272727273
          ]
         },
         "labels": [
          "Failed traps",
          "Passed traps"
         ],
         "marker": {
          "colors": [
           "#EF553B",
           "#a5ff33"
          ]
         },
         "name": "Traps (p=0.1)",
         "type": "pie",
         "values": [
          0.669,
          0.33099999999999996
         ]
        },
        {
         "marker": {
          "color": [
           "#bfd3f6",
           "#bfd3f6",
           "#bfd3f6",
           "#bfd3f6"
          ]
         },
         "name": "Bitstrings (p=0.15)",
         "type": "bar",
         "x": [
          "00",
          "01",
          "10",
          "11"
         ],
         "xaxis": "x8",
         "y": [
          302,
          290,
          220,
          188
         ],
         "yaxis": "y8"
        },
        {
         "domain": {
          "x": [
           0.716,
           0.98
          ],
          "y": [
           0.2863636363636364,
           0.33181818181818185
          ]
         },
         "labels": [
          "Failed traps",
          "Passed traps"
         ],
         "marker": {
          "colors": [
           "#EF553B",
           "#a5ff33"
          ]
         },
         "name": "Traps (p=0.15)",
         "type": "pie",
         "values": [
          0.796,
          0.20399999999999996
         ]
        },
        {
         "marker": {
          "color": [
           "#d7dce3",
           "#d7dce3",
           "#d7dce3",
           "#d7dce3"
          ]
         },
         "name": "Bitstrings (p=0.2)",
         "type": "bar",
         "x": [
          "00",
          "01",
          "10",
          "11"
         ],
         "xaxis": "x9",
         "y": [
          286,
          271,
          240,
          203
         ],
         "yaxis": "y9"
        },
        {
         "domain": {
          "x": [
           0.716,
           0.98
          ],
          "y": [
           0.19090909090909092,
           0.2363636363636364
          ]
         },
         "labels": [
          "Failed traps",
          "Passed traps"
         ],
         "marker": {
          "colors": [
           "#EF553B",
           "#a5ff33"
          ]
         },
         "name": "Traps (p=0.2)",
         "type": "pie",
         "values": [
          0.824,
          0.17600000000000005
         ]
        },
        {
         "marker": {
          "color": [
           "#f18d6f",
           "#f18d6f",
           "#f18d6f",
           "#f18d6f"
          ]
         },
         "name": "Bitstrings (p=0.5)",
         "type": "bar",
         "x": [
          "00",
          "01",
          "10",
          "11"
         ],
         "xaxis": "x10",
         "y": [
          270,
          257,
          262,
          211
         ],
         "yaxis": "y10"
        },
        {
         "domain": {
          "x": [
           0.716,
           0.98
          ],
          "y": [
           0.09545454545454546,
           0.14090909090909093
          ]
         },
         "labels": [
          "Failed traps",
          "Passed traps"
         ],
         "marker": {
          "colors": [
           "#EF553B",
           "#a5ff33"
          ]
         },
         "name": "Traps (p=0.5)",
         "type": "pie",
         "values": [
          0.891,
          0.10899999999999999
         ]
        },
        {
         "marker": {
          "color": [
           "#b40426",
           "#b40426",
           "#b40426",
           "#b40426"
          ]
         },
         "name": "Bitstrings (p=1)",
         "type": "bar",
         "x": [
          "00",
          "01",
          "10",
          "11"
         ],
         "xaxis": "x11",
         "y": [
          224,
          259,
          254,
          263
         ],
         "yaxis": "y11"
        },
        {
         "domain": {
          "x": [
           0.716,
           0.98
          ],
          "y": [
           0,
           0.045454545454545456
          ]
         },
         "labels": [
          "Failed traps",
          "Passed traps"
         ],
         "marker": {
          "colors": [
           "#EF553B",
           "#a5ff33"
          ]
         },
         "name": "Traps (p=1)",
         "type": "pie",
         "values": [
          0.873,
          0.127
         ]
        }
       ],
       "layout": {
        "annotations": [
         {
          "font": {
           "size": 16
          },
          "showarrow": false,
          "text": "Output Bitstring Occurrences",
          "x": 0.308,
          "xanchor": "center",
          "xref": "paper",
          "y": 1,
          "yanchor": "bottom",
          "yref": "paper"
         },
         {
          "font": {
           "size": 16
          },
          "showarrow": false,
          "text": "Failed/Passed Traps",
          "x": 0.848,
          "xanchor": "center",
          "xref": "paper",
          "y": 1,
          "yanchor": "bottom",
          "yref": "paper"
         },
         {
          "font": {
           "size": 16
          },
          "showarrow": false,
          "text": "Output Bitstring Occurrences",
          "x": 0.308,
          "xanchor": "center",
          "xref": "paper",
          "y": 0.9045454545454545,
          "yanchor": "bottom",
          "yref": "paper"
         },
         {
          "font": {
           "size": 16
          },
          "showarrow": false,
          "text": "Failed/Passed Traps",
          "x": 0.848,
          "xanchor": "center",
          "xref": "paper",
          "y": 0.9045454545454545,
          "yanchor": "bottom",
          "yref": "paper"
         },
         {
          "font": {
           "size": 16
          },
          "showarrow": false,
          "text": "Output Bitstring Occurrences",
          "x": 0.308,
          "xanchor": "center",
          "xref": "paper",
          "y": 0.8090909090909091,
          "yanchor": "bottom",
          "yref": "paper"
         },
         {
          "font": {
           "size": 16
          },
          "showarrow": false,
          "text": "Failed/Passed Traps",
          "x": 0.848,
          "xanchor": "center",
          "xref": "paper",
          "y": 0.8090909090909091,
          "yanchor": "bottom",
          "yref": "paper"
         },
         {
          "font": {
           "size": 16
          },
          "showarrow": false,
          "text": "Output Bitstring Occurrences",
          "x": 0.308,
          "xanchor": "center",
          "xref": "paper",
          "y": 0.7136363636363636,
          "yanchor": "bottom",
          "yref": "paper"
         },
         {
          "font": {
           "size": 16
          },
          "showarrow": false,
          "text": "Failed/Passed Traps",
          "x": 0.848,
          "xanchor": "center",
          "xref": "paper",
          "y": 0.7136363636363636,
          "yanchor": "bottom",
          "yref": "paper"
         },
         {
          "font": {
           "size": 16
          },
          "showarrow": false,
          "text": "Output Bitstring Occurrences",
          "x": 0.308,
          "xanchor": "center",
          "xref": "paper",
          "y": 0.6181818181818182,
          "yanchor": "bottom",
          "yref": "paper"
         },
         {
          "font": {
           "size": 16
          },
          "showarrow": false,
          "text": "Failed/Passed Traps",
          "x": 0.848,
          "xanchor": "center",
          "xref": "paper",
          "y": 0.6181818181818182,
          "yanchor": "bottom",
          "yref": "paper"
         },
         {
          "font": {
           "size": 16
          },
          "showarrow": false,
          "text": "Output Bitstring Occurrences",
          "x": 0.308,
          "xanchor": "center",
          "xref": "paper",
          "y": 0.5227272727272727,
          "yanchor": "bottom",
          "yref": "paper"
         },
         {
          "font": {
           "size": 16
          },
          "showarrow": false,
          "text": "Failed/Passed Traps",
          "x": 0.848,
          "xanchor": "center",
          "xref": "paper",
          "y": 0.5227272727272727,
          "yanchor": "bottom",
          "yref": "paper"
         },
         {
          "font": {
           "size": 16
          },
          "showarrow": false,
          "text": "Output Bitstring Occurrences",
          "x": 0.308,
          "xanchor": "center",
          "xref": "paper",
          "y": 0.4272727272727273,
          "yanchor": "bottom",
          "yref": "paper"
         },
         {
          "font": {
           "size": 16
          },
          "showarrow": false,
          "text": "Failed/Passed Traps",
          "x": 0.848,
          "xanchor": "center",
          "xref": "paper",
          "y": 0.4272727272727273,
          "yanchor": "bottom",
          "yref": "paper"
         },
         {
          "font": {
           "size": 16
          },
          "showarrow": false,
          "text": "Output Bitstring Occurrences",
          "x": 0.308,
          "xanchor": "center",
          "xref": "paper",
          "y": 0.33181818181818185,
          "yanchor": "bottom",
          "yref": "paper"
         },
         {
          "font": {
           "size": 16
          },
          "showarrow": false,
          "text": "Failed/Passed Traps",
          "x": 0.848,
          "xanchor": "center",
          "xref": "paper",
          "y": 0.33181818181818185,
          "yanchor": "bottom",
          "yref": "paper"
         },
         {
          "font": {
           "size": 16
          },
          "showarrow": false,
          "text": "Output Bitstring Occurrences",
          "x": 0.308,
          "xanchor": "center",
          "xref": "paper",
          "y": 0.2363636363636364,
          "yanchor": "bottom",
          "yref": "paper"
         },
         {
          "font": {
           "size": 16
          },
          "showarrow": false,
          "text": "Failed/Passed Traps",
          "x": 0.848,
          "xanchor": "center",
          "xref": "paper",
          "y": 0.2363636363636364,
          "yanchor": "bottom",
          "yref": "paper"
         },
         {
          "font": {
           "size": 16
          },
          "showarrow": false,
          "text": "Output Bitstring Occurrences",
          "x": 0.308,
          "xanchor": "center",
          "xref": "paper",
          "y": 0.14090909090909093,
          "yanchor": "bottom",
          "yref": "paper"
         },
         {
          "font": {
           "size": 16
          },
          "showarrow": false,
          "text": "Failed/Passed Traps",
          "x": 0.848,
          "xanchor": "center",
          "xref": "paper",
          "y": 0.14090909090909093,
          "yanchor": "bottom",
          "yref": "paper"
         },
         {
          "font": {
           "size": 16
          },
          "showarrow": false,
          "text": "Output Bitstring Occurrences",
          "x": 0.308,
          "xanchor": "center",
          "xref": "paper",
          "y": 0.045454545454545456,
          "yanchor": "bottom",
          "yref": "paper"
         },
         {
          "font": {
           "size": 16
          },
          "showarrow": false,
          "text": "Failed/Passed Traps",
          "x": 0.848,
          "xanchor": "center",
          "xref": "paper",
          "y": 0.045454545454545456,
          "yanchor": "bottom",
          "yref": "paper"
         },
         {
          "font": {
           "size": 16
          },
          "showarrow": false,
          "text": "p=0",
          "textangle": 90,
          "x": 0.98,
          "xanchor": "left",
          "xref": "paper",
          "y": 0.9772727272727273,
          "yanchor": "middle",
          "yref": "paper"
         },
         {
          "font": {
           "size": 16
          },
          "showarrow": false,
          "text": "p=0.01",
          "textangle": 90,
          "x": 0.98,
          "xanchor": "left",
          "xref": "paper",
          "y": 0.8818181818181818,
          "yanchor": "middle",
          "yref": "paper"
         },
         {
          "font": {
           "size": 16
          },
          "showarrow": false,
          "text": "p=0.02",
          "textangle": 90,
          "x": 0.98,
          "xanchor": "left",
          "xref": "paper",
          "y": 0.7863636363636364,
          "yanchor": "middle",
          "yref": "paper"
         },
         {
          "font": {
           "size": 16
          },
          "showarrow": false,
          "text": "p=0.03",
          "textangle": 90,
          "x": 0.98,
          "xanchor": "left",
          "xref": "paper",
          "y": 0.6909090909090909,
          "yanchor": "middle",
          "yref": "paper"
         },
         {
          "font": {
           "size": 16
          },
          "showarrow": false,
          "text": "p=0.05",
          "textangle": 90,
          "x": 0.98,
          "xanchor": "left",
          "xref": "paper",
          "y": 0.5954545454545455,
          "yanchor": "middle",
          "yref": "paper"
         },
         {
          "font": {
           "size": 16
          },
          "showarrow": false,
          "text": "p=0.07",
          "textangle": 90,
          "x": 0.98,
          "xanchor": "left",
          "xref": "paper",
          "y": 0.5,
          "yanchor": "middle",
          "yref": "paper"
         },
         {
          "font": {
           "size": 16
          },
          "showarrow": false,
          "text": "p=0.1",
          "textangle": 90,
          "x": 0.98,
          "xanchor": "left",
          "xref": "paper",
          "y": 0.40454545454545454,
          "yanchor": "middle",
          "yref": "paper"
         },
         {
          "font": {
           "size": 16
          },
          "showarrow": false,
          "text": "p=0.15",
          "textangle": 90,
          "x": 0.98,
          "xanchor": "left",
          "xref": "paper",
          "y": 0.3090909090909091,
          "yanchor": "middle",
          "yref": "paper"
         },
         {
          "font": {
           "size": 16
          },
          "showarrow": false,
          "text": "p=0.2",
          "textangle": 90,
          "x": 0.98,
          "xanchor": "left",
          "xref": "paper",
          "y": 0.21363636363636365,
          "yanchor": "middle",
          "yref": "paper"
         },
         {
          "font": {
           "size": 16
          },
          "showarrow": false,
          "text": "p=0.5",
          "textangle": 90,
          "x": 0.98,
          "xanchor": "left",
          "xref": "paper",
          "y": 0.1181818181818182,
          "yanchor": "middle",
          "yref": "paper"
         },
         {
          "font": {
           "size": 16
          },
          "showarrow": false,
          "text": "p=1",
          "textangle": 90,
          "x": 0.98,
          "xanchor": "left",
          "xref": "paper",
          "y": 0.022727272727272728,
          "yanchor": "middle",
          "yref": "paper"
         }
        ],
        "height": 4400,
        "showlegend": false,
        "template": {
         "data": {
          "bar": [
           {
            "error_x": {
             "color": "#2a3f5f"
            },
            "error_y": {
             "color": "#2a3f5f"
            },
            "marker": {
             "line": {
              "color": "#E5ECF6",
              "width": 0.5
             },
             "pattern": {
              "fillmode": "overlay",
              "size": 10,
              "solidity": 0.2
             }
            },
            "type": "bar"
           }
          ],
          "barpolar": [
           {
            "marker": {
             "line": {
              "color": "#E5ECF6",
              "width": 0.5
             },
             "pattern": {
              "fillmode": "overlay",
              "size": 10,
              "solidity": 0.2
             }
            },
            "type": "barpolar"
           }
          ],
          "carpet": [
           {
            "aaxis": {
             "endlinecolor": "#2a3f5f",
             "gridcolor": "white",
             "linecolor": "white",
             "minorgridcolor": "white",
             "startlinecolor": "#2a3f5f"
            },
            "baxis": {
             "endlinecolor": "#2a3f5f",
             "gridcolor": "white",
             "linecolor": "white",
             "minorgridcolor": "white",
             "startlinecolor": "#2a3f5f"
            },
            "type": "carpet"
           }
          ],
          "choropleth": [
           {
            "colorbar": {
             "outlinewidth": 0,
             "ticks": ""
            },
            "type": "choropleth"
           }
          ],
          "contour": [
           {
            "colorbar": {
             "outlinewidth": 0,
             "ticks": ""
            },
            "colorscale": [
             [
              0,
              "#0d0887"
             ],
             [
              0.1111111111111111,
              "#46039f"
             ],
             [
              0.2222222222222222,
              "#7201a8"
             ],
             [
              0.3333333333333333,
              "#9c179e"
             ],
             [
              0.4444444444444444,
              "#bd3786"
             ],
             [
              0.5555555555555556,
              "#d8576b"
             ],
             [
              0.6666666666666666,
              "#ed7953"
             ],
             [
              0.7777777777777778,
              "#fb9f3a"
             ],
             [
              0.8888888888888888,
              "#fdca26"
             ],
             [
              1,
              "#f0f921"
             ]
            ],
            "type": "contour"
           }
          ],
          "contourcarpet": [
           {
            "colorbar": {
             "outlinewidth": 0,
             "ticks": ""
            },
            "type": "contourcarpet"
           }
          ],
          "heatmap": [
           {
            "colorbar": {
             "outlinewidth": 0,
             "ticks": ""
            },
            "colorscale": [
             [
              0,
              "#0d0887"
             ],
             [
              0.1111111111111111,
              "#46039f"
             ],
             [
              0.2222222222222222,
              "#7201a8"
             ],
             [
              0.3333333333333333,
              "#9c179e"
             ],
             [
              0.4444444444444444,
              "#bd3786"
             ],
             [
              0.5555555555555556,
              "#d8576b"
             ],
             [
              0.6666666666666666,
              "#ed7953"
             ],
             [
              0.7777777777777778,
              "#fb9f3a"
             ],
             [
              0.8888888888888888,
              "#fdca26"
             ],
             [
              1,
              "#f0f921"
             ]
            ],
            "type": "heatmap"
           }
          ],
          "heatmapgl": [
           {
            "colorbar": {
             "outlinewidth": 0,
             "ticks": ""
            },
            "colorscale": [
             [
              0,
              "#0d0887"
             ],
             [
              0.1111111111111111,
              "#46039f"
             ],
             [
              0.2222222222222222,
              "#7201a8"
             ],
             [
              0.3333333333333333,
              "#9c179e"
             ],
             [
              0.4444444444444444,
              "#bd3786"
             ],
             [
              0.5555555555555556,
              "#d8576b"
             ],
             [
              0.6666666666666666,
              "#ed7953"
             ],
             [
              0.7777777777777778,
              "#fb9f3a"
             ],
             [
              0.8888888888888888,
              "#fdca26"
             ],
             [
              1,
              "#f0f921"
             ]
            ],
            "type": "heatmapgl"
           }
          ],
          "histogram": [
           {
            "marker": {
             "pattern": {
              "fillmode": "overlay",
              "size": 10,
              "solidity": 0.2
             }
            },
            "type": "histogram"
           }
          ],
          "histogram2d": [
           {
            "colorbar": {
             "outlinewidth": 0,
             "ticks": ""
            },
            "colorscale": [
             [
              0,
              "#0d0887"
             ],
             [
              0.1111111111111111,
              "#46039f"
             ],
             [
              0.2222222222222222,
              "#7201a8"
             ],
             [
              0.3333333333333333,
              "#9c179e"
             ],
             [
              0.4444444444444444,
              "#bd3786"
             ],
             [
              0.5555555555555556,
              "#d8576b"
             ],
             [
              0.6666666666666666,
              "#ed7953"
             ],
             [
              0.7777777777777778,
              "#fb9f3a"
             ],
             [
              0.8888888888888888,
              "#fdca26"
             ],
             [
              1,
              "#f0f921"
             ]
            ],
            "type": "histogram2d"
           }
          ],
          "histogram2dcontour": [
           {
            "colorbar": {
             "outlinewidth": 0,
             "ticks": ""
            },
            "colorscale": [
             [
              0,
              "#0d0887"
             ],
             [
              0.1111111111111111,
              "#46039f"
             ],
             [
              0.2222222222222222,
              "#7201a8"
             ],
             [
              0.3333333333333333,
              "#9c179e"
             ],
             [
              0.4444444444444444,
              "#bd3786"
             ],
             [
              0.5555555555555556,
              "#d8576b"
             ],
             [
              0.6666666666666666,
              "#ed7953"
             ],
             [
              0.7777777777777778,
              "#fb9f3a"
             ],
             [
              0.8888888888888888,
              "#fdca26"
             ],
             [
              1,
              "#f0f921"
             ]
            ],
            "type": "histogram2dcontour"
           }
          ],
          "mesh3d": [
           {
            "colorbar": {
             "outlinewidth": 0,
             "ticks": ""
            },
            "type": "mesh3d"
           }
          ],
          "parcoords": [
           {
            "line": {
             "colorbar": {
              "outlinewidth": 0,
              "ticks": ""
             }
            },
            "type": "parcoords"
           }
          ],
          "pie": [
           {
            "automargin": true,
            "type": "pie"
           }
          ],
          "scatter": [
           {
            "fillpattern": {
             "fillmode": "overlay",
             "size": 10,
             "solidity": 0.2
            },
            "type": "scatter"
           }
          ],
          "scatter3d": [
           {
            "line": {
             "colorbar": {
              "outlinewidth": 0,
              "ticks": ""
             }
            },
            "marker": {
             "colorbar": {
              "outlinewidth": 0,
              "ticks": ""
             }
            },
            "type": "scatter3d"
           }
          ],
          "scattercarpet": [
           {
            "marker": {
             "colorbar": {
              "outlinewidth": 0,
              "ticks": ""
             }
            },
            "type": "scattercarpet"
           }
          ],
          "scattergeo": [
           {
            "marker": {
             "colorbar": {
              "outlinewidth": 0,
              "ticks": ""
             }
            },
            "type": "scattergeo"
           }
          ],
          "scattergl": [
           {
            "marker": {
             "colorbar": {
              "outlinewidth": 0,
              "ticks": ""
             }
            },
            "type": "scattergl"
           }
          ],
          "scattermapbox": [
           {
            "marker": {
             "colorbar": {
              "outlinewidth": 0,
              "ticks": ""
             }
            },
            "type": "scattermapbox"
           }
          ],
          "scatterpolar": [
           {
            "marker": {
             "colorbar": {
              "outlinewidth": 0,
              "ticks": ""
             }
            },
            "type": "scatterpolar"
           }
          ],
          "scatterpolargl": [
           {
            "marker": {
             "colorbar": {
              "outlinewidth": 0,
              "ticks": ""
             }
            },
            "type": "scatterpolargl"
           }
          ],
          "scatterternary": [
           {
            "marker": {
             "colorbar": {
              "outlinewidth": 0,
              "ticks": ""
             }
            },
            "type": "scatterternary"
           }
          ],
          "surface": [
           {
            "colorbar": {
             "outlinewidth": 0,
             "ticks": ""
            },
            "colorscale": [
             [
              0,
              "#0d0887"
             ],
             [
              0.1111111111111111,
              "#46039f"
             ],
             [
              0.2222222222222222,
              "#7201a8"
             ],
             [
              0.3333333333333333,
              "#9c179e"
             ],
             [
              0.4444444444444444,
              "#bd3786"
             ],
             [
              0.5555555555555556,
              "#d8576b"
             ],
             [
              0.6666666666666666,
              "#ed7953"
             ],
             [
              0.7777777777777778,
              "#fb9f3a"
             ],
             [
              0.8888888888888888,
              "#fdca26"
             ],
             [
              1,
              "#f0f921"
             ]
            ],
            "type": "surface"
           }
          ],
          "table": [
           {
            "cells": {
             "fill": {
              "color": "#EBF0F8"
             },
             "line": {
              "color": "white"
             }
            },
            "header": {
             "fill": {
              "color": "#C8D4E3"
             },
             "line": {
              "color": "white"
             }
            },
            "type": "table"
           }
          ]
         },
         "layout": {
          "annotationdefaults": {
           "arrowcolor": "#2a3f5f",
           "arrowhead": 0,
           "arrowwidth": 1
          },
          "autotypenumbers": "strict",
          "coloraxis": {
           "colorbar": {
            "outlinewidth": 0,
            "ticks": ""
           }
          },
          "colorscale": {
           "diverging": [
            [
             0,
             "#8e0152"
            ],
            [
             0.1,
             "#c51b7d"
            ],
            [
             0.2,
             "#de77ae"
            ],
            [
             0.3,
             "#f1b6da"
            ],
            [
             0.4,
             "#fde0ef"
            ],
            [
             0.5,
             "#f7f7f7"
            ],
            [
             0.6,
             "#e6f5d0"
            ],
            [
             0.7,
             "#b8e186"
            ],
            [
             0.8,
             "#7fbc41"
            ],
            [
             0.9,
             "#4d9221"
            ],
            [
             1,
             "#276419"
            ]
           ],
           "sequential": [
            [
             0,
             "#0d0887"
            ],
            [
             0.1111111111111111,
             "#46039f"
            ],
            [
             0.2222222222222222,
             "#7201a8"
            ],
            [
             0.3333333333333333,
             "#9c179e"
            ],
            [
             0.4444444444444444,
             "#bd3786"
            ],
            [
             0.5555555555555556,
             "#d8576b"
            ],
            [
             0.6666666666666666,
             "#ed7953"
            ],
            [
             0.7777777777777778,
             "#fb9f3a"
            ],
            [
             0.8888888888888888,
             "#fdca26"
            ],
            [
             1,
             "#f0f921"
            ]
           ],
           "sequentialminus": [
            [
             0,
             "#0d0887"
            ],
            [
             0.1111111111111111,
             "#46039f"
            ],
            [
             0.2222222222222222,
             "#7201a8"
            ],
            [
             0.3333333333333333,
             "#9c179e"
            ],
            [
             0.4444444444444444,
             "#bd3786"
            ],
            [
             0.5555555555555556,
             "#d8576b"
            ],
            [
             0.6666666666666666,
             "#ed7953"
            ],
            [
             0.7777777777777778,
             "#fb9f3a"
            ],
            [
             0.8888888888888888,
             "#fdca26"
            ],
            [
             1,
             "#f0f921"
            ]
           ]
          },
          "colorway": [
           "#636efa",
           "#EF553B",
           "#00cc96",
           "#ab63fa",
           "#FFA15A",
           "#19d3f3",
           "#FF6692",
           "#B6E880",
           "#FF97FF",
           "#FECB52"
          ],
          "font": {
           "color": "#2a3f5f"
          },
          "geo": {
           "bgcolor": "white",
           "lakecolor": "white",
           "landcolor": "#E5ECF6",
           "showlakes": true,
           "showland": true,
           "subunitcolor": "white"
          },
          "hoverlabel": {
           "align": "left"
          },
          "hovermode": "closest",
          "mapbox": {
           "style": "light"
          },
          "paper_bgcolor": "white",
          "plot_bgcolor": "#E5ECF6",
          "polar": {
           "angularaxis": {
            "gridcolor": "white",
            "linecolor": "white",
            "ticks": ""
           },
           "bgcolor": "#E5ECF6",
           "radialaxis": {
            "gridcolor": "white",
            "linecolor": "white",
            "ticks": ""
           }
          },
          "scene": {
           "xaxis": {
            "backgroundcolor": "#E5ECF6",
            "gridcolor": "white",
            "gridwidth": 2,
            "linecolor": "white",
            "showbackground": true,
            "ticks": "",
            "zerolinecolor": "white"
           },
           "yaxis": {
            "backgroundcolor": "#E5ECF6",
            "gridcolor": "white",
            "gridwidth": 2,
            "linecolor": "white",
            "showbackground": true,
            "ticks": "",
            "zerolinecolor": "white"
           },
           "zaxis": {
            "backgroundcolor": "#E5ECF6",
            "gridcolor": "white",
            "gridwidth": 2,
            "linecolor": "white",
            "showbackground": true,
            "ticks": "",
            "zerolinecolor": "white"
           }
          },
          "shapedefaults": {
           "line": {
            "color": "#2a3f5f"
           }
          },
          "ternary": {
           "aaxis": {
            "gridcolor": "white",
            "linecolor": "white",
            "ticks": ""
           },
           "baxis": {
            "gridcolor": "white",
            "linecolor": "white",
            "ticks": ""
           },
           "bgcolor": "#E5ECF6",
           "caxis": {
            "gridcolor": "white",
            "linecolor": "white",
            "ticks": ""
           }
          },
          "title": {
           "x": 0.05
          },
          "xaxis": {
           "automargin": true,
           "gridcolor": "white",
           "linecolor": "white",
           "ticks": "",
           "title": {
            "standoff": 15
           },
           "zerolinecolor": "white",
           "zerolinewidth": 2
          },
          "yaxis": {
           "automargin": true,
           "gridcolor": "white",
           "linecolor": "white",
           "ticks": "",
           "title": {
            "standoff": 15
           },
           "zerolinecolor": "white",
           "zerolinewidth": 2
          }
         }
        },
        "title": {
         "text": "Output Bitstring Occurrences and Trap Results per Noise Level (p)"
        },
        "xaxis": {
         "anchor": "y",
         "domain": [
          0,
          0.616
         ]
        },
        "xaxis10": {
         "anchor": "y10",
         "domain": [
          0,
          0.616
         ]
        },
        "xaxis11": {
         "anchor": "y11",
         "domain": [
          0,
          0.616
         ]
        },
        "xaxis2": {
         "anchor": "y2",
         "domain": [
          0,
          0.616
         ]
        },
        "xaxis3": {
         "anchor": "y3",
         "domain": [
          0,
          0.616
         ]
        },
        "xaxis4": {
         "anchor": "y4",
         "domain": [
          0,
          0.616
         ]
        },
        "xaxis5": {
         "anchor": "y5",
         "domain": [
          0,
          0.616
         ]
        },
        "xaxis6": {
         "anchor": "y6",
         "domain": [
          0,
          0.616
         ]
        },
        "xaxis7": {
         "anchor": "y7",
         "domain": [
          0,
          0.616
         ]
        },
        "xaxis8": {
         "anchor": "y8",
         "domain": [
          0,
          0.616
         ]
        },
        "xaxis9": {
         "anchor": "y9",
         "domain": [
          0,
          0.616
         ]
        },
        "yaxis": {
         "anchor": "x",
         "domain": [
          0.9545454545454546,
          1
         ]
        },
        "yaxis10": {
         "anchor": "x10",
         "domain": [
          0.09545454545454546,
          0.14090909090909093
         ]
        },
        "yaxis11": {
         "anchor": "x11",
         "domain": [
          0,
          0.045454545454545456
         ]
        },
        "yaxis2": {
         "anchor": "x2",
         "domain": [
          0.8590909090909091,
          0.9045454545454545
         ]
        },
        "yaxis3": {
         "anchor": "x3",
         "domain": [
          0.7636363636363637,
          0.8090909090909091
         ]
        },
        "yaxis4": {
         "anchor": "x4",
         "domain": [
          0.6681818181818182,
          0.7136363636363636
         ]
        },
        "yaxis5": {
         "anchor": "x5",
         "domain": [
          0.5727272727272728,
          0.6181818181818182
         ]
        },
        "yaxis6": {
         "anchor": "x6",
         "domain": [
          0.4772727272727273,
          0.5227272727272727
         ]
        },
        "yaxis7": {
         "anchor": "x7",
         "domain": [
          0.38181818181818183,
          0.4272727272727273
         ]
        },
        "yaxis8": {
         "anchor": "x8",
         "domain": [
          0.2863636363636364,
          0.33181818181818185
         ]
        },
        "yaxis9": {
         "anchor": "x9",
         "domain": [
          0.19090909090909092,
          0.2363636363636364
         ]
        }
       }
      }
     },
     "metadata": {},
     "output_type": "display_data"
    }
   ],
   "source": [
    "import plotly.graph_objects as go\n",
    "import matplotlib.cm as cm\n",
    "from matplotlib.colors import LogNorm, to_hex\n",
    "from plotly.subplots import make_subplots\n",
    "\n",
    "# Function to get color based on p value\n",
    "def get_heatmap_color(p, colormap_name='coolwarm', vmin=0.1, vmax=1):\n",
    "    colormap = cm.get_cmap(colormap_name)\n",
    "    norm = LogNorm(vmin=vmin, vmax=vmax)  # Normalize p within [vmin, vmax]\n",
    "    return to_hex(colormap(norm(p)))  # Convert to hex color for Plotly\n",
    "\n",
    "# Number of rows and columns for the subplot grid\n",
    "num_rows = len(all_histograms)  # Each p value gets its own row\n",
    "num_cols = 2  # One column for bar chart, one for pie chart\n",
    "\n",
    "# Create a subplot grid with multiple rows and columns\n",
    "fig = make_subplots(\n",
    "    rows=num_rows, cols=num_cols,\n",
    "    column_widths=[0.7, 0.3],\n",
    "    row_titles=[f'p={p}' for p in all_histograms.keys()],\n",
    "    subplot_titles=[\"Output Bitstring Occurrences\", \"Failed/Passed Traps\"] * len(all_histograms),\n",
    "    vertical_spacing=0.05,\n",
    "    specs=[[{\"type\": \"bar\"}, {\"type\": \"pie\"}] for _ in range(num_rows)]\n",
    ")\n",
    "\n",
    "# Add bar charts and pie charts for each p value\n",
    "colors = ['#EF553B', '#a5ff33']  # Red for 'Failed traps', Green for 'Passed traps'\n",
    "\n",
    "for idx, (p, histogram) in enumerate(all_histograms.items()):\n",
    "    frequencies = [histogram.get(outcome, 0) for outcome in all_outcomes]\n",
    "    \n",
    "    # Get colors for each bar based on the current p value\n",
    "    bar_colors = [get_heatmap_color(p + 0.1) for _ in all_outcomes]\n",
    "    \n",
    "    # Add bar chart to the first column\n",
    "    fig.add_trace(\n",
    "        go.Bar(\n",
    "            x=all_outcomes,\n",
    "            y=frequencies,\n",
    "            name=f'Bitstrings (p={p})',\n",
    "            marker=dict(color=bar_colors)\n",
    "        ),\n",
    "        row=idx + 1, col=1\n",
    "    )\n",
    "    \n",
    "    # Add pie chart to the second column\n",
    "    failed_value = failed_traps_histograms.get(p, 0)\n",
    "    fig.add_trace(\n",
    "        go.Pie(\n",
    "            labels=['Failed traps', 'Passed traps'],\n",
    "            values=[failed_value, 1 - failed_value],\n",
    "            marker=dict(colors=colors),\n",
    "            name=f'Traps (p={p})'\n",
    "        ),\n",
    "        row=idx + 1, col=2\n",
    "    )\n",
    "\n",
    "# Update layout for better spacing and appearance\n",
    "fig.update_layout(\n",
    "    title=\"Output Bitstring Occurrences and Trap Results per Noise Level (p)\",\n",
    "    height=400 * num_rows,  # Dynamic height based on the number of rows\n",
    "    showlegend=False  # Disable legend for clarity\n",
    ")\n",
    "\n",
    "fig.show()\n"
   ]
  },
  {
   "cell_type": "code",
   "execution_count": 14,
   "metadata": {},
   "outputs": [
    {
     "name": "stdout",
     "output_type": "stream",
     "text": [
      "{0: {'00': 1000}, 0.01: {'00': 905, '01': 65, '10': 25, '11': 5}, 0.02: {'00': 806, '01': 112, '10': 58, '11': 24}, 0.03: {'10': 74, '01': 175, '00': 720, '11': 31}, 0.05: {'00': 590, '10': 126, '01': 214, '11': 70}, 0.07: {'01': 254, '00': 525, '10': 134, '11': 87}, 0.1: {'00': 421, '10': 157, '01': 291, '11': 131}, 0.15: {'00': 302, '01': 290, '10': 220, '11': 188}, 0.2: {'10': 240, '00': 286, '11': 203, '01': 271}, 0.5: {'01': 257, '11': 211, '00': 270, '10': 262}, 1: {'01': 259, '10': 254, '11': 263, '00': 224}}\n",
      "{0: 0.0, 0.01: 0.115, 0.02: 0.213, 0.03: 0.3, 0.05: 0.432, 0.07: 0.554, 0.1: 0.669, 0.15: 0.796, 0.2: 0.824, 0.5: 0.891, 1: 0.873}\n"
     ]
    }
   ],
   "source": [
    "print(all_histograms)\n",
    "print(failed_traps_histograms)"
   ]
  }
 ],
 "metadata": {
  "kernelspec": {
   "display_name": ".venv",
   "language": "python",
   "name": "python3"
  },
  "language_info": {
   "codemirror_mode": {
    "name": "ipython",
    "version": 3
   },
   "file_extension": ".py",
   "mimetype": "text/x-python",
   "name": "python",
   "nbconvert_exporter": "python",
   "pygments_lexer": "ipython3",
   "version": "3.12.4"
  }
 },
 "nbformat": 4,
 "nbformat_minor": 2
}
