{
 "cells": [
  {
   "cell_type": "code",
   "execution_count": 2,
   "metadata": {},
   "outputs": [
    {
     "name": "stdout",
     "output_type": "stream",
     "text": [
      "[5, 3]\n"
     ]
    }
   ],
   "source": [
    "from graphix.random_objects import rand_circuit, Circuit\n",
    "import graphix.command\n",
    "import numpy as np\n",
    "\n",
    "nqubits = 2\n",
    "depth = 1\n",
    "fx_rng = np.random.default_rng()\n",
    "circuit = rand_circuit(nqubits, depth, fx_rng)\n",
    "\n",
    "circuit = Circuit(2)\n",
    "# circuit.h(0)\n",
    "# circuit.h(0)\n",
    "circuit.cnot(0,1)\n",
    "# circuit.h(1)\n",
    "circuit.rz(0,np.pi/4)\n",
    "\n",
    "pattern = circuit.transpile().pattern\n",
    "pattern.standardize()\n",
    "\n",
    "classical_output = pattern.output_nodes\n",
    "print(classical_output)\n",
    "# don't forget to add in the output nodes that are not initially measured!\n",
    "for onode in classical_output:\n",
    "    pattern.add(graphix.command.M(node=onode))"
   ]
  },
  {
   "cell_type": "code",
   "execution_count": 3,
   "metadata": {},
   "outputs": [
    {
     "name": "stdout",
     "output_type": "stream",
     "text": [
      "The graph of the pattern has 6 nodes.\n",
      "There are 6 traps in total.\n"
     ]
    }
   ],
   "source": [
    "from veriphix.client import Client, Secrets\n",
    "from graphix.states import BasicStates\n",
    "states = [BasicStates.PLUS for _ in pattern.input_nodes]\n",
    "secrets = Secrets(r=True, a=True, theta=True)\n",
    "client = Client(pattern=pattern, secrets=secrets, input_state=states)\n",
    "\n",
    "test_runs = client.create_test_runs()\n",
    "number_of_traps = sum([len(run.trap_qubits)\n",
    "                    for run in test_runs])\n",
    "# should be = len(client.graph[0])\n",
    "n_nodes = len(client.graph[0])\n",
    "print(f\"The graph of the pattern has {n_nodes} nodes.\")\n",
    "print(f\"There are {number_of_traps} traps in total.\")"
   ]
  },
  {
   "cell_type": "code",
   "execution_count": 32,
   "metadata": {},
   "outputs": [],
   "source": [
    "from noise_model import VBQCNoiseModel\n",
    "from graphix.sim.density_matrix import DensityMatrixBackend\n",
    "from graphix.sim.statevec import StatevectorBackend\n",
    "backend = DensityMatrixBackend()\n",
    "# backend = StatevectorBackend()"
   ]
  },
  {
   "cell_type": "code",
   "execution_count": 35,
   "metadata": {},
   "outputs": [
    {
     "name": "stdout",
     "output_type": "stream",
     "text": [
      "There are 6 traps in total.\n",
      "Noise model with p=0, 0/600 traps failed.\n",
      "Noise model with p=0.01, 21/600 traps failed.\n",
      "Noise model with p=0.1, 209/600 traps failed.\n",
      "Noise model with p=0.5, 320/600 traps failed.\n",
      "Noise model with p=0.7, 316/600 traps failed.\n",
      "Noise model with p=1, 285/600 traps failed.\n"
     ]
    }
   ],
   "source": [
    "print(f\"There are {number_of_traps} traps in total.\")\n",
    "for p in [0, 0.01,0.1, 0.5, 0.7, 1]:\n",
    "    noise = VBQCNoiseModel(\n",
    "        prepare_error_prob=p, # 0.7\n",
    "        x_error_prob=p,\n",
    "        z_error_prob=p,\n",
    "        entanglement_error_prob=p,\n",
    "        measure_channel_prob=p,\n",
    "        measure_error_prob=p,\n",
    "    )\n",
    "    N = 100\n",
    "    n=0\n",
    "    for run in test_runs:\n",
    "        for i in range(N):\n",
    "            client.refresh_randomness()\n",
    "            trap_outcomes = client.delegate_test_run(run=run, backend=backend, noise_model=noise)\n",
    "            # A trap is failed if the sum of the outcomes is 1\n",
    "            n_failed_traps = sum(trap_outcomes)\n",
    "            n += n_failed_traps\n",
    "    print(f\"Noise model with p={p}, {n}/{number_of_traps*N} traps failed.\")\n",
    "        "
   ]
  },
  {
   "cell_type": "markdown",
   "metadata": {},
   "source": [
    "It becomes also relevant to write the number of occurrence per output bitstring (length 2) for a normal delegation. Again trying 100 times."
   ]
  },
  {
   "cell_type": "code",
   "execution_count": null,
   "metadata": {},
   "outputs": [
    {
     "name": "stdout",
     "output_type": "stream",
     "text": [
      "There are 6 traps in total.\n",
      "Noise model with p=0, 0/600 traps failed.\n",
      "Noise model with p=0.01, 21/600 traps failed.\n",
      "Noise model with p=0.1, 209/600 traps failed.\n",
      "Noise model with p=0.5, 320/600 traps failed.\n",
      "Noise model with p=0.7, 316/600 traps failed.\n",
      "Noise model with p=1, 285/600 traps failed.\n"
     ]
    }
   ],
   "source": [
    "print(f\"There are {number_of_traps} traps in total.\")\n",
    "for p in [0, 0.01,0.1, 0.5, 0.7, 1]:\n",
    "    noise = VBQCNoiseModel(\n",
    "        prepare_error_prob=p, # 0.7\n",
    "        x_error_prob=p,\n",
    "        z_error_prob=p,\n",
    "        entanglement_error_prob=p,\n",
    "        measure_channel_prob=p,\n",
    "        measure_error_prob=p,\n",
    "    )\n",
    "    N = 100\n",
    "    n=0\n",
    "    for i in range(N):\n",
    "        # Delegate each test run N times\n",
    "        for run in test_runs:\n",
    "            client.refresh_randomness()\n",
    "            trap_outcomes = client.delegate_test_run(run=run, backend=backend, noise_model=noise)\n",
    "            # A trap is failed if the sum of the outcomes is 1\n",
    "            n_failed_traps = sum(trap_outcomes)\n",
    "            n += n_failed_traps\n",
    "        \n",
    "\n",
    "    print(f\"Noise model with p={p}, {n}/{number_of_traps*N} traps failed.\")\n",
    "        "
   ]
  },
  {
   "cell_type": "markdown",
   "metadata": {},
   "source": [
    "## Concrete VBQC example"
   ]
  },
  {
   "cell_type": "code",
   "execution_count": 9,
   "metadata": {},
   "outputs": [],
   "source": [
    "import random as rd\n",
    "from noise_model import VBQCNoiseModel\n",
    "from graphix.sim.density_matrix import DensityMatrixBackend\n",
    "from graphix.sim.statevec import StatevectorBackend\n",
    "import matplotlib.pyplot as plt\n",
    "import random as rd\n",
    "import numpy as np\n",
    "from random import randint"
   ]
  },
  {
   "cell_type": "code",
   "execution_count": 10,
   "metadata": {},
   "outputs": [
    {
     "name": "stdout",
     "output_type": "stream",
     "text": [
      "Attempt with noise model p=0\n",
      "Iterating 100 times with 100 computation rounds and 0 trap rounds.\n",
      "Attempt with noise model p=1\n",
      "Iterating 100 times with 100 computation rounds and 0 trap rounds.\n"
     ]
    },
    {
     "data": {
      "image/png": "[encoded data removed]",
      "text/plain": [
       "<Figure size 1400x800 with 1 Axes>"
      ]
     },
     "metadata": {},
     "output_type": "display_data"
    }
   ],
   "source": [
    "# Function to generate random colors\n",
    "def random_color():\n",
    "    return f'#{randint(0, 255):02X}{randint(0, 255):02X}{randint(0, 255):02X}'\n",
    "\n",
    "# Trappified scheme parameters\n",
    "d = 100\n",
    "t = 0\n",
    "N = d + t\n",
    "\n",
    "# Re-setting the backend\n",
    "backend = DensityMatrixBackend()\n",
    "\n",
    "# Store data for each value of p\n",
    "all_histograms = {}\n",
    "\n",
    "# Example of multiple p values for generalization\n",
    "p_values = [0, 1]\n",
    "\n",
    "for p in p_values:\n",
    "    noise = VBQCNoiseModel(\n",
    "        prepare_error_prob=p,\n",
    "        x_error_prob=p,\n",
    "        z_error_prob=p,\n",
    "        entanglement_error_prob=p,\n",
    "        measure_channel_prob=p,\n",
    "        measure_error_prob=p,\n",
    "    )\n",
    "    print(f\"Attempt with noise model p={p}\")\n",
    "    print(f\"Iterating {N} times with {d} computation rounds and {t} trap rounds.\")\n",
    "    outcomes_histogram = dict()\n",
    "\n",
    "    for _ in range(N):\n",
    "        i = rd.choice(range(N))\n",
    "        if i < d:\n",
    "            # Computation round\n",
    "            client.refresh_randomness()\n",
    "            client.delegate_pattern(backend=backend, noise_model=noise)\n",
    "            computation_outcome = \"\"\n",
    "            for onode in classical_output:\n",
    "                computation_outcome += str(client.results[onode])\n",
    "            if computation_outcome not in outcomes_histogram:\n",
    "                outcomes_histogram[computation_outcome] = 1\n",
    "            else:\n",
    "                outcomes_histogram[computation_outcome] += 1\n",
    "        else:\n",
    "            # Test round\n",
    "            pass\n",
    "\n",
    "    all_histograms[p] = outcomes_histogram\n",
    "\n",
    "# Combine all unique outcomes from all histograms\n",
    "all_outcomes = sorted(set().union(*[hist.keys() for hist in all_histograms.values()]))\n",
    "\n",
    "# Plotting side-by-side bars with random colors\n",
    "x = np.arange(len(all_outcomes))  # X positions for outcomes\n",
    "bar_width = 0.8 / len(p_values)  # Dynamic bar width based on the number of p values\n",
    "\n",
    "plt.figure(figsize=(14, 8))\n",
    "\n",
    "for idx, (p, histogram) in enumerate(all_histograms.items()):\n",
    "    frequencies = [histogram.get(outcome, 0) for outcome in all_outcomes]\n",
    "    color = random_color()  # Generate a random color for each p\n",
    "    plt.bar(x + idx * bar_width, frequencies, bar_width, color=color, label=f'p={p}')\n",
    "\n",
    "plt.xlabel('Outcomes')\n",
    "plt.ylabel('Frequency')\n",
    "plt.title('Histogram of Outcomes for Different Noise Levels (Side by Side)')\n",
    "plt.xticks(x + bar_width * (len(p_values) - 1) / 2, all_outcomes, rotation=90)\n",
    "plt.legend()\n",
    "plt.show()\n"
   ]
  }
 ],
 "metadata": {
  "kernelspec": {
   "display_name": ".venv",
   "language": "python",
   "name": "python3"
  },
  "language_info": {
   "codemirror_mode": {
    "name": "ipython",
    "version": 3
   },
   "file_extension": ".py",
   "mimetype": "text/x-python",
   "name": "python",
   "nbconvert_exporter": "python",
   "pygments_lexer": "ipython3",
   "version": "3.12.4"
  }
 },
 "nbformat": 4,
 "nbformat_minor": 2
}
