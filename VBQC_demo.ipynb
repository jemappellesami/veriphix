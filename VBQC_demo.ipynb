{
 "cells": [
  {
   "cell_type": "code",
   "execution_count": 96,
   "metadata": {},
   "outputs": [
    {
     "name": "stdout",
     "output_type": "stream",
     "text": [
      "[5, 3]\n"
     ]
    }
   ],
   "source": [
    "from graphix.random_objects import rand_circuit, Circuit\n",
    "import graphix.command\n",
    "import numpy as np\n",
    "\n",
    "nqubits = 2\n",
    "depth = 1\n",
    "fx_rng = np.random.default_rng()\n",
    "circuit = rand_circuit(nqubits, depth, fx_rng)\n",
    "\n",
    "circuit = Circuit(2)\n",
    "# circuit.h(0)\n",
    "# circuit.h(0)\n",
    "circuit.cnot(0,1)\n",
    "# circuit.h(1)\n",
    "circuit.rz(0,np.pi/4)\n",
    "\n",
    "pattern = circuit.transpile().pattern\n",
    "pattern.standardize()\n",
    "\n",
    "classical_output = pattern.output_nodes\n",
    "print(classical_output)\n",
    "# don't forget to add in the output nodes that are not initially measured!\n",
    "for onode in classical_output:\n",
    "    pattern.add(graphix.command.M(node=onode))"
   ]
  },
  {
   "cell_type": "code",
   "execution_count": 97,
   "metadata": {},
   "outputs": [
    {
     "name": "stdout",
     "output_type": "stream",
     "text": [
      "The graph of the pattern has 6 nodes.\n",
      "There are 6 traps in total.\n"
     ]
    }
   ],
   "source": [
    "from veriphix.client import Client, Secrets\n",
    "from graphix.states import BasicStates\n",
    "states = [BasicStates.PLUS for _ in pattern.input_nodes]\n",
    "secrets = Secrets(r=True, a=True, theta=True)\n",
    "client = Client(pattern=pattern, secrets=secrets, input_state=states)\n",
    "\n",
    "test_runs = client.create_test_runs()\n",
    "number_of_traps = sum([len(run.trap_qubits)\n",
    "                    for run in test_runs])\n",
    "# should be = len(client.graph[0])\n",
    "n_nodes = len(client.graph[0])\n",
    "print(f\"The graph of the pattern has {n_nodes} nodes.\")\n",
    "print(f\"There are {number_of_traps} traps in total.\")"
   ]
  },
  {
   "cell_type": "code",
   "execution_count": 32,
   "metadata": {},
   "outputs": [],
   "source": [
    "from noise_model import VBQCNoiseModel\n",
    "from graphix.sim.density_matrix import DensityMatrixBackend\n",
    "from graphix.sim.statevec import StatevectorBackend\n",
    "backend = DensityMatrixBackend()\n",
    "# backend = StatevectorBackend()"
   ]
  },
  {
   "cell_type": "code",
   "execution_count": 35,
   "metadata": {},
   "outputs": [
    {
     "name": "stdout",
     "output_type": "stream",
     "text": [
      "There are 6 traps in total.\n",
      "Noise model with p=0, 0/600 traps failed.\n",
      "Noise model with p=0.01, 21/600 traps failed.\n",
      "Noise model with p=0.1, 209/600 traps failed.\n",
      "Noise model with p=0.5, 320/600 traps failed.\n",
      "Noise model with p=0.7, 316/600 traps failed.\n",
      "Noise model with p=1, 285/600 traps failed.\n"
     ]
    }
   ],
   "source": [
    "print(f\"There are {number_of_traps} traps in total.\")\n",
    "for p in [0, 0.01,0.1, 0.5, 0.7, 1]:\n",
    "    noise = VBQCNoiseModel(\n",
    "        prepare_error_prob=p, # 0.7\n",
    "        x_error_prob=p,\n",
    "        z_error_prob=p,\n",
    "        entanglement_error_prob=p,\n",
    "        measure_channel_prob=p,\n",
    "        measure_error_prob=p,\n",
    "    )\n",
    "    N = 100\n",
    "    n=0\n",
    "    for run in test_runs:\n",
    "        for i in range(N):\n",
    "            client.refresh_randomness()\n",
    "            trap_outcomes = client.delegate_test_run(run=run, backend=backend, noise_model=noise)\n",
    "            # A trap is failed if the sum of the outcomes is 1\n",
    "            n_failed_traps = sum(trap_outcomes)\n",
    "            n += n_failed_traps\n",
    "    print(f\"Noise model with p={p}, {n}/{number_of_traps*N} traps failed.\")\n",
    "        "
   ]
  },
  {
   "cell_type": "markdown",
   "metadata": {},
   "source": [
    "It becomes also relevant to write the number of occurrence per output bitstring (length 2) for a normal delegation. Again trying 100 times."
   ]
  },
  {
   "cell_type": "code",
   "execution_count": null,
   "metadata": {},
   "outputs": [
    {
     "name": "stdout",
     "output_type": "stream",
     "text": [
      "There are 6 traps in total.\n",
      "Noise model with p=0, 0/600 traps failed.\n",
      "Noise model with p=0.01, 21/600 traps failed.\n",
      "Noise model with p=0.1, 209/600 traps failed.\n",
      "Noise model with p=0.5, 320/600 traps failed.\n",
      "Noise model with p=0.7, 316/600 traps failed.\n",
      "Noise model with p=1, 285/600 traps failed.\n"
     ]
    }
   ],
   "source": [
    "print(f\"There are {number_of_traps} traps in total.\")\n",
    "for p in [0, 0.01,0.1, 0.5, 0.7, 1]:\n",
    "    noise = VBQCNoiseModel(\n",
    "        prepare_error_prob=p, # 0.7\n",
    "        x_error_prob=p,\n",
    "        z_error_prob=p,\n",
    "        entanglement_error_prob=p,\n",
    "        measure_channel_prob=p,\n",
    "        measure_error_prob=p,\n",
    "    )\n",
    "    N = 100\n",
    "    n=0\n",
    "    for i in range(N):\n",
    "        # Delegate each test run N times\n",
    "        for run in test_runs:\n",
    "            client.refresh_randomness()\n",
    "            trap_outcomes = client.delegate_test_run(run=run, backend=backend, noise_model=noise)\n",
    "            # A trap is failed if the sum of the outcomes is 1\n",
    "            n_failed_traps = sum(trap_outcomes)\n",
    "            n += n_failed_traps\n",
    "        \n",
    "\n",
    "    print(f\"Noise model with p={p}, {n}/{number_of_traps*N} traps failed.\")\n",
    "        "
   ]
  },
  {
   "cell_type": "markdown",
   "metadata": {},
   "source": [
    "## Concrete VBQC example"
   ]
  },
  {
   "cell_type": "markdown",
   "metadata": {},
   "source": [
    "### Performing the simulation"
   ]
  },
  {
   "cell_type": "code",
   "execution_count": 98,
   "metadata": {},
   "outputs": [],
   "source": [
    "import random as rd\n",
    "from noise_model import VBQCNoiseModel\n",
    "from graphix.sim.density_matrix import DensityMatrixBackend\n",
    "from graphix.sim.statevec import StatevectorBackend\n",
    "import matplotlib.pyplot as plt\n",
    "import random as rd\n",
    "import numpy as np\n",
    "from random import randint"
   ]
  },
  {
   "cell_type": "code",
   "execution_count": 145,
   "metadata": {},
   "outputs": [
    {
     "name": "stdout",
     "output_type": "stream",
     "text": [
      "Iterating 2000 times with 1000 computation rounds and 1000 trap rounds.\n",
      "Attempt with noise model p=0\n",
      "Attempt with noise model p=0.01\n",
      "Attempt with noise model p=0.05\n",
      "Attempt with noise model p=0.1\n",
      "Attempt with noise model p=0.5\n",
      "Attempt with noise model p=1\n",
      "{0: 0.0, 0.01: 0.039, 0.05: 0.141, 0.1: 0.254, 0.5: 0.77, 1: 0.848}\n"
     ]
    }
   ],
   "source": [
    "import matplotlib.pyplot as plt\n",
    "import random as rd\n",
    "import numpy as np\n",
    "from matplotlib import cm  # Colormap\n",
    "from matplotlib.colors import LogNorm\n",
    "\n",
    "\n",
    "# Function to get color based on p value\n",
    "def get_heatmap_color(p, colormap_name='coolwarm', vmin=0.1, vmax=1):\n",
    "    colormap = cm.get_cmap(colormap_name)\n",
    "    norm = LogNorm(vmin=vmin, vmax=vmax)  # Normalize p within [vmin, vmax]\n",
    "    return colormap(norm(p))  # Get color for normalized p\n",
    "\n",
    "# Trappified scheme parameters\n",
    "d = 1000\n",
    "t = 1000\n",
    "N = d + t\n",
    "rounds = list(range(N))\n",
    "rd.shuffle(rounds)\n",
    "\n",
    "# Re-setting the backend\n",
    "backend = DensityMatrixBackend()\n",
    "\n",
    "# Store data for each value of p\n",
    "all_histograms = {}\n",
    "failed_traps_histograms = {}\n",
    "# Example of multiple p values for generalization\n",
    "p_values = [0, 0.01, 0.05, 0.1, 0.5, 1]\n",
    "\n",
    "print(f\"Iterating {N} times with {d} computation rounds and {t} trap rounds.\")\n",
    "for p in p_values:\n",
    "    noise = VBQCNoiseModel(\n",
    "        entanglement_error_prob=p,\n",
    "    )\n",
    "    print(f\"Attempt with noise model p={p}\")\n",
    "    outcomes_histogram = dict()\n",
    "\n",
    "    n_failed_traps = 0\n",
    "    for i in rounds:\n",
    "        if i < d:\n",
    "            # Computation round\n",
    "            # print(f\"Computation round {i}\")\n",
    "            client.refresh_randomness()\n",
    "            client.delegate_pattern(backend=backend, noise_model=noise)\n",
    "            computation_outcome = \"\"\n",
    "            for onode in classical_output:\n",
    "                computation_outcome += str(client.results[onode])\n",
    "            if computation_outcome not in outcomes_histogram:\n",
    "                outcomes_histogram[computation_outcome] = 1\n",
    "            else:\n",
    "                outcomes_histogram[computation_outcome] += 1\n",
    "        else:\n",
    "            # Test round\n",
    "            # print(f\"Test round {i}\")\n",
    "            run = rd.choice(test_runs)\n",
    "            client.refresh_randomness()\n",
    "            trap_outcomes = client.delegate_test_run(run=run, backend=backend, noise_model=noise)\n",
    "            if sum(trap_outcomes) != 0:\n",
    "                n_failed_traps += 1\n",
    "\n",
    "    all_histograms[p] = outcomes_histogram\n",
    "    failed_traps_histograms[p]=n_failed_traps/(t)\n",
    "\n",
    "# Combine all unique outcomes from all histograms\n",
    "all_outcomes = sorted(set().union(*[hist.keys() for hist in all_histograms.values()]))\n",
    "print(failed_traps_histograms)\n"
   ]
  },
  {
   "cell_type": "markdown",
   "metadata": {},
   "source": [
    "Study BQP probability"
   ]
  },
  {
   "cell_type": "code",
   "execution_count": 146,
   "metadata": {},
   "outputs": [
    {
     "name": "stdout",
     "output_type": "stream",
     "text": [
      "p=0.131\n"
     ]
    }
   ],
   "source": [
    "winning_outcome = max(all_histograms[0], key=all_histograms[0].get)\n",
    "total_rounds = d\n",
    "p = 1- all_histograms[0][winning_outcome]/total_rounds\n",
    "print(f\"p={p}\")"
   ]
  },
  {
   "cell_type": "markdown",
   "metadata": {},
   "source": [
    "### Computing the threshold\n",
    "The client should reject the outcome if the proportion of traps is above the following threshold $\\tau$"
   ]
  },
  {
   "cell_type": "code",
   "execution_count": 147,
   "metadata": {},
   "outputs": [
    {
     "name": "stdout",
     "output_type": "stream",
     "text": [
      "tau = 0.21231300345224396\n"
     ]
    }
   ],
   "source": [
    "k=2\n",
    "threshold = (1/k)*(2*p-1)/(2*p-2)\n",
    "print(f\"tau = {threshold}\")"
   ]
  },
  {
   "cell_type": "markdown",
   "metadata": {},
   "source": [
    "### Plotting the histograms (matplotlib)"
   ]
  },
  {
   "cell_type": "code",
   "execution_count": 7,
   "metadata": {},
   "outputs": [
    {
     "name": "stderr",
     "output_type": "stream",
     "text": [
      "/var/folders/n5/hv7xz3zn675bw8ckw4q5ll3cmp3czq/T/ipykernel_45813/519835164.py:10: MatplotlibDeprecationWarning: The get_cmap function was deprecated in Matplotlib 3.7 and will be removed in 3.11. Use ``matplotlib.colormaps[name]`` or ``matplotlib.colormaps.get_cmap()`` or ``pyplot.get_cmap()`` instead.\n",
      "  colormap = cm.get_cmap(colormap_name)\n"
     ]
    },
    {
     "data": {
      "image/png": "[encoded data removed]",
      "text/plain": [
       "<Figure size 1400x800 with 1 Axes>"
      ]
     },
     "metadata": {},
     "output_type": "display_data"
    }
   ],
   "source": [
    "# Plotting side-by-side bars with heatmap colors\n",
    "x = np.arange(len(all_outcomes))  # X positions for outcomes\n",
    "bar_width = 0.8 / len(p_values)  # Dynamic bar width based on the number of p values\n",
    "\n",
    "plt.figure(figsize=(14, 8))\n",
    "\n",
    "for idx, (p, histogram) in enumerate(all_histograms.items()):\n",
    "    frequencies = [histogram.get(outcome, 0) for outcome in all_outcomes]\n",
    "    color = get_heatmap_color(p+0.1)  # Get color based on p value\n",
    "    plt.bar(x + idx * bar_width, frequencies, bar_width, color=color, label=f'p={p}')\n",
    "\n",
    "plt.xlabel('Outcomes')\n",
    "plt.ylabel('Frequency')\n",
    "plt.title('Histogram of Outcomes for Different Noise Levels (BQP computation)')\n",
    "plt.xticks(x + bar_width * (len(p_values) - 1) / 2, all_outcomes, rotation=90)\n",
    "plt.legend()\n",
    "plt.show()\n"
   ]
  },
  {
   "cell_type": "markdown",
   "metadata": {},
   "source": [
    "### Plotting the results (plotly)"
   ]
  },
  {
   "cell_type": "code",
   "execution_count": 148,
   "metadata": {},
   "outputs": [
    {
     "data": {
      "application/vnd.plotly.v1+json": {
       "config": {
        "plotlyServerURL": "https://plot.ly"
       },
       "data": [
        {
         "name": "p=0",
         "type": "bar",
         "visible": true,
         "x": [
          "00",
          "01",
          "10",
          "11"
         ],
         "y": [
          869,
          0,
          131,
          0
         ]
        },
        {
         "name": "p=0.01",
         "type": "bar",
         "visible": false,
         "x": [
          "00",
          "01",
          "10",
          "11"
         ],
         "y": [
          829,
          8,
          156,
          7
         ]
        },
        {
         "name": "p=0.05",
         "type": "bar",
         "visible": false,
         "x": [
          "00",
          "01",
          "10",
          "11"
         ],
         "y": [
          772,
          30,
          168,
          30
         ]
        },
        {
         "name": "p=0.1",
         "type": "bar",
         "visible": false,
         "x": [
          "00",
          "01",
          "10",
          "11"
         ],
         "y": [
          655,
          72,
          193,
          80
         ]
        },
        {
         "name": "p=0.5",
         "type": "bar",
         "visible": false,
         "x": [
          "00",
          "01",
          "10",
          "11"
         ],
         "y": [
          313,
          216,
          265,
          206
         ]
        },
        {
         "name": "p=1",
         "type": "bar",
         "visible": false,
         "x": [
          "00",
          "01",
          "10",
          "11"
         ],
         "y": [
          239,
          270,
          256,
          235
         ]
        }
       ],
       "layout": {
        "barmode": "group",
        "template": {
         "data": {
          "bar": [
           {
            "error_x": {
             "color": "#2a3f5f"
            },
            "error_y": {
             "color": "#2a3f5f"
            },
            "marker": {
             "line": {
              "color": "#E5ECF6",
              "width": 0.5
             },
             "pattern": {
              "fillmode": "overlay",
              "size": 10,
              "solidity": 0.2
             }
            },
            "type": "bar"
           }
          ],
          "barpolar": [
           {
            "marker": {
             "line": {
              "color": "#E5ECF6",
              "width": 0.5
             },
             "pattern": {
              "fillmode": "overlay",
              "size": 10,
              "solidity": 0.2
             }
            },
            "type": "barpolar"
           }
          ],
          "carpet": [
           {
            "aaxis": {
             "endlinecolor": "#2a3f5f",
             "gridcolor": "white",
             "linecolor": "white",
             "minorgridcolor": "white",
             "startlinecolor": "#2a3f5f"
            },
            "baxis": {
             "endlinecolor": "#2a3f5f",
             "gridcolor": "white",
             "linecolor": "white",
             "minorgridcolor": "white",
             "startlinecolor": "#2a3f5f"
            },
            "type": "carpet"
           }
          ],
          "choropleth": [
           {
            "colorbar": {
             "outlinewidth": 0,
             "ticks": ""
            },
            "type": "choropleth"
           }
          ],
          "contour": [
           {
            "colorbar": {
             "outlinewidth": 0,
             "ticks": ""
            },
            "colorscale": [
             [
              0,
              "#0d0887"
             ],
             [
              0.1111111111111111,
              "#46039f"
             ],
             [
              0.2222222222222222,
              "#7201a8"
             ],
             [
              0.3333333333333333,
              "#9c179e"
             ],
             [
              0.4444444444444444,
              "#bd3786"
             ],
             [
              0.5555555555555556,
              "#d8576b"
             ],
             [
              0.6666666666666666,
              "#ed7953"
             ],
             [
              0.7777777777777778,
              "#fb9f3a"
             ],
             [
              0.8888888888888888,
              "#fdca26"
             ],
             [
              1,
              "#f0f921"
             ]
            ],
            "type": "contour"
           }
          ],
          "contourcarpet": [
           {
            "colorbar": {
             "outlinewidth": 0,
             "ticks": ""
            },
            "type": "contourcarpet"
           }
          ],
          "heatmap": [
           {
            "colorbar": {
             "outlinewidth": 0,
             "ticks": ""
            },
            "colorscale": [
             [
              0,
              "#0d0887"
             ],
             [
              0.1111111111111111,
              "#46039f"
             ],
             [
              0.2222222222222222,
              "#7201a8"
             ],
             [
              0.3333333333333333,
              "#9c179e"
             ],
             [
              0.4444444444444444,
              "#bd3786"
             ],
             [
              0.5555555555555556,
              "#d8576b"
             ],
             [
              0.6666666666666666,
              "#ed7953"
             ],
             [
              0.7777777777777778,
              "#fb9f3a"
             ],
             [
              0.8888888888888888,
              "#fdca26"
             ],
             [
              1,
              "#f0f921"
             ]
            ],
            "type": "heatmap"
           }
          ],
          "heatmapgl": [
           {
            "colorbar": {
             "outlinewidth": 0,
             "ticks": ""
            },
            "colorscale": [
             [
              0,
              "#0d0887"
             ],
             [
              0.1111111111111111,
              "#46039f"
             ],
             [
              0.2222222222222222,
              "#7201a8"
             ],
             [
              0.3333333333333333,
              "#9c179e"
             ],
             [
              0.4444444444444444,
              "#bd3786"
             ],
             [
              0.5555555555555556,
              "#d8576b"
             ],
             [
              0.6666666666666666,
              "#ed7953"
             ],
             [
              0.7777777777777778,
              "#fb9f3a"
             ],
             [
              0.8888888888888888,
              "#fdca26"
             ],
             [
              1,
              "#f0f921"
             ]
            ],
            "type": "heatmapgl"
           }
          ],
          "histogram": [
           {
            "marker": {
             "pattern": {
              "fillmode": "overlay",
              "size": 10,
              "solidity": 0.2
             }
            },
            "type": "histogram"
           }
          ],
          "histogram2d": [
           {
            "colorbar": {
             "outlinewidth": 0,
             "ticks": ""
            },
            "colorscale": [
             [
              0,
              "#0d0887"
             ],
             [
              0.1111111111111111,
              "#46039f"
             ],
             [
              0.2222222222222222,
              "#7201a8"
             ],
             [
              0.3333333333333333,
              "#9c179e"
             ],
             [
              0.4444444444444444,
              "#bd3786"
             ],
             [
              0.5555555555555556,
              "#d8576b"
             ],
             [
              0.6666666666666666,
              "#ed7953"
             ],
             [
              0.7777777777777778,
              "#fb9f3a"
             ],
             [
              0.8888888888888888,
              "#fdca26"
             ],
             [
              1,
              "#f0f921"
             ]
            ],
            "type": "histogram2d"
           }
          ],
          "histogram2dcontour": [
           {
            "colorbar": {
             "outlinewidth": 0,
             "ticks": ""
            },
            "colorscale": [
             [
              0,
              "#0d0887"
             ],
             [
              0.1111111111111111,
              "#46039f"
             ],
             [
              0.2222222222222222,
              "#7201a8"
             ],
             [
              0.3333333333333333,
              "#9c179e"
             ],
             [
              0.4444444444444444,
              "#bd3786"
             ],
             [
              0.5555555555555556,
              "#d8576b"
             ],
             [
              0.6666666666666666,
              "#ed7953"
             ],
             [
              0.7777777777777778,
              "#fb9f3a"
             ],
             [
              0.8888888888888888,
              "#fdca26"
             ],
             [
              1,
              "#f0f921"
             ]
            ],
            "type": "histogram2dcontour"
           }
          ],
          "mesh3d": [
           {
            "colorbar": {
             "outlinewidth": 0,
             "ticks": ""
            },
            "type": "mesh3d"
           }
          ],
          "parcoords": [
           {
            "line": {
             "colorbar": {
              "outlinewidth": 0,
              "ticks": ""
             }
            },
            "type": "parcoords"
           }
          ],
          "pie": [
           {
            "automargin": true,
            "type": "pie"
           }
          ],
          "scatter": [
           {
            "fillpattern": {
             "fillmode": "overlay",
             "size": 10,
             "solidity": 0.2
            },
            "type": "scatter"
           }
          ],
          "scatter3d": [
           {
            "line": {
             "colorbar": {
              "outlinewidth": 0,
              "ticks": ""
             }
            },
            "marker": {
             "colorbar": {
              "outlinewidth": 0,
              "ticks": ""
             }
            },
            "type": "scatter3d"
           }
          ],
          "scattercarpet": [
           {
            "marker": {
             "colorbar": {
              "outlinewidth": 0,
              "ticks": ""
             }
            },
            "type": "scattercarpet"
           }
          ],
          "scattergeo": [
           {
            "marker": {
             "colorbar": {
              "outlinewidth": 0,
              "ticks": ""
             }
            },
            "type": "scattergeo"
           }
          ],
          "scattergl": [
           {
            "marker": {
             "colorbar": {
              "outlinewidth": 0,
              "ticks": ""
             }
            },
            "type": "scattergl"
           }
          ],
          "scattermapbox": [
           {
            "marker": {
             "colorbar": {
              "outlinewidth": 0,
              "ticks": ""
             }
            },
            "type": "scattermapbox"
           }
          ],
          "scatterpolar": [
           {
            "marker": {
             "colorbar": {
              "outlinewidth": 0,
              "ticks": ""
             }
            },
            "type": "scatterpolar"
           }
          ],
          "scatterpolargl": [
           {
            "marker": {
             "colorbar": {
              "outlinewidth": 0,
              "ticks": ""
             }
            },
            "type": "scatterpolargl"
           }
          ],
          "scatterternary": [
           {
            "marker": {
             "colorbar": {
              "outlinewidth": 0,
              "ticks": ""
             }
            },
            "type": "scatterternary"
           }
          ],
          "surface": [
           {
            "colorbar": {
             "outlinewidth": 0,
             "ticks": ""
            },
            "colorscale": [
             [
              0,
              "#0d0887"
             ],
             [
              0.1111111111111111,
              "#46039f"
             ],
             [
              0.2222222222222222,
              "#7201a8"
             ],
             [
              0.3333333333333333,
              "#9c179e"
             ],
             [
              0.4444444444444444,
              "#bd3786"
             ],
             [
              0.5555555555555556,
              "#d8576b"
             ],
             [
              0.6666666666666666,
              "#ed7953"
             ],
             [
              0.7777777777777778,
              "#fb9f3a"
             ],
             [
              0.8888888888888888,
              "#fdca26"
             ],
             [
              1,
              "#f0f921"
             ]
            ],
            "type": "surface"
           }
          ],
          "table": [
           {
            "cells": {
             "fill": {
              "color": "#EBF0F8"
             },
             "line": {
              "color": "white"
             }
            },
            "header": {
             "fill": {
              "color": "#C8D4E3"
             },
             "line": {
              "color": "white"
             }
            },
            "type": "table"
           }
          ]
         },
         "layout": {
          "annotationdefaults": {
           "arrowcolor": "#2a3f5f",
           "arrowhead": 0,
           "arrowwidth": 1
          },
          "autotypenumbers": "strict",
          "coloraxis": {
           "colorbar": {
            "outlinewidth": 0,
            "ticks": ""
           }
          },
          "colorscale": {
           "diverging": [
            [
             0,
             "#8e0152"
            ],
            [
             0.1,
             "#c51b7d"
            ],
            [
             0.2,
             "#de77ae"
            ],
            [
             0.3,
             "#f1b6da"
            ],
            [
             0.4,
             "#fde0ef"
            ],
            [
             0.5,
             "#f7f7f7"
            ],
            [
             0.6,
             "#e6f5d0"
            ],
            [
             0.7,
             "#b8e186"
            ],
            [
             0.8,
             "#7fbc41"
            ],
            [
             0.9,
             "#4d9221"
            ],
            [
             1,
             "#276419"
            ]
           ],
           "sequential": [
            [
             0,
             "#0d0887"
            ],
            [
             0.1111111111111111,
             "#46039f"
            ],
            [
             0.2222222222222222,
             "#7201a8"
            ],
            [
             0.3333333333333333,
             "#9c179e"
            ],
            [
             0.4444444444444444,
             "#bd3786"
            ],
            [
             0.5555555555555556,
             "#d8576b"
            ],
            [
             0.6666666666666666,
             "#ed7953"
            ],
            [
             0.7777777777777778,
             "#fb9f3a"
            ],
            [
             0.8888888888888888,
             "#fdca26"
            ],
            [
             1,
             "#f0f921"
            ]
           ],
           "sequentialminus": [
            [
             0,
             "#0d0887"
            ],
            [
             0.1111111111111111,
             "#46039f"
            ],
            [
             0.2222222222222222,
             "#7201a8"
            ],
            [
             0.3333333333333333,
             "#9c179e"
            ],
            [
             0.4444444444444444,
             "#bd3786"
            ],
            [
             0.5555555555555556,
             "#d8576b"
            ],
            [
             0.6666666666666666,
             "#ed7953"
            ],
            [
             0.7777777777777778,
             "#fb9f3a"
            ],
            [
             0.8888888888888888,
             "#fdca26"
            ],
            [
             1,
             "#f0f921"
            ]
           ]
          },
          "colorway": [
           "#636efa",
           "#EF553B",
           "#00cc96",
           "#ab63fa",
           "#FFA15A",
           "#19d3f3",
           "#FF6692",
           "#B6E880",
           "#FF97FF",
           "#FECB52"
          ],
          "font": {
           "color": "#2a3f5f"
          },
          "geo": {
           "bgcolor": "white",
           "lakecolor": "white",
           "landcolor": "#E5ECF6",
           "showlakes": true,
           "showland": true,
           "subunitcolor": "white"
          },
          "hoverlabel": {
           "align": "left"
          },
          "hovermode": "closest",
          "mapbox": {
           "style": "light"
          },
          "paper_bgcolor": "white",
          "plot_bgcolor": "#E5ECF6",
          "polar": {
           "angularaxis": {
            "gridcolor": "white",
            "linecolor": "white",
            "ticks": ""
           },
           "bgcolor": "#E5ECF6",
           "radialaxis": {
            "gridcolor": "white",
            "linecolor": "white",
            "ticks": ""
           }
          },
          "scene": {
           "xaxis": {
            "backgroundcolor": "#E5ECF6",
            "gridcolor": "white",
            "gridwidth": 2,
            "linecolor": "white",
            "showbackground": true,
            "ticks": "",
            "zerolinecolor": "white"
           },
           "yaxis": {
            "backgroundcolor": "#E5ECF6",
            "gridcolor": "white",
            "gridwidth": 2,
            "linecolor": "white",
            "showbackground": true,
            "ticks": "",
            "zerolinecolor": "white"
           },
           "zaxis": {
            "backgroundcolor": "#E5ECF6",
            "gridcolor": "white",
            "gridwidth": 2,
            "linecolor": "white",
            "showbackground": true,
            "ticks": "",
            "zerolinecolor": "white"
           }
          },
          "shapedefaults": {
           "line": {
            "color": "#2a3f5f"
           }
          },
          "ternary": {
           "aaxis": {
            "gridcolor": "white",
            "linecolor": "white",
            "ticks": ""
           },
           "baxis": {
            "gridcolor": "white",
            "linecolor": "white",
            "ticks": ""
           },
           "bgcolor": "#E5ECF6",
           "caxis": {
            "gridcolor": "white",
            "linecolor": "white",
            "ticks": ""
           }
          },
          "title": {
           "x": 0.05
          },
          "xaxis": {
           "automargin": true,
           "gridcolor": "white",
           "linecolor": "white",
           "ticks": "",
           "title": {
            "standoff": 15
           },
           "zerolinecolor": "white",
           "zerolinewidth": 2
          },
          "yaxis": {
           "automargin": true,
           "gridcolor": "white",
           "linecolor": "white",
           "ticks": "",
           "title": {
            "standoff": 15
           },
           "zerolinecolor": "white",
           "zerolinewidth": 2
          }
         }
        },
        "title": {
         "text": "Interactive Histogram of Outcomes for Different Noise Levels"
        },
        "updatemenus": [
         {
          "buttons": [
           {
            "args": [
             {
              "visible": [
               true,
               false,
               false,
               false,
               false,
               false
              ]
             },
             {
              "title": "Interactive Histogram for p=0"
             }
            ],
            "label": "p=0",
            "method": "update"
           },
           {
            "args": [
             {
              "visible": [
               false,
               true,
               false,
               false,
               false,
               false
              ]
             },
             {
              "title": "Interactive Histogram for p=0.01"
             }
            ],
            "label": "p=0.01",
            "method": "update"
           },
           {
            "args": [
             {
              "visible": [
               false,
               false,
               true,
               false,
               false,
               false
              ]
             },
             {
              "title": "Interactive Histogram for p=0.05"
             }
            ],
            "label": "p=0.05",
            "method": "update"
           },
           {
            "args": [
             {
              "visible": [
               false,
               false,
               false,
               true,
               false,
               false
              ]
             },
             {
              "title": "Interactive Histogram for p=0.1"
             }
            ],
            "label": "p=0.1",
            "method": "update"
           },
           {
            "args": [
             {
              "visible": [
               false,
               false,
               false,
               false,
               true,
               false
              ]
             },
             {
              "title": "Interactive Histogram for p=0.5"
             }
            ],
            "label": "p=0.5",
            "method": "update"
           },
           {
            "args": [
             {
              "visible": [
               false,
               false,
               false,
               false,
               false,
               true
              ]
             },
             {
              "title": "Interactive Histogram for p=1"
             }
            ],
            "label": "p=1",
            "method": "update"
           },
           {
            "args": [
             {
              "visible": [
               true,
               true,
               true,
               true,
               true,
               true
              ]
             },
             {
              "title": "Interactive Histogram of Outcomes for Different Noise Levels"
             }
            ],
            "label": "Show All",
            "method": "update"
           }
          ],
          "showactive": true,
          "type": "buttons"
         }
        ],
        "xaxis": {
         "title": {
          "text": "Outcomes"
         }
        },
        "yaxis": {
         "title": {
          "text": "Frequency"
         }
        }
       }
      }
     },
     "metadata": {},
     "output_type": "display_data"
    }
   ],
   "source": [
    "import plotly.graph_objects as go\n",
    "\n",
    "# Initialize the figure\n",
    "fig = go.Figure()\n",
    "\n",
    "# Store the p values in a list to access them by index in buttons\n",
    "p_values = list(all_histograms.keys())\n",
    "\n",
    "# Add histograms for different 'p' values\n",
    "for p, histogram in all_histograms.items():\n",
    "    frequencies = [histogram.get(outcome, 0) for outcome in all_outcomes]\n",
    "    fig.add_trace(\n",
    "        go.Bar(\n",
    "            x=all_outcomes,\n",
    "            y=frequencies,\n",
    "            name=f'p={p}',  # Legend label\n",
    "            visible=(p == 0)  # Only p=0 is visible by default\n",
    "        )\n",
    "    )\n",
    "\n",
    "# Custom buttons to toggle visibility based on p values\n",
    "buttons = []\n",
    "\n",
    "for i, p in enumerate(p_values):\n",
    "    buttons.append(\n",
    "        dict(\n",
    "            label=f\"p={p}\",\n",
    "            method=\"update\",\n",
    "            args=[\n",
    "                {\"visible\": [j == i for j in range(len(p_values))]},  # Toggle visibility\n",
    "                {\"title\": f\"Interactive Histogram for p={p}\"},  # Update title\n",
    "            ],\n",
    "        )\n",
    "    )\n",
    "\n",
    "# Add reset button to show all traces\n",
    "buttons.append(\n",
    "    dict(\n",
    "        label=\"Show All\",\n",
    "        method=\"update\",\n",
    "        args=[\n",
    "            {\"visible\": [True] * len(p_values)},\n",
    "            {\"title\": \"Interactive Histogram of Outcomes for Different Noise Levels\"},\n",
    "        ],\n",
    "    )\n",
    ")\n",
    "\n",
    "# Add buttons to layout\n",
    "fig.update_layout(\n",
    "    title=\"Interactive Histogram of Outcomes for Different Noise Levels\",\n",
    "    xaxis_title=\"Outcomes\",\n",
    "    yaxis_title=\"Frequency\",\n",
    "    barmode='group',  # Bars side by side\n",
    "    updatemenus=[dict(type=\"buttons\", showactive=True, buttons=buttons)]\n",
    ")\n",
    "\n",
    "# Display the plot\n",
    "fig.show()\n"
   ]
  },
  {
   "cell_type": "markdown",
   "metadata": {},
   "source": [
    "### Do we accept these outcomes ???"
   ]
  },
  {
   "cell_type": "code",
   "execution_count": 149,
   "metadata": {},
   "outputs": [
    {
     "data": {
      "application/vnd.plotly.v1+json": {
       "config": {
        "plotlyServerURL": "https://plot.ly"
       },
       "data": [
        {
         "labels": [
          "Failed traps",
          "Passed traps"
         ],
         "marker": {
          "colors": [
           "#EF553B",
           "#a5ff33"
          ]
         },
         "name": "Key: 0",
         "type": "pie",
         "values": [
          0,
          1
         ],
         "visible": true
        },
        {
         "labels": [
          "Failed traps",
          "Passed traps"
         ],
         "marker": {
          "colors": [
           "#EF553B",
           "#a5ff33"
          ]
         },
         "name": "Key: 0.01",
         "type": "pie",
         "values": [
          0.039,
          0.961
         ],
         "visible": true
        },
        {
         "labels": [
          "Failed traps",
          "Passed traps"
         ],
         "marker": {
          "colors": [
           "#EF553B",
           "#a5ff33"
          ]
         },
         "name": "Key: 0.05",
         "type": "pie",
         "values": [
          0.141,
          0.859
         ],
         "visible": true
        },
        {
         "labels": [
          "Failed traps",
          "Passed traps"
         ],
         "marker": {
          "colors": [
           "#EF553B",
           "#a5ff33"
          ]
         },
         "name": "Key: 0.1",
         "type": "pie",
         "values": [
          0.254,
          0.746
         ],
         "visible": true
        },
        {
         "labels": [
          "Failed traps",
          "Passed traps"
         ],
         "marker": {
          "colors": [
           "#EF553B",
           "#a5ff33"
          ]
         },
         "name": "Key: 0.5",
         "type": "pie",
         "values": [
          0.77,
          0.22999999999999998
         ],
         "visible": true
        },
        {
         "labels": [
          "Failed traps",
          "Passed traps"
         ],
         "marker": {
          "colors": [
           "#EF553B",
           "#a5ff33"
          ]
         },
         "name": "Key: 1",
         "type": "pie",
         "values": [
          0.848,
          0.15200000000000002
         ],
         "visible": true
        }
       ],
       "layout": {
        "template": {
         "data": {
          "bar": [
           {
            "error_x": {
             "color": "#2a3f5f"
            },
            "error_y": {
             "color": "#2a3f5f"
            },
            "marker": {
             "line": {
              "color": "#E5ECF6",
              "width": 0.5
             },
             "pattern": {
              "fillmode": "overlay",
              "size": 10,
              "solidity": 0.2
             }
            },
            "type": "bar"
           }
          ],
          "barpolar": [
           {
            "marker": {
             "line": {
              "color": "#E5ECF6",
              "width": 0.5
             },
             "pattern": {
              "fillmode": "overlay",
              "size": 10,
              "solidity": 0.2
             }
            },
            "type": "barpolar"
           }
          ],
          "carpet": [
           {
            "aaxis": {
             "endlinecolor": "#2a3f5f",
             "gridcolor": "white",
             "linecolor": "white",
             "minorgridcolor": "white",
             "startlinecolor": "#2a3f5f"
            },
            "baxis": {
             "endlinecolor": "#2a3f5f",
             "gridcolor": "white",
             "linecolor": "white",
             "minorgridcolor": "white",
             "startlinecolor": "#2a3f5f"
            },
            "type": "carpet"
           }
          ],
          "choropleth": [
           {
            "colorbar": {
             "outlinewidth": 0,
             "ticks": ""
            },
            "type": "choropleth"
           }
          ],
          "contour": [
           {
            "colorbar": {
             "outlinewidth": 0,
             "ticks": ""
            },
            "colorscale": [
             [
              0,
              "#0d0887"
             ],
             [
              0.1111111111111111,
              "#46039f"
             ],
             [
              0.2222222222222222,
              "#7201a8"
             ],
             [
              0.3333333333333333,
              "#9c179e"
             ],
             [
              0.4444444444444444,
              "#bd3786"
             ],
             [
              0.5555555555555556,
              "#d8576b"
             ],
             [
              0.6666666666666666,
              "#ed7953"
             ],
             [
              0.7777777777777778,
              "#fb9f3a"
             ],
             [
              0.8888888888888888,
              "#fdca26"
             ],
             [
              1,
              "#f0f921"
             ]
            ],
            "type": "contour"
           }
          ],
          "contourcarpet": [
           {
            "colorbar": {
             "outlinewidth": 0,
             "ticks": ""
            },
            "type": "contourcarpet"
           }
          ],
          "heatmap": [
           {
            "colorbar": {
             "outlinewidth": 0,
             "ticks": ""
            },
            "colorscale": [
             [
              0,
              "#0d0887"
             ],
             [
              0.1111111111111111,
              "#46039f"
             ],
             [
              0.2222222222222222,
              "#7201a8"
             ],
             [
              0.3333333333333333,
              "#9c179e"
             ],
             [
              0.4444444444444444,
              "#bd3786"
             ],
             [
              0.5555555555555556,
              "#d8576b"
             ],
             [
              0.6666666666666666,
              "#ed7953"
             ],
             [
              0.7777777777777778,
              "#fb9f3a"
             ],
             [
              0.8888888888888888,
              "#fdca26"
             ],
             [
              1,
              "#f0f921"
             ]
            ],
            "type": "heatmap"
           }
          ],
          "heatmapgl": [
           {
            "colorbar": {
             "outlinewidth": 0,
             "ticks": ""
            },
            "colorscale": [
             [
              0,
              "#0d0887"
             ],
             [
              0.1111111111111111,
              "#46039f"
             ],
             [
              0.2222222222222222,
              "#7201a8"
             ],
             [
              0.3333333333333333,
              "#9c179e"
             ],
             [
              0.4444444444444444,
              "#bd3786"
             ],
             [
              0.5555555555555556,
              "#d8576b"
             ],
             [
              0.6666666666666666,
              "#ed7953"
             ],
             [
              0.7777777777777778,
              "#fb9f3a"
             ],
             [
              0.8888888888888888,
              "#fdca26"
             ],
             [
              1,
              "#f0f921"
             ]
            ],
            "type": "heatmapgl"
           }
          ],
          "histogram": [
           {
            "marker": {
             "pattern": {
              "fillmode": "overlay",
              "size": 10,
              "solidity": 0.2
             }
            },
            "type": "histogram"
           }
          ],
          "histogram2d": [
           {
            "colorbar": {
             "outlinewidth": 0,
             "ticks": ""
            },
            "colorscale": [
             [
              0,
              "#0d0887"
             ],
             [
              0.1111111111111111,
              "#46039f"
             ],
             [
              0.2222222222222222,
              "#7201a8"
             ],
             [
              0.3333333333333333,
              "#9c179e"
             ],
             [
              0.4444444444444444,
              "#bd3786"
             ],
             [
              0.5555555555555556,
              "#d8576b"
             ],
             [
              0.6666666666666666,
              "#ed7953"
             ],
             [
              0.7777777777777778,
              "#fb9f3a"
             ],
             [
              0.8888888888888888,
              "#fdca26"
             ],
             [
              1,
              "#f0f921"
             ]
            ],
            "type": "histogram2d"
           }
          ],
          "histogram2dcontour": [
           {
            "colorbar": {
             "outlinewidth": 0,
             "ticks": ""
            },
            "colorscale": [
             [
              0,
              "#0d0887"
             ],
             [
              0.1111111111111111,
              "#46039f"
             ],
             [
              0.2222222222222222,
              "#7201a8"
             ],
             [
              0.3333333333333333,
              "#9c179e"
             ],
             [
              0.4444444444444444,
              "#bd3786"
             ],
             [
              0.5555555555555556,
              "#d8576b"
             ],
             [
              0.6666666666666666,
              "#ed7953"
             ],
             [
              0.7777777777777778,
              "#fb9f3a"
             ],
             [
              0.8888888888888888,
              "#fdca26"
             ],
             [
              1,
              "#f0f921"
             ]
            ],
            "type": "histogram2dcontour"
           }
          ],
          "mesh3d": [
           {
            "colorbar": {
             "outlinewidth": 0,
             "ticks": ""
            },
            "type": "mesh3d"
           }
          ],
          "parcoords": [
           {
            "line": {
             "colorbar": {
              "outlinewidth": 0,
              "ticks": ""
             }
            },
            "type": "parcoords"
           }
          ],
          "pie": [
           {
            "automargin": true,
            "type": "pie"
           }
          ],
          "scatter": [
           {
            "fillpattern": {
             "fillmode": "overlay",
             "size": 10,
             "solidity": 0.2
            },
            "type": "scatter"
           }
          ],
          "scatter3d": [
           {
            "line": {
             "colorbar": {
              "outlinewidth": 0,
              "ticks": ""
             }
            },
            "marker": {
             "colorbar": {
              "outlinewidth": 0,
              "ticks": ""
             }
            },
            "type": "scatter3d"
           }
          ],
          "scattercarpet": [
           {
            "marker": {
             "colorbar": {
              "outlinewidth": 0,
              "ticks": ""
             }
            },
            "type": "scattercarpet"
           }
          ],
          "scattergeo": [
           {
            "marker": {
             "colorbar": {
              "outlinewidth": 0,
              "ticks": ""
             }
            },
            "type": "scattergeo"
           }
          ],
          "scattergl": [
           {
            "marker": {
             "colorbar": {
              "outlinewidth": 0,
              "ticks": ""
             }
            },
            "type": "scattergl"
           }
          ],
          "scattermapbox": [
           {
            "marker": {
             "colorbar": {
              "outlinewidth": 0,
              "ticks": ""
             }
            },
            "type": "scattermapbox"
           }
          ],
          "scatterpolar": [
           {
            "marker": {
             "colorbar": {
              "outlinewidth": 0,
              "ticks": ""
             }
            },
            "type": "scatterpolar"
           }
          ],
          "scatterpolargl": [
           {
            "marker": {
             "colorbar": {
              "outlinewidth": 0,
              "ticks": ""
             }
            },
            "type": "scatterpolargl"
           }
          ],
          "scatterternary": [
           {
            "marker": {
             "colorbar": {
              "outlinewidth": 0,
              "ticks": ""
             }
            },
            "type": "scatterternary"
           }
          ],
          "surface": [
           {
            "colorbar": {
             "outlinewidth": 0,
             "ticks": ""
            },
            "colorscale": [
             [
              0,
              "#0d0887"
             ],
             [
              0.1111111111111111,
              "#46039f"
             ],
             [
              0.2222222222222222,
              "#7201a8"
             ],
             [
              0.3333333333333333,
              "#9c179e"
             ],
             [
              0.4444444444444444,
              "#bd3786"
             ],
             [
              0.5555555555555556,
              "#d8576b"
             ],
             [
              0.6666666666666666,
              "#ed7953"
             ],
             [
              0.7777777777777778,
              "#fb9f3a"
             ],
             [
              0.8888888888888888,
              "#fdca26"
             ],
             [
              1,
              "#f0f921"
             ]
            ],
            "type": "surface"
           }
          ],
          "table": [
           {
            "cells": {
             "fill": {
              "color": "#EBF0F8"
             },
             "line": {
              "color": "white"
             }
            },
            "header": {
             "fill": {
              "color": "#C8D4E3"
             },
             "line": {
              "color": "white"
             }
            },
            "type": "table"
           }
          ]
         },
         "layout": {
          "annotationdefaults": {
           "arrowcolor": "#2a3f5f",
           "arrowhead": 0,
           "arrowwidth": 1
          },
          "autotypenumbers": "strict",
          "coloraxis": {
           "colorbar": {
            "outlinewidth": 0,
            "ticks": ""
           }
          },
          "colorscale": {
           "diverging": [
            [
             0,
             "#8e0152"
            ],
            [
             0.1,
             "#c51b7d"
            ],
            [
             0.2,
             "#de77ae"
            ],
            [
             0.3,
             "#f1b6da"
            ],
            [
             0.4,
             "#fde0ef"
            ],
            [
             0.5,
             "#f7f7f7"
            ],
            [
             0.6,
             "#e6f5d0"
            ],
            [
             0.7,
             "#b8e186"
            ],
            [
             0.8,
             "#7fbc41"
            ],
            [
             0.9,
             "#4d9221"
            ],
            [
             1,
             "#276419"
            ]
           ],
           "sequential": [
            [
             0,
             "#0d0887"
            ],
            [
             0.1111111111111111,
             "#46039f"
            ],
            [
             0.2222222222222222,
             "#7201a8"
            ],
            [
             0.3333333333333333,
             "#9c179e"
            ],
            [
             0.4444444444444444,
             "#bd3786"
            ],
            [
             0.5555555555555556,
             "#d8576b"
            ],
            [
             0.6666666666666666,
             "#ed7953"
            ],
            [
             0.7777777777777778,
             "#fb9f3a"
            ],
            [
             0.8888888888888888,
             "#fdca26"
            ],
            [
             1,
             "#f0f921"
            ]
           ],
           "sequentialminus": [
            [
             0,
             "#0d0887"
            ],
            [
             0.1111111111111111,
             "#46039f"
            ],
            [
             0.2222222222222222,
             "#7201a8"
            ],
            [
             0.3333333333333333,
             "#9c179e"
            ],
            [
             0.4444444444444444,
             "#bd3786"
            ],
            [
             0.5555555555555556,
             "#d8576b"
            ],
            [
             0.6666666666666666,
             "#ed7953"
            ],
            [
             0.7777777777777778,
             "#fb9f3a"
            ],
            [
             0.8888888888888888,
             "#fdca26"
            ],
            [
             1,
             "#f0f921"
            ]
           ]
          },
          "colorway": [
           "#636efa",
           "#EF553B",
           "#00cc96",
           "#ab63fa",
           "#FFA15A",
           "#19d3f3",
           "#FF6692",
           "#B6E880",
           "#FF97FF",
           "#FECB52"
          ],
          "font": {
           "color": "#2a3f5f"
          },
          "geo": {
           "bgcolor": "white",
           "lakecolor": "white",
           "landcolor": "#E5ECF6",
           "showlakes": true,
           "showland": true,
           "subunitcolor": "white"
          },
          "hoverlabel": {
           "align": "left"
          },
          "hovermode": "closest",
          "mapbox": {
           "style": "light"
          },
          "paper_bgcolor": "white",
          "plot_bgcolor": "#E5ECF6",
          "polar": {
           "angularaxis": {
            "gridcolor": "white",
            "linecolor": "white",
            "ticks": ""
           },
           "bgcolor": "#E5ECF6",
           "radialaxis": {
            "gridcolor": "white",
            "linecolor": "white",
            "ticks": ""
           }
          },
          "scene": {
           "xaxis": {
            "backgroundcolor": "#E5ECF6",
            "gridcolor": "white",
            "gridwidth": 2,
            "linecolor": "white",
            "showbackground": true,
            "ticks": "",
            "zerolinecolor": "white"
           },
           "yaxis": {
            "backgroundcolor": "#E5ECF6",
            "gridcolor": "white",
            "gridwidth": 2,
            "linecolor": "white",
            "showbackground": true,
            "ticks": "",
            "zerolinecolor": "white"
           },
           "zaxis": {
            "backgroundcolor": "#E5ECF6",
            "gridcolor": "white",
            "gridwidth": 2,
            "linecolor": "white",
            "showbackground": true,
            "ticks": "",
            "zerolinecolor": "white"
           }
          },
          "shapedefaults": {
           "line": {
            "color": "#2a3f5f"
           }
          },
          "ternary": {
           "aaxis": {
            "gridcolor": "white",
            "linecolor": "white",
            "ticks": ""
           },
           "baxis": {
            "gridcolor": "white",
            "linecolor": "white",
            "ticks": ""
           },
           "bgcolor": "#E5ECF6",
           "caxis": {
            "gridcolor": "white",
            "linecolor": "white",
            "ticks": ""
           }
          },
          "title": {
           "x": 0.05
          },
          "xaxis": {
           "automargin": true,
           "gridcolor": "white",
           "linecolor": "white",
           "ticks": "",
           "title": {
            "standoff": 15
           },
           "zerolinecolor": "white",
           "zerolinewidth": 2
          },
          "yaxis": {
           "automargin": true,
           "gridcolor": "white",
           "linecolor": "white",
           "ticks": "",
           "title": {
            "standoff": 15
           },
           "zerolinecolor": "white",
           "zerolinewidth": 2
          }
         }
        },
        "updatemenus": [
         {
          "buttons": [
           {
            "args": [
             {
              "visible": [
               true,
               false,
               false,
               false,
               false,
               false
              ]
             }
            ],
            "label": "p= 0",
            "method": "update"
           },
           {
            "args": [
             {
              "visible": [
               false,
               true,
               false,
               false,
               false,
               false
              ]
             }
            ],
            "label": "p= 0.01",
            "method": "update"
           },
           {
            "args": [
             {
              "visible": [
               false,
               false,
               true,
               false,
               false,
               false
              ]
             }
            ],
            "label": "p= 0.05",
            "method": "update"
           },
           {
            "args": [
             {
              "visible": [
               false,
               false,
               false,
               true,
               false,
               false
              ]
             }
            ],
            "label": "p= 0.1",
            "method": "update"
           },
           {
            "args": [
             {
              "visible": [
               false,
               false,
               false,
               false,
               true,
               false
              ]
             }
            ],
            "label": "p= 0.5",
            "method": "update"
           },
           {
            "args": [
             {
              "visible": [
               false,
               false,
               false,
               false,
               false,
               true
              ]
             }
            ],
            "label": "p= 1",
            "method": "update"
           }
          ],
          "direction": "right",
          "type": "buttons",
          "x": 0.5,
          "xanchor": "center",
          "y": 1.2,
          "yanchor": "top"
         }
        ]
       }
      }
     },
     "metadata": {},
     "output_type": "display_data"
    }
   ],
   "source": [
    "# Define consistent colors for the pie chart segments\n",
    "colors = ['#EF553B', '#a5ff33']  # Blue for 'Value', Red for 'Remaining'\n",
    "\n",
    "# Create a list of pie chart traces\n",
    "fig = go.Figure()\n",
    "\n",
    "for key, value in failed_traps_histograms.items():\n",
    "    fig.add_trace(go.Pie(\n",
    "        labels=['Failed traps', 'Passed traps'],\n",
    "        values=[value, 1 - value],\n",
    "        marker=dict(colors=colors),\n",
    "        name=f'Key: {key}'\n",
    "    ))\n",
    "\n",
    "# Create fixed buttons for each pie chart\n",
    "fig.update_layout(\n",
    "    updatemenus=[\n",
    "        {\n",
    "            'type': 'buttons',\n",
    "            'direction': 'right',\n",
    "            'x': 0.5,  # Position the buttons in the center horizontally\n",
    "            'y': 1.2,  # Position above the chart\n",
    "            'xanchor': 'center',\n",
    "            'yanchor': 'top',\n",
    "            'buttons': [\n",
    "                {\n",
    "                    'label': f'p= {key}',\n",
    "                    'method': 'update',\n",
    "                    'args': [{'visible': [i == idx for i in range(len(failed_traps_histograms))]}]\n",
    "                }\n",
    "                for idx, key in enumerate(failed_traps_histograms)\n",
    "            ]\n",
    "        }\n",
    "    ]\n",
    ")\n",
    "\n",
    "# Set initial visibility (show only the first chart by default)\n",
    "initial_visibility = [True] + [False] * (len(failed_traps_histograms) - 1)\n",
    "fig.update_traces(visible=initial_visibility[0])\n",
    "\n",
    "fig.show()"
   ]
  }
 ],
 "metadata": {
  "kernelspec": {
   "display_name": ".venv",
   "language": "python",
   "name": "python3"
  },
  "language_info": {
   "codemirror_mode": {
    "name": "ipython",
    "version": 3
   },
   "file_extension": ".py",
   "mimetype": "text/x-python",
   "name": "python",
   "nbconvert_exporter": "python",
   "pygments_lexer": "ipython3",
   "version": "3.12.4"
  }
 },
 "nbformat": 4,
 "nbformat_minor": 2
}
